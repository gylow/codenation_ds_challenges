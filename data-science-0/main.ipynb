{
 "cells": [
  {
   "cell_type": "markdown",
   "metadata": {},
   "source": [
    "# Desafio 1\n",
    "\n",
    "Para esse desafio, vamos trabalhar com o data set [Black Friday](https://www.kaggle.com/mehdidag/black-friday), que reúne dados sobre transações de compras em uma loja de varejo.\n",
    "\n",
    "Vamos utilizá-lo para praticar a exploração de data sets utilizando pandas. Você pode fazer toda análise neste mesmo notebook, mas as resposta devem estar nos locais indicados.\n",
    "\n",
    "> Obs.: Por favor, não modifique o nome das funções de resposta."
   ]
  },
  {
   "cell_type": "markdown",
   "metadata": {},
   "source": [
    "## _Set up_ da análise"
   ]
  },
  {
   "cell_type": "code",
   "execution_count": 1,
   "metadata": {},
   "outputs": [],
   "source": [
    "import pandas as pd\n",
    "import numpy as np"
   ]
  },
  {
   "cell_type": "code",
   "execution_count": 2,
   "metadata": {},
   "outputs": [],
   "source": [
    "black_friday = pd.read_csv(\"black_friday.csv\")"
   ]
  },
  {
   "cell_type": "markdown",
   "metadata": {},
   "source": [
    "## Inicie sua análise a partir daqui"
   ]
  },
  {
   "cell_type": "code",
   "execution_count": 3,
   "metadata": {},
   "outputs": [
    {
     "output_type": "execute_result",
     "data": {
      "text/plain": "(537577, 12)"
     },
     "metadata": {},
     "execution_count": 3
    }
   ],
   "source": [
    "black_friday.shape"
   ]
  },
  {
   "cell_type": "code",
   "execution_count": 79,
   "metadata": {},
   "outputs": [
    {
     "output_type": "execute_result",
     "data": {
      "text/plain": "        User_ID Product_ID Gender    Age  Occupation City_Category  \\\n0       1000001  P00069042      F   0-17          10             A   \n1       1000001  P00248942      F   0-17          10             A   \n2       1000001  P00087842      F   0-17          10             A   \n3       1000001  P00085442      F   0-17          10             A   \n4       1000002  P00285442      M    55+          16             C   \n...         ...        ...    ...    ...         ...           ...   \n537572  1004737  P00193542      M  36-45          16             C   \n537573  1004737  P00111142      M  36-45          16             C   \n537574  1004737  P00345942      M  36-45          16             C   \n537575  1004737  P00285842      M  36-45          16             C   \n537576  1004737  P00118242      M  36-45          16             C   \n\n       Stay_In_Current_City_Years  Marital_Status  Product_Category_1  \\\n0                               2               0                   3   \n1                               2               0                   1   \n2                               2               0                  12   \n3                               2               0                  12   \n4                              4+               0                   8   \n...                           ...             ...                 ...   \n537572                          1               0                   1   \n537573                          1               0                   1   \n537574                          1               0                   8   \n537575                          1               0                   5   \n537576                          1               0                   5   \n\n        Product_Category_2  Product_Category_3  Purchase  \n0                      NaN                 NaN      8370  \n1                      6.0                14.0     15200  \n2                      NaN                 NaN      1422  \n3                     14.0                 NaN      1057  \n4                      NaN                 NaN      7969  \n...                    ...                 ...       ...  \n537572                 2.0                 NaN     11664  \n537573                15.0                16.0     19196  \n537574                15.0                 NaN      8043  \n537575                 NaN                 NaN      7172  \n537576                 8.0                 NaN      6875  \n\n[537577 rows x 12 columns]",
      "text/html": "<div>\n<style scoped>\n    .dataframe tbody tr th:only-of-type {\n        vertical-align: middle;\n    }\n\n    .dataframe tbody tr th {\n        vertical-align: top;\n    }\n\n    .dataframe thead th {\n        text-align: right;\n    }\n</style>\n<table border=\"1\" class=\"dataframe\">\n  <thead>\n    <tr style=\"text-align: right;\">\n      <th></th>\n      <th>User_ID</th>\n      <th>Product_ID</th>\n      <th>Gender</th>\n      <th>Age</th>\n      <th>Occupation</th>\n      <th>City_Category</th>\n      <th>Stay_In_Current_City_Years</th>\n      <th>Marital_Status</th>\n      <th>Product_Category_1</th>\n      <th>Product_Category_2</th>\n      <th>Product_Category_3</th>\n      <th>Purchase</th>\n    </tr>\n  </thead>\n  <tbody>\n    <tr>\n      <th>0</th>\n      <td>1000001</td>\n      <td>P00069042</td>\n      <td>F</td>\n      <td>0-17</td>\n      <td>10</td>\n      <td>A</td>\n      <td>2</td>\n      <td>0</td>\n      <td>3</td>\n      <td>NaN</td>\n      <td>NaN</td>\n      <td>8370</td>\n    </tr>\n    <tr>\n      <th>1</th>\n      <td>1000001</td>\n      <td>P00248942</td>\n      <td>F</td>\n      <td>0-17</td>\n      <td>10</td>\n      <td>A</td>\n      <td>2</td>\n      <td>0</td>\n      <td>1</td>\n      <td>6.0</td>\n      <td>14.0</td>\n      <td>15200</td>\n    </tr>\n    <tr>\n      <th>2</th>\n      <td>1000001</td>\n      <td>P00087842</td>\n      <td>F</td>\n      <td>0-17</td>\n      <td>10</td>\n      <td>A</td>\n      <td>2</td>\n      <td>0</td>\n      <td>12</td>\n      <td>NaN</td>\n      <td>NaN</td>\n      <td>1422</td>\n    </tr>\n    <tr>\n      <th>3</th>\n      <td>1000001</td>\n      <td>P00085442</td>\n      <td>F</td>\n      <td>0-17</td>\n      <td>10</td>\n      <td>A</td>\n      <td>2</td>\n      <td>0</td>\n      <td>12</td>\n      <td>14.0</td>\n      <td>NaN</td>\n      <td>1057</td>\n    </tr>\n    <tr>\n      <th>4</th>\n      <td>1000002</td>\n      <td>P00285442</td>\n      <td>M</td>\n      <td>55+</td>\n      <td>16</td>\n      <td>C</td>\n      <td>4+</td>\n      <td>0</td>\n      <td>8</td>\n      <td>NaN</td>\n      <td>NaN</td>\n      <td>7969</td>\n    </tr>\n    <tr>\n      <th>...</th>\n      <td>...</td>\n      <td>...</td>\n      <td>...</td>\n      <td>...</td>\n      <td>...</td>\n      <td>...</td>\n      <td>...</td>\n      <td>...</td>\n      <td>...</td>\n      <td>...</td>\n      <td>...</td>\n      <td>...</td>\n    </tr>\n    <tr>\n      <th>537572</th>\n      <td>1004737</td>\n      <td>P00193542</td>\n      <td>M</td>\n      <td>36-45</td>\n      <td>16</td>\n      <td>C</td>\n      <td>1</td>\n      <td>0</td>\n      <td>1</td>\n      <td>2.0</td>\n      <td>NaN</td>\n      <td>11664</td>\n    </tr>\n    <tr>\n      <th>537573</th>\n      <td>1004737</td>\n      <td>P00111142</td>\n      <td>M</td>\n      <td>36-45</td>\n      <td>16</td>\n      <td>C</td>\n      <td>1</td>\n      <td>0</td>\n      <td>1</td>\n      <td>15.0</td>\n      <td>16.0</td>\n      <td>19196</td>\n    </tr>\n    <tr>\n      <th>537574</th>\n      <td>1004737</td>\n      <td>P00345942</td>\n      <td>M</td>\n      <td>36-45</td>\n      <td>16</td>\n      <td>C</td>\n      <td>1</td>\n      <td>0</td>\n      <td>8</td>\n      <td>15.0</td>\n      <td>NaN</td>\n      <td>8043</td>\n    </tr>\n    <tr>\n      <th>537575</th>\n      <td>1004737</td>\n      <td>P00285842</td>\n      <td>M</td>\n      <td>36-45</td>\n      <td>16</td>\n      <td>C</td>\n      <td>1</td>\n      <td>0</td>\n      <td>5</td>\n      <td>NaN</td>\n      <td>NaN</td>\n      <td>7172</td>\n    </tr>\n    <tr>\n      <th>537576</th>\n      <td>1004737</td>\n      <td>P00118242</td>\n      <td>M</td>\n      <td>36-45</td>\n      <td>16</td>\n      <td>C</td>\n      <td>1</td>\n      <td>0</td>\n      <td>5</td>\n      <td>8.0</td>\n      <td>NaN</td>\n      <td>6875</td>\n    </tr>\n  </tbody>\n</table>\n<p>537577 rows × 12 columns</p>\n</div>"
     },
     "metadata": {},
     "execution_count": 79
    }
   ],
   "source": [
    "black_friday"
   ]
  },
  {
   "cell_type": "code",
   "execution_count": 5,
   "metadata": {},
   "outputs": [
    {
     "output_type": "execute_result",
     "data": {
      "text/plain": "            User_ID    Occupation  Marital_Status  Product_Category_1  \\\ncount  5.375770e+05  537577.00000   537577.000000       537577.000000   \nmean   1.002992e+06       8.08271        0.408797            5.295546   \nstd    1.714393e+03       6.52412        0.491612            3.750701   \nmin    1.000001e+06       0.00000        0.000000            1.000000   \n25%    1.001495e+06       2.00000        0.000000            1.000000   \n50%    1.003031e+06       7.00000        0.000000            5.000000   \n75%    1.004417e+06      14.00000        1.000000            8.000000   \nmax    1.006040e+06      20.00000        1.000000           18.000000   \n\n       Product_Category_2  Product_Category_3       Purchase  \ncount       370591.000000       164278.000000  537577.000000  \nmean             9.842144           12.669840    9333.859853  \nstd              5.087259            4.124341    4981.022133  \nmin              2.000000            3.000000     185.000000  \n25%              5.000000            9.000000    5866.000000  \n50%              9.000000           14.000000    8062.000000  \n75%             15.000000           16.000000   12073.000000  \nmax             18.000000           18.000000   23961.000000  ",
      "text/html": "<div>\n<style scoped>\n    .dataframe tbody tr th:only-of-type {\n        vertical-align: middle;\n    }\n\n    .dataframe tbody tr th {\n        vertical-align: top;\n    }\n\n    .dataframe thead th {\n        text-align: right;\n    }\n</style>\n<table border=\"1\" class=\"dataframe\">\n  <thead>\n    <tr style=\"text-align: right;\">\n      <th></th>\n      <th>User_ID</th>\n      <th>Occupation</th>\n      <th>Marital_Status</th>\n      <th>Product_Category_1</th>\n      <th>Product_Category_2</th>\n      <th>Product_Category_3</th>\n      <th>Purchase</th>\n    </tr>\n  </thead>\n  <tbody>\n    <tr>\n      <th>count</th>\n      <td>5.375770e+05</td>\n      <td>537577.00000</td>\n      <td>537577.000000</td>\n      <td>537577.000000</td>\n      <td>370591.000000</td>\n      <td>164278.000000</td>\n      <td>537577.000000</td>\n    </tr>\n    <tr>\n      <th>mean</th>\n      <td>1.002992e+06</td>\n      <td>8.08271</td>\n      <td>0.408797</td>\n      <td>5.295546</td>\n      <td>9.842144</td>\n      <td>12.669840</td>\n      <td>9333.859853</td>\n    </tr>\n    <tr>\n      <th>std</th>\n      <td>1.714393e+03</td>\n      <td>6.52412</td>\n      <td>0.491612</td>\n      <td>3.750701</td>\n      <td>5.087259</td>\n      <td>4.124341</td>\n      <td>4981.022133</td>\n    </tr>\n    <tr>\n      <th>min</th>\n      <td>1.000001e+06</td>\n      <td>0.00000</td>\n      <td>0.000000</td>\n      <td>1.000000</td>\n      <td>2.000000</td>\n      <td>3.000000</td>\n      <td>185.000000</td>\n    </tr>\n    <tr>\n      <th>25%</th>\n      <td>1.001495e+06</td>\n      <td>2.00000</td>\n      <td>0.000000</td>\n      <td>1.000000</td>\n      <td>5.000000</td>\n      <td>9.000000</td>\n      <td>5866.000000</td>\n    </tr>\n    <tr>\n      <th>50%</th>\n      <td>1.003031e+06</td>\n      <td>7.00000</td>\n      <td>0.000000</td>\n      <td>5.000000</td>\n      <td>9.000000</td>\n      <td>14.000000</td>\n      <td>8062.000000</td>\n    </tr>\n    <tr>\n      <th>75%</th>\n      <td>1.004417e+06</td>\n      <td>14.00000</td>\n      <td>1.000000</td>\n      <td>8.000000</td>\n      <td>15.000000</td>\n      <td>16.000000</td>\n      <td>12073.000000</td>\n    </tr>\n    <tr>\n      <th>max</th>\n      <td>1.006040e+06</td>\n      <td>20.00000</td>\n      <td>1.000000</td>\n      <td>18.000000</td>\n      <td>18.000000</td>\n      <td>18.000000</td>\n      <td>23961.000000</td>\n    </tr>\n  </tbody>\n</table>\n</div>"
     },
     "metadata": {},
     "execution_count": 5
    }
   ],
   "source": [
    "black_friday.describe()"
   ]
  },
  {
   "cell_type": "code",
   "execution_count": 6,
   "metadata": {
    "tags": []
   },
   "outputs": [
    {
     "output_type": "stream",
     "name": "stdout",
     "text": "<class 'pandas.core.frame.DataFrame'>\nRangeIndex: 537577 entries, 0 to 537576\nData columns (total 12 columns):\n #   Column                      Non-Null Count   Dtype  \n---  ------                      --------------   -----  \n 0   User_ID                     537577 non-null  int64  \n 1   Product_ID                  537577 non-null  object \n 2   Gender                      537577 non-null  object \n 3   Age                         537577 non-null  object \n 4   Occupation                  537577 non-null  int64  \n 5   City_Category               537577 non-null  object \n 6   Stay_In_Current_City_Years  537577 non-null  object \n 7   Marital_Status              537577 non-null  int64  \n 8   Product_Category_1          537577 non-null  int64  \n 9   Product_Category_2          370591 non-null  float64\n 10  Product_Category_3          164278 non-null  float64\n 11  Purchase                    537577 non-null  int64  \ndtypes: float64(2), int64(5), object(5)\nmemory usage: 49.2+ MB\n"
    }
   ],
   "source": [
    "black_friday.info()"
   ]
  },
  {
   "cell_type": "code",
   "execution_count": 20,
   "metadata": {
    "tags": []
   },
   "outputs": [
    {
     "output_type": "stream",
     "name": "stdout",
     "text": "64.6 ms ± 177 µs per loop (mean ± std. dev. of 7 runs, 10 loops each)\n"
    }
   ],
   "source": [
    "#Testes da questão: 2\n",
    "#%timeit black_friday[(black_friday['Gender'] == 'F') & (black_friday['Age'] == '26-35')].shape[0]"
   ]
  },
  {
   "cell_type": "code",
   "execution_count": 21,
   "metadata": {
    "tags": []
   },
   "outputs": [
    {
     "output_type": "stream",
     "name": "stdout",
     "text": "111 ms ± 2.68 ms per loop (mean ± std. dev. of 7 runs, 10 loops each)\n"
    }
   ],
   "source": [
    "#%timeit sum((black_friday['Gender'] == 'F') & (black_friday['Age'] == '26-35'))"
   ]
  },
  {
   "cell_type": "code",
   "execution_count": 121,
   "metadata": {},
   "outputs": [
    {
     "output_type": "execute_result",
     "data": {
      "text/plain": "373299"
     },
     "metadata": {},
     "execution_count": 121
    }
   ],
   "source": [
    "#Testes da questão: 3\n",
    "black_friday[black_friday[\"Product_Category_2\"].isna() | black_friday[\"Product_Category_3\"].isna()].shape[0]"
   ]
  },
  {
   "cell_type": "code",
   "execution_count": 48,
   "metadata": {},
   "outputs": [
    {
     "output_type": "execute_result",
     "data": {
      "text/plain": "0.6944102891306734"
     },
     "metadata": {},
     "execution_count": 48
    }
   ],
   "source": [
    "#Testes da questão: 4\n",
    "black_friday.isna().any(axis='columns').value_counts(normalize=True)"
   ]
  },
  {
   "cell_type": "code",
   "execution_count": 118,
   "metadata": {},
   "outputs": [
    {
     "output_type": "execute_result",
     "data": {
      "text/plain": "373299"
     },
     "metadata": {},
     "execution_count": 118
    }
   ],
   "source": [
    "#Testes da questão: 5\n",
    "black_friday.isna().sum().max()"
   ]
  },
  {
   "cell_type": "code",
   "execution_count": 120,
   "metadata": {},
   "outputs": [
    {
     "output_type": "execute_result",
     "data": {
      "text/plain": "16.0"
     },
     "metadata": {},
     "execution_count": 120
    }
   ],
   "source": [
    "#Testes da questão: 6\n",
    "black_friday['Product_Category_3'].mode().item()"
   ]
  },
  {
   "cell_type": "code",
   "execution_count": 125,
   "metadata": {},
   "outputs": [
    {
     "output_type": "execute_result",
     "data": {
      "text/plain": "0.38954383592652086"
     },
     "metadata": {},
     "execution_count": 125
    }
   ],
   "source": [
    "#Testes da questão: 7\n",
    "(black_friday['Purchase'] / black_friday['Purchase'].max()).mean()"
   ]
  },
  {
   "cell_type": "code",
   "execution_count": 22,
   "metadata": {
    "tags": []
   },
   "outputs": [
    {
     "output_type": "stream",
     "name": "stdout",
     "text": "2.37 ms ± 19.8 µs per loop (mean ± std. dev. of 7 runs, 100 loops each)\n"
    }
   ],
   "source": [
    "#Testes da questão: 8\n",
    "#%timeit (black_friday['Purchase'].mean() - black_friday['Purchase'].min()) / \\\n",
    "#                 (black_friday['Purchase'].max() - black_friday['Purchase'].min())"
   ]
  },
  {
   "cell_type": "code",
   "execution_count": 24,
   "metadata": {
    "tags": []
   },
   "outputs": [
    {
     "output_type": "stream",
     "name": "stdout",
     "text": "4.22 ms ± 67.8 µs per loop (mean ± std. dev. of 7 runs, 100 loops each)\n"
    }
   ],
   "source": [
    "#%timeit ((black_friday['Purchase'] - black_friday['Purchase'].min()) / \\\n",
    "#                 (black_friday['Purchase'].max() - black_friday['Purchase'].min())).mean()"
   ]
  },
  {
   "cell_type": "code",
   "execution_count": 181,
   "metadata": {
    "tags": []
   },
   "outputs": [
    {
     "output_type": "execute_result",
     "data": {
      "text/plain": "348631"
     },
     "metadata": {},
     "execution_count": 181
    }
   ],
   "source": [
    "#Testes da questão: 9\n",
    "nomal_purchase = (black_friday['Purchase'] - black_friday['Purchase'].mean()) /\\\n",
    "                 black_friday['Purchase'].std()\n",
    "nomal_purchase.between(-1, 1).value_counts()[True].item()"
   ]
  },
  {
   "cell_type": "code",
   "execution_count": 209,
   "metadata": {},
   "outputs": [
    {
     "output_type": "execute_result",
     "data": {
      "text/plain": "True"
     },
     "metadata": {},
     "execution_count": 209
    }
   ],
   "source": [
    "#Testes da questão: 10\n",
    "aux = black_friday[['Product_Category_2', 'Product_Category_3']].isna()\n",
    "aux[aux['Product_Category_2'] == True].all()[1]"
   ]
  },
  {
   "cell_type": "markdown",
   "metadata": {},
   "source": [
    "## Questão 1\n",
    "\n",
    "Quantas observações e quantas colunas há no dataset? Responda no formato de uma tuple `(n_observacoes, n_colunas)`."
   ]
  },
  {
   "cell_type": "code",
   "execution_count": 9,
   "metadata": {},
   "outputs": [],
   "source": [
    "def q1():\n",
    "    # Retorne aqui o resultado da questão 1.\n",
    "    return black_friday.shape\n",
    "\n",
    "    "
   ]
  },
  {
   "cell_type": "markdown",
   "metadata": {},
   "source": [
    "## Questão 2\n",
    "\n",
    "Há quantas mulheres com idade entre 26 e 35 anos no dataset? Responda como um único escalar."
   ]
  },
  {
   "cell_type": "code",
   "execution_count": 118,
   "metadata": {},
   "outputs": [],
   "source": [
    "def q2():\n",
    "    # Retorne aqui o resultado da questão 2.\n",
    "    return black_friday[(black_friday['Gender'] == 'F') & \n",
    "                        (black_friday['Age'] == '26-35')].shape[0]"
   ]
  },
  {
   "cell_type": "markdown",
   "metadata": {},
   "source": [
    "## Questão 3\n",
    "\n",
    "Quantos usuários únicos há no dataset? Responda como um único escalar."
   ]
  },
  {
   "cell_type": "code",
   "execution_count": 78,
   "metadata": {},
   "outputs": [],
   "source": [
    "def q3():\n",
    "    # Retorne aqui o resultado da questão 3.\n",
    "    return black_friday['User_ID'].nunique()"
   ]
  },
  {
   "cell_type": "markdown",
   "metadata": {},
   "source": [
    "## Questão 4\n",
    "\n",
    "Quantos tipos de dados diferentes existem no dataset? Responda como um único escalar."
   ]
  },
  {
   "cell_type": "code",
   "execution_count": 47,
   "metadata": {},
   "outputs": [],
   "source": [
    "def q4():\n",
    "    # Retorne aqui o resultado da questão 4.\n",
    "    return black_friday.dtypes.nunique()"
   ]
  },
  {
   "cell_type": "markdown",
   "metadata": {},
   "source": [
    "## Questão 5\n",
    "\n",
    "Qual porcentagem dos registros possui ao menos um valor null (`None`, `ǸaN` etc)? Responda como um único escalar entre 0 e 1."
   ]
  },
  {
   "cell_type": "code",
   "execution_count": 183,
   "metadata": {},
   "outputs": [],
   "source": [
    "def q5():\n",
    "    # Retorne aqui o resultado da questão 5.\n",
    "    nan_percent = black_friday.isna().any(axis='columns').value_counts(normalize=True)\n",
    "    return nan_percent[True].item()"
   ]
  },
  {
   "cell_type": "markdown",
   "metadata": {},
   "source": [
    "## Questão 6\n",
    "\n",
    "Quantos valores null existem na variável (coluna) com o maior número de null? Responda como um único escalar."
   ]
  },
  {
   "cell_type": "code",
   "execution_count": 186,
   "metadata": {},
   "outputs": [],
   "source": [
    "def q6():\n",
    "    # Retorne aqui o resultado da questão 6.\n",
    "    return int(black_friday.isna().sum().max())"
   ]
  },
  {
   "cell_type": "markdown",
   "metadata": {},
   "source": [
    "## Questão 7\n",
    "\n",
    "Qual o valor mais frequente (sem contar nulls) em `Product_Category_3`? Responda como um único escalar."
   ]
  },
  {
   "cell_type": "code",
   "execution_count": 185,
   "metadata": {},
   "outputs": [],
   "source": [
    "def q7():\n",
    "    # Retorne aqui o resultado da questão 7.\n",
    "    return black_friday['Product_Category_3'].mode().item()"
   ]
  },
  {
   "cell_type": "markdown",
   "metadata": {},
   "source": [
    "## Questão 8\n",
    "\n",
    "Qual a nova média da variável (coluna) `Purchase` após sua normalização? Responda como um único escalar."
   ]
  },
  {
   "cell_type": "code",
   "execution_count": 136,
   "metadata": {},
   "outputs": [],
   "source": [
    "def q8():\n",
    "    # Retorne aqui o resultado da questão 8.\n",
    "    mean_normal_purchase = (black_friday['Purchase'].mean() - black_friday['Purchase'].min()) /\\\n",
    "                            (black_friday['Purchase'].max() - black_friday['Purchase'].min())\n",
    "    return float(mean_normal_purchase)"
   ]
  },
  {
   "cell_type": "markdown",
   "metadata": {},
   "source": [
    "## Questão 9\n",
    "\n",
    "Quantas ocorrências entre -1 e 1 inclusive existem da variáel `Purchase` após sua padronização? Responda como um único escalar."
   ]
  },
  {
   "cell_type": "code",
   "execution_count": 182,
   "metadata": {},
   "outputs": [],
   "source": [
    "def q9():\n",
    "    # Retorne aqui o resultado da questão 9.\n",
    "    normal_purchase = (black_friday['Purchase'] - black_friday['Purchase'].mean()) /\\\n",
    "                      black_friday['Purchase'].std()\n",
    "    return normal_purchase.between(-1, 1).value_counts()[True].item()"
   ]
  },
  {
   "cell_type": "markdown",
   "metadata": {},
   "source": [
    "## Questão 10\n",
    "\n",
    "Podemos afirmar que se uma observação é null em `Product_Category_2` ela também o é em `Product_Category_3`? Responda com um bool (`True`, `False`)."
   ]
  },
  {
   "cell_type": "code",
   "execution_count": 211,
   "metadata": {},
   "outputs": [],
   "source": [
    "def q10():\n",
    "    # Retorne aqui o resultado da questão 10.\n",
    "    aux = black_friday[['Product_Category_2', 'Product_Category_3']].isna()\n",
    "    return aux[aux['Product_Category_2'] == True].all()[1].item()"
   ]
  }
 ],
 "metadata": {
  "kernelspec": {
   "display_name": "Python 3",
   "language": "python",
   "name": "python3"
  },
  "language_info": {
   "codemirror_mode": {
    "name": "ipython",
    "version": 3
   },
   "file_extension": ".py",
   "mimetype": "text/x-python",
   "name": "python",
   "nbconvert_exporter": "python",
   "pygments_lexer": "ipython3",
   "version": "3.7.7-final"
  }
 },
 "nbformat": 4,
 "nbformat_minor": 2
}