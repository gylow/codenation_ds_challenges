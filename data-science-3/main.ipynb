{
 "cells": [
  {
   "cell_type": "markdown",
   "metadata": {},
   "source": [
    "# Desafio 5\n",
    "\n",
    "Neste desafio, vamos praticar sobre redução de dimensionalidade com PCA e seleção de variáveis com RFE. Utilizaremos o _data set_ [Fifa 2019](https://www.kaggle.com/karangadiya/fifa19), contendo originalmente 89 variáveis de mais de 18 mil jogadores do _game_ FIFA 2019.\n",
    "\n",
    "> Obs.: Por favor, não modifique o nome das funções de resposta."
   ]
  },
  {
   "cell_type": "markdown",
   "metadata": {},
   "source": [
    "## _Setup_ geral"
   ]
  },
  {
   "cell_type": "code",
   "execution_count": 179,
   "metadata": {},
   "outputs": [],
   "source": [
    "from math import sqrt\n",
    "\n",
    "import pandas as pd\n",
    "import matplotlib.pyplot as plt\n",
    "import numpy as np\n",
    "import scipy.stats as sct\n",
    "import seaborn as sns\n",
    "import statsmodels.api as sm\n",
    "import statsmodels.stats as st\n",
    "\n",
    "from sklearn.decomposition import PCA\n",
    "from sklearn.feature_selection import RFE\n",
    "from sklearn.linear_model import LinearRegression\n",
    "from loguru import logger"
   ]
  },
  {
   "cell_type": "code",
   "execution_count": 2,
   "metadata": {},
   "outputs": [],
   "source": [
    "# Algumas configurações para o matplotlib.\n",
    "#%matplotlib inline\n",
    "\n",
    "from IPython.core.pylabtools import figsize\n",
    "\n",
    "\n",
    "figsize(12, 8)\n",
    "\n",
    "sns.set()"
   ]
  },
  {
   "cell_type": "code",
   "execution_count": 3,
   "metadata": {
    "scrolled": false
   },
   "outputs": [],
   "source": [
    "fifa = pd.read_csv(\"fifa.csv\")"
   ]
  },
  {
   "cell_type": "code",
   "execution_count": 4,
   "metadata": {},
   "outputs": [],
   "source": [
    "columns_to_drop = [\"Unnamed: 0\", \"ID\", \"Name\", \"Photo\", \"Nationality\", \"Flag\",\n",
    "                   \"Club\", \"Club Logo\", \"Value\", \"Wage\", \"Special\", \"Preferred Foot\",\n",
    "                   \"International Reputation\", \"Weak Foot\", \"Skill Moves\", \"Work Rate\",\n",
    "                   \"Body Type\", \"Real Face\", \"Position\", \"Jersey Number\", \"Joined\",\n",
    "                   \"Loaned From\", \"Contract Valid Until\", \"Height\", \"Weight\", \"LS\",\n",
    "                   \"ST\", \"RS\", \"LW\", \"LF\", \"CF\", \"RF\", \"RW\", \"LAM\", \"CAM\", \"RAM\", \"LM\",\n",
    "                   \"LCM\", \"CM\", \"RCM\", \"RM\", \"LWB\", \"LDM\", \"CDM\", \"RDM\", \"RWB\", \"LB\", \"LCB\",\n",
    "                   \"CB\", \"RCB\", \"RB\", \"Release Clause\"\n",
    "]\n",
    "\n",
    "try:\n",
    "    fifa.drop(columns_to_drop, axis=1, inplace=True)\n",
    "except KeyError:\n",
    "    logger.warning(f\"Columns already dropped\")"
   ]
  },
  {
   "cell_type": "markdown",
   "metadata": {},
   "source": [
    "## Inicia sua análise a partir daqui"
   ]
  },
  {
   "cell_type": "code",
   "execution_count": 5,
   "metadata": {
    "tags": []
   },
   "outputs": [
    {
     "output_type": "stream",
     "name": "stdout",
     "text": "<class 'pandas.core.frame.DataFrame'>\nRangeIndex: 18207 entries, 0 to 18206\nData columns (total 37 columns):\n #   Column           Non-Null Count  Dtype  \n---  ------           --------------  -----  \n 0   Age              18207 non-null  int64  \n 1   Overall          18207 non-null  int64  \n 2   Potential        18207 non-null  int64  \n 3   Crossing         18159 non-null  float64\n 4   Finishing        18159 non-null  float64\n 5   HeadingAccuracy  18159 non-null  float64\n 6   ShortPassing     18159 non-null  float64\n 7   Volleys          18159 non-null  float64\n 8   Dribbling        18159 non-null  float64\n 9   Curve            18159 non-null  float64\n 10  FKAccuracy       18159 non-null  float64\n 11  LongPassing      18159 non-null  float64\n 12  BallControl      18159 non-null  float64\n 13  Acceleration     18159 non-null  float64\n 14  SprintSpeed      18159 non-null  float64\n 15  Agility          18159 non-null  float64\n 16  Reactions        18159 non-null  float64\n 17  Balance          18159 non-null  float64\n 18  ShotPower        18159 non-null  float64\n 19  Jumping          18159 non-null  float64\n 20  Stamina          18159 non-null  float64\n 21  Strength         18159 non-null  float64\n 22  LongShots        18159 non-null  float64\n 23  Aggression       18159 non-null  float64\n 24  Interceptions    18159 non-null  float64\n 25  Positioning      18159 non-null  float64\n 26  Vision           18159 non-null  float64\n 27  Penalties        18159 non-null  float64\n 28  Composure        18159 non-null  float64\n 29  Marking          18159 non-null  float64\n 30  StandingTackle   18159 non-null  float64\n 31  SlidingTackle    18159 non-null  float64\n 32  GKDiving         18159 non-null  float64\n 33  GKHandling       18159 non-null  float64\n 34  GKKicking        18159 non-null  float64\n 35  GKPositioning    18159 non-null  float64\n 36  GKReflexes       18159 non-null  float64\ndtypes: float64(34), int64(3)\nmemory usage: 5.1 MB\n"
    }
   ],
   "source": [
    "# Sua análise começa aqui.\n",
    "fifa.info()"
   ]
  },
  {
   "cell_type": "code",
   "execution_count": 6,
   "metadata": {},
   "outputs": [
    {
     "output_type": "execute_result",
     "data": {
      "text/plain": "                Age       Overall     Potential      Crossing     Finishing  \\\ncount  18207.000000  18207.000000  18207.000000  18159.000000  18159.000000   \nmean      25.122206     66.238699     71.307299     49.734181     45.550911   \nstd        4.669943      6.908930      6.136496     18.364524     19.525820   \nmin       16.000000     46.000000     48.000000      5.000000      2.000000   \n25%       21.000000     62.000000     67.000000     38.000000     30.000000   \n50%       25.000000     66.000000     71.000000     54.000000     49.000000   \n75%       28.000000     71.000000     75.000000     64.000000     62.000000   \nmax       45.000000     94.000000     95.000000     93.000000     95.000000   \n\n       HeadingAccuracy  ShortPassing       Volleys     Dribbling  \\\ncount     18159.000000  18159.000000  18159.000000  18159.000000   \nmean         52.298144     58.686712     42.909026     55.371001   \nstd          17.379909     14.699495     17.694408     18.910371   \nmin           4.000000      7.000000      4.000000      4.000000   \n25%          44.000000     54.000000     30.000000     49.000000   \n50%          56.000000     62.000000     44.000000     61.000000   \n75%          64.000000     68.000000     57.000000     68.000000   \nmax          94.000000     93.000000     90.000000     97.000000   \n\n              Curve  ...     Penalties     Composure       Marking  \\\ncount  18159.000000  ...  18159.000000  18159.000000  18159.000000   \nmean      47.170824  ...     48.548598     58.648274     47.281623   \nstd       18.395264  ...     15.704053     11.436133     19.904397   \nmin        6.000000  ...      5.000000      3.000000      3.000000   \n25%       34.000000  ...     39.000000     51.000000     30.000000   \n50%       48.000000  ...     49.000000     60.000000     53.000000   \n75%       62.000000  ...     60.000000     67.000000     64.000000   \nmax       94.000000  ...     92.000000     96.000000     94.000000   \n\n       StandingTackle  SlidingTackle      GKDiving    GKHandling  \\\ncount    18159.000000   18159.000000  18159.000000  18159.000000   \nmean        47.697836      45.661435     16.616223     16.391596   \nstd         21.664004      21.289135     17.695349     16.906900   \nmin          2.000000       3.000000      1.000000      1.000000   \n25%         27.000000      24.000000      8.000000      8.000000   \n50%         55.000000      52.000000     11.000000     11.000000   \n75%         66.000000      64.000000     14.000000     14.000000   \nmax         93.000000      91.000000     90.000000     92.000000   \n\n          GKKicking  GKPositioning    GKReflexes  \ncount  18159.000000   18159.000000  18159.000000  \nmean      16.232061      16.388898     16.710887  \nstd       16.502864      17.034669     17.955119  \nmin        1.000000       1.000000      1.000000  \n25%        8.000000       8.000000      8.000000  \n50%       11.000000      11.000000     11.000000  \n75%       14.000000      14.000000     14.000000  \nmax       91.000000      90.000000     94.000000  \n\n[8 rows x 37 columns]",
      "text/html": "<div>\n<style scoped>\n    .dataframe tbody tr th:only-of-type {\n        vertical-align: middle;\n    }\n\n    .dataframe tbody tr th {\n        vertical-align: top;\n    }\n\n    .dataframe thead th {\n        text-align: right;\n    }\n</style>\n<table border=\"1\" class=\"dataframe\">\n  <thead>\n    <tr style=\"text-align: right;\">\n      <th></th>\n      <th>Age</th>\n      <th>Overall</th>\n      <th>Potential</th>\n      <th>Crossing</th>\n      <th>Finishing</th>\n      <th>HeadingAccuracy</th>\n      <th>ShortPassing</th>\n      <th>Volleys</th>\n      <th>Dribbling</th>\n      <th>Curve</th>\n      <th>...</th>\n      <th>Penalties</th>\n      <th>Composure</th>\n      <th>Marking</th>\n      <th>StandingTackle</th>\n      <th>SlidingTackle</th>\n      <th>GKDiving</th>\n      <th>GKHandling</th>\n      <th>GKKicking</th>\n      <th>GKPositioning</th>\n      <th>GKReflexes</th>\n    </tr>\n  </thead>\n  <tbody>\n    <tr>\n      <th>count</th>\n      <td>18207.000000</td>\n      <td>18207.000000</td>\n      <td>18207.000000</td>\n      <td>18159.000000</td>\n      <td>18159.000000</td>\n      <td>18159.000000</td>\n      <td>18159.000000</td>\n      <td>18159.000000</td>\n      <td>18159.000000</td>\n      <td>18159.000000</td>\n      <td>...</td>\n      <td>18159.000000</td>\n      <td>18159.000000</td>\n      <td>18159.000000</td>\n      <td>18159.000000</td>\n      <td>18159.000000</td>\n      <td>18159.000000</td>\n      <td>18159.000000</td>\n      <td>18159.000000</td>\n      <td>18159.000000</td>\n      <td>18159.000000</td>\n    </tr>\n    <tr>\n      <th>mean</th>\n      <td>25.122206</td>\n      <td>66.238699</td>\n      <td>71.307299</td>\n      <td>49.734181</td>\n      <td>45.550911</td>\n      <td>52.298144</td>\n      <td>58.686712</td>\n      <td>42.909026</td>\n      <td>55.371001</td>\n      <td>47.170824</td>\n      <td>...</td>\n      <td>48.548598</td>\n      <td>58.648274</td>\n      <td>47.281623</td>\n      <td>47.697836</td>\n      <td>45.661435</td>\n      <td>16.616223</td>\n      <td>16.391596</td>\n      <td>16.232061</td>\n      <td>16.388898</td>\n      <td>16.710887</td>\n    </tr>\n    <tr>\n      <th>std</th>\n      <td>4.669943</td>\n      <td>6.908930</td>\n      <td>6.136496</td>\n      <td>18.364524</td>\n      <td>19.525820</td>\n      <td>17.379909</td>\n      <td>14.699495</td>\n      <td>17.694408</td>\n      <td>18.910371</td>\n      <td>18.395264</td>\n      <td>...</td>\n      <td>15.704053</td>\n      <td>11.436133</td>\n      <td>19.904397</td>\n      <td>21.664004</td>\n      <td>21.289135</td>\n      <td>17.695349</td>\n      <td>16.906900</td>\n      <td>16.502864</td>\n      <td>17.034669</td>\n      <td>17.955119</td>\n    </tr>\n    <tr>\n      <th>min</th>\n      <td>16.000000</td>\n      <td>46.000000</td>\n      <td>48.000000</td>\n      <td>5.000000</td>\n      <td>2.000000</td>\n      <td>4.000000</td>\n      <td>7.000000</td>\n      <td>4.000000</td>\n      <td>4.000000</td>\n      <td>6.000000</td>\n      <td>...</td>\n      <td>5.000000</td>\n      <td>3.000000</td>\n      <td>3.000000</td>\n      <td>2.000000</td>\n      <td>3.000000</td>\n      <td>1.000000</td>\n      <td>1.000000</td>\n      <td>1.000000</td>\n      <td>1.000000</td>\n      <td>1.000000</td>\n    </tr>\n    <tr>\n      <th>25%</th>\n      <td>21.000000</td>\n      <td>62.000000</td>\n      <td>67.000000</td>\n      <td>38.000000</td>\n      <td>30.000000</td>\n      <td>44.000000</td>\n      <td>54.000000</td>\n      <td>30.000000</td>\n      <td>49.000000</td>\n      <td>34.000000</td>\n      <td>...</td>\n      <td>39.000000</td>\n      <td>51.000000</td>\n      <td>30.000000</td>\n      <td>27.000000</td>\n      <td>24.000000</td>\n      <td>8.000000</td>\n      <td>8.000000</td>\n      <td>8.000000</td>\n      <td>8.000000</td>\n      <td>8.000000</td>\n    </tr>\n    <tr>\n      <th>50%</th>\n      <td>25.000000</td>\n      <td>66.000000</td>\n      <td>71.000000</td>\n      <td>54.000000</td>\n      <td>49.000000</td>\n      <td>56.000000</td>\n      <td>62.000000</td>\n      <td>44.000000</td>\n      <td>61.000000</td>\n      <td>48.000000</td>\n      <td>...</td>\n      <td>49.000000</td>\n      <td>60.000000</td>\n      <td>53.000000</td>\n      <td>55.000000</td>\n      <td>52.000000</td>\n      <td>11.000000</td>\n      <td>11.000000</td>\n      <td>11.000000</td>\n      <td>11.000000</td>\n      <td>11.000000</td>\n    </tr>\n    <tr>\n      <th>75%</th>\n      <td>28.000000</td>\n      <td>71.000000</td>\n      <td>75.000000</td>\n      <td>64.000000</td>\n      <td>62.000000</td>\n      <td>64.000000</td>\n      <td>68.000000</td>\n      <td>57.000000</td>\n      <td>68.000000</td>\n      <td>62.000000</td>\n      <td>...</td>\n      <td>60.000000</td>\n      <td>67.000000</td>\n      <td>64.000000</td>\n      <td>66.000000</td>\n      <td>64.000000</td>\n      <td>14.000000</td>\n      <td>14.000000</td>\n      <td>14.000000</td>\n      <td>14.000000</td>\n      <td>14.000000</td>\n    </tr>\n    <tr>\n      <th>max</th>\n      <td>45.000000</td>\n      <td>94.000000</td>\n      <td>95.000000</td>\n      <td>93.000000</td>\n      <td>95.000000</td>\n      <td>94.000000</td>\n      <td>93.000000</td>\n      <td>90.000000</td>\n      <td>97.000000</td>\n      <td>94.000000</td>\n      <td>...</td>\n      <td>92.000000</td>\n      <td>96.000000</td>\n      <td>94.000000</td>\n      <td>93.000000</td>\n      <td>91.000000</td>\n      <td>90.000000</td>\n      <td>92.000000</td>\n      <td>91.000000</td>\n      <td>90.000000</td>\n      <td>94.000000</td>\n    </tr>\n  </tbody>\n</table>\n<p>8 rows × 37 columns</p>\n</div>"
     },
     "metadata": {},
     "execution_count": 6
    }
   ],
   "source": [
    "fifa.describe()"
   ]
  },
  {
   "cell_type": "code",
   "execution_count": 7,
   "metadata": {},
   "outputs": [
    {
     "output_type": "execute_result",
     "data": {
      "text/plain": "       Age  Overall  Potential  Crossing  Finishing  HeadingAccuracy  \\\n13236   33       62         62       NaN        NaN              NaN   \n13237   29       62         62       NaN        NaN              NaN   \n13238   35       62         62       NaN        NaN              NaN   \n13239   20       62         72       NaN        NaN              NaN   \n13240   24       62         66       NaN        NaN              NaN   \n\n       ShortPassing  Volleys  Dribbling  Curve  ...  Penalties  Composure  \\\n13236           NaN      NaN        NaN    NaN  ...        NaN        NaN   \n13237           NaN      NaN        NaN    NaN  ...        NaN        NaN   \n13238           NaN      NaN        NaN    NaN  ...        NaN        NaN   \n13239           NaN      NaN        NaN    NaN  ...        NaN        NaN   \n13240           NaN      NaN        NaN    NaN  ...        NaN        NaN   \n\n       Marking  StandingTackle  SlidingTackle  GKDiving  GKHandling  \\\n13236      NaN             NaN            NaN       NaN         NaN   \n13237      NaN             NaN            NaN       NaN         NaN   \n13238      NaN             NaN            NaN       NaN         NaN   \n13239      NaN             NaN            NaN       NaN         NaN   \n13240      NaN             NaN            NaN       NaN         NaN   \n\n       GKKicking  GKPositioning  GKReflexes  \n13236        NaN            NaN         NaN  \n13237        NaN            NaN         NaN  \n13238        NaN            NaN         NaN  \n13239        NaN            NaN         NaN  \n13240        NaN            NaN         NaN  \n\n[5 rows x 37 columns]",
      "text/html": "<div>\n<style scoped>\n    .dataframe tbody tr th:only-of-type {\n        vertical-align: middle;\n    }\n\n    .dataframe tbody tr th {\n        vertical-align: top;\n    }\n\n    .dataframe thead th {\n        text-align: right;\n    }\n</style>\n<table border=\"1\" class=\"dataframe\">\n  <thead>\n    <tr style=\"text-align: right;\">\n      <th></th>\n      <th>Age</th>\n      <th>Overall</th>\n      <th>Potential</th>\n      <th>Crossing</th>\n      <th>Finishing</th>\n      <th>HeadingAccuracy</th>\n      <th>ShortPassing</th>\n      <th>Volleys</th>\n      <th>Dribbling</th>\n      <th>Curve</th>\n      <th>...</th>\n      <th>Penalties</th>\n      <th>Composure</th>\n      <th>Marking</th>\n      <th>StandingTackle</th>\n      <th>SlidingTackle</th>\n      <th>GKDiving</th>\n      <th>GKHandling</th>\n      <th>GKKicking</th>\n      <th>GKPositioning</th>\n      <th>GKReflexes</th>\n    </tr>\n  </thead>\n  <tbody>\n    <tr>\n      <th>13236</th>\n      <td>33</td>\n      <td>62</td>\n      <td>62</td>\n      <td>NaN</td>\n      <td>NaN</td>\n      <td>NaN</td>\n      <td>NaN</td>\n      <td>NaN</td>\n      <td>NaN</td>\n      <td>NaN</td>\n      <td>...</td>\n      <td>NaN</td>\n      <td>NaN</td>\n      <td>NaN</td>\n      <td>NaN</td>\n      <td>NaN</td>\n      <td>NaN</td>\n      <td>NaN</td>\n      <td>NaN</td>\n      <td>NaN</td>\n      <td>NaN</td>\n    </tr>\n    <tr>\n      <th>13237</th>\n      <td>29</td>\n      <td>62</td>\n      <td>62</td>\n      <td>NaN</td>\n      <td>NaN</td>\n      <td>NaN</td>\n      <td>NaN</td>\n      <td>NaN</td>\n      <td>NaN</td>\n      <td>NaN</td>\n      <td>...</td>\n      <td>NaN</td>\n      <td>NaN</td>\n      <td>NaN</td>\n      <td>NaN</td>\n      <td>NaN</td>\n      <td>NaN</td>\n      <td>NaN</td>\n      <td>NaN</td>\n      <td>NaN</td>\n      <td>NaN</td>\n    </tr>\n    <tr>\n      <th>13238</th>\n      <td>35</td>\n      <td>62</td>\n      <td>62</td>\n      <td>NaN</td>\n      <td>NaN</td>\n      <td>NaN</td>\n      <td>NaN</td>\n      <td>NaN</td>\n      <td>NaN</td>\n      <td>NaN</td>\n      <td>...</td>\n      <td>NaN</td>\n      <td>NaN</td>\n      <td>NaN</td>\n      <td>NaN</td>\n      <td>NaN</td>\n      <td>NaN</td>\n      <td>NaN</td>\n      <td>NaN</td>\n      <td>NaN</td>\n      <td>NaN</td>\n    </tr>\n    <tr>\n      <th>13239</th>\n      <td>20</td>\n      <td>62</td>\n      <td>72</td>\n      <td>NaN</td>\n      <td>NaN</td>\n      <td>NaN</td>\n      <td>NaN</td>\n      <td>NaN</td>\n      <td>NaN</td>\n      <td>NaN</td>\n      <td>...</td>\n      <td>NaN</td>\n      <td>NaN</td>\n      <td>NaN</td>\n      <td>NaN</td>\n      <td>NaN</td>\n      <td>NaN</td>\n      <td>NaN</td>\n      <td>NaN</td>\n      <td>NaN</td>\n      <td>NaN</td>\n    </tr>\n    <tr>\n      <th>13240</th>\n      <td>24</td>\n      <td>62</td>\n      <td>66</td>\n      <td>NaN</td>\n      <td>NaN</td>\n      <td>NaN</td>\n      <td>NaN</td>\n      <td>NaN</td>\n      <td>NaN</td>\n      <td>NaN</td>\n      <td>...</td>\n      <td>NaN</td>\n      <td>NaN</td>\n      <td>NaN</td>\n      <td>NaN</td>\n      <td>NaN</td>\n      <td>NaN</td>\n      <td>NaN</td>\n      <td>NaN</td>\n      <td>NaN</td>\n      <td>NaN</td>\n    </tr>\n  </tbody>\n</table>\n<p>5 rows × 37 columns</p>\n</div>"
     },
     "metadata": {},
     "execution_count": 7
    }
   ],
   "source": [
    "fifa[fifa.Crossing.isna()].head()"
   ]
  },
  {
   "cell_type": "code",
   "execution_count": 10,
   "metadata": {},
   "outputs": [
    {
     "output_type": "execute_result",
     "data": {
      "text/plain": "(18159, 37)"
     },
     "metadata": {},
     "execution_count": 10
    }
   ],
   "source": [
    "fifa.dropna(inplace=True)\n",
    "fifa.shape"
   ]
  },
  {
   "cell_type": "code",
   "execution_count": 74,
   "metadata": {},
   "outputs": [
    {
     "output_type": "execute_result",
     "data": {
      "text/plain": "array([0.56528056])"
     },
     "metadata": {},
     "execution_count": 74
    }
   ],
   "source": [
    "# Análise da questão 1\n",
    "pca = PCA(n_components=1)\n",
    "pca.fit(fifa)\n",
    "pca.explained_variance_ratio_"
   ]
  },
  {
   "cell_type": "code",
   "execution_count": 18,
   "metadata": {},
   "outputs": [
    {
     "output_type": "execute_result",
     "data": {
      "text/plain": "array([0.56528056, 0.74630577, 0.80583411, 0.84926104, 0.87561427,\n       0.88768504, 0.89804009, 0.9065696 , 0.91444823, 0.9216524 ,\n       0.9288342 , 0.93516314, 0.94035556, 0.94526355, 0.95000564])"
     },
     "metadata": {},
     "execution_count": 18
    }
   ],
   "source": [
    "# Análise da questão 2\n",
    "pca_95 = PCA(n_components=0.95)\n",
    "pca_95.fit(fifa)\n",
    "np.cumsum(pca_95.explained_variance_ratio_)"
   ]
  },
  {
   "cell_type": "code",
   "execution_count": 184,
   "metadata": {},
   "outputs": [
    {
     "output_type": "display_data",
     "data": {
      "text/plain": "<Figure size 864x576 with 1 Axes>",
      "image/svg+xml": "<?xml version=\"1.0\" encoding=\"utf-8\" standalone=\"no\"?>\n<!DOCTYPE svg PUBLIC \"-//W3C//DTD SVG 1.1//EN\"\n  \"http://www.w3.org/Graphics/SVG/1.1/DTD/svg11.dtd\">\n<!-- Created with matplotlib (https://matplotlib.org/) -->\n<svg height=\"472.073253pt\" version=\"1.1\" viewBox=\"0 0 721.331719 472.073253\" width=\"721.331719pt\" xmlns=\"http://www.w3.org/2000/svg\" xmlns:xlink=\"http://www.w3.org/1999/xlink\">\n <defs>\n  <style type=\"text/css\">\n*{stroke-linecap:butt;stroke-linejoin:round;}\n  </style>\n </defs>\n <g id=\"figure_1\">\n  <g id=\"patch_1\">\n   <path d=\"M 0 472.073253 \nL 721.331719 472.073253 \nL 721.331719 0 \nL 0 0 \nz\n\" style=\"fill:#ffffff;\"/>\n  </g>\n  <g id=\"axes_1\">\n   <g id=\"patch_2\">\n    <path d=\"M 44.531719 445.313409 \nL 714.131719 445.313409 \nL 714.131719 10.433409 \nL 44.531719 10.433409 \nz\n\" style=\"fill:#eaeaf2;\"/>\n   </g>\n   <g id=\"matplotlib.axis_1\">\n    <g id=\"xtick_1\">\n     <g id=\"line2d_1\">\n      <path clip-path=\"url(#p5fe6289664)\" d=\"M 95.699584 445.313409 \nL 95.699584 10.433409 \n\" style=\"fill:none;stroke:#ffffff;stroke-linecap:round;\"/>\n     </g>\n     <g id=\"text_1\">\n      <!-- −0.2 -->\n      <defs>\n       <path d=\"M 52.828125 31.203125 \nL 5.5625 31.203125 \nL 5.5625 39.40625 \nL 52.828125 39.40625 \nz\n\" id=\"ArialMT-8722\"/>\n       <path d=\"M 4.15625 35.296875 \nQ 4.15625 48 6.765625 55.734375 \nQ 9.375 63.484375 14.515625 67.671875 \nQ 19.671875 71.875 27.484375 71.875 \nQ 33.25 71.875 37.59375 69.546875 \nQ 41.9375 67.234375 44.765625 62.859375 \nQ 47.609375 58.5 49.21875 52.21875 \nQ 50.828125 45.953125 50.828125 35.296875 \nQ 50.828125 22.703125 48.234375 14.96875 \nQ 45.65625 7.234375 40.5 3 \nQ 35.359375 -1.21875 27.484375 -1.21875 \nQ 17.140625 -1.21875 11.234375 6.203125 \nQ 4.15625 15.140625 4.15625 35.296875 \nz\nM 13.1875 35.296875 \nQ 13.1875 17.671875 17.3125 11.828125 \nQ 21.4375 6 27.484375 6 \nQ 33.546875 6 37.671875 11.859375 \nQ 41.796875 17.71875 41.796875 35.296875 \nQ 41.796875 52.984375 37.671875 58.78125 \nQ 33.546875 64.59375 27.390625 64.59375 \nQ 21.34375 64.59375 17.71875 59.46875 \nQ 13.1875 52.9375 13.1875 35.296875 \nz\n\" id=\"ArialMT-48\"/>\n       <path d=\"M 9.078125 0 \nL 9.078125 10.015625 \nL 19.09375 10.015625 \nL 19.09375 0 \nz\n\" id=\"ArialMT-46\"/>\n       <path d=\"M 50.34375 8.453125 \nL 50.34375 0 \nL 3.03125 0 \nQ 2.9375 3.171875 4.046875 6.109375 \nQ 5.859375 10.9375 9.828125 15.625 \nQ 13.8125 20.3125 21.34375 26.46875 \nQ 33.015625 36.03125 37.109375 41.625 \nQ 41.21875 47.21875 41.21875 52.203125 \nQ 41.21875 57.421875 37.46875 61 \nQ 33.734375 64.59375 27.734375 64.59375 \nQ 21.390625 64.59375 17.578125 60.78125 \nQ 13.765625 56.984375 13.71875 50.25 \nL 4.6875 51.171875 \nQ 5.609375 61.28125 11.65625 66.578125 \nQ 17.71875 71.875 27.9375 71.875 \nQ 38.234375 71.875 44.234375 66.15625 \nQ 50.25 60.453125 50.25 52 \nQ 50.25 47.703125 48.484375 43.546875 \nQ 46.734375 39.40625 42.65625 34.8125 \nQ 38.578125 30.21875 29.109375 22.21875 \nQ 21.1875 15.578125 18.9375 13.203125 \nQ 16.703125 10.84375 15.234375 8.453125 \nz\n\" id=\"ArialMT-50\"/>\n      </defs>\n      <g style=\"fill:#262626;\" transform=\"translate(84.84224 462.687003)scale(0.11 -0.11)\">\n       <use xlink:href=\"#ArialMT-8722\"/>\n       <use x=\"58.398438\" xlink:href=\"#ArialMT-48\"/>\n       <use x=\"114.013672\" xlink:href=\"#ArialMT-46\"/>\n       <use x=\"141.796875\" xlink:href=\"#ArialMT-50\"/>\n      </g>\n     </g>\n    </g>\n    <g id=\"xtick_2\">\n     <g id=\"line2d_2\">\n      <path clip-path=\"url(#p5fe6289664)\" d=\"M 204.618068 445.313409 \nL 204.618068 10.433409 \n\" style=\"fill:none;stroke:#ffffff;stroke-linecap:round;\"/>\n     </g>\n     <g id=\"text_2\">\n      <!-- 0.0 -->\n      <g style=\"fill:#262626;\" transform=\"translate(196.973068 462.687003)scale(0.11 -0.11)\">\n       <use xlink:href=\"#ArialMT-48\"/>\n       <use x=\"55.615234\" xlink:href=\"#ArialMT-46\"/>\n       <use x=\"83.398438\" xlink:href=\"#ArialMT-48\"/>\n      </g>\n     </g>\n    </g>\n    <g id=\"xtick_3\">\n     <g id=\"line2d_3\">\n      <path clip-path=\"url(#p5fe6289664)\" d=\"M 313.536552 445.313409 \nL 313.536552 10.433409 \n\" style=\"fill:none;stroke:#ffffff;stroke-linecap:round;\"/>\n     </g>\n     <g id=\"text_3\">\n      <!-- 0.2 -->\n      <g style=\"fill:#262626;\" transform=\"translate(305.891552 462.687003)scale(0.11 -0.11)\">\n       <use xlink:href=\"#ArialMT-48\"/>\n       <use x=\"55.615234\" xlink:href=\"#ArialMT-46\"/>\n       <use x=\"83.398438\" xlink:href=\"#ArialMT-50\"/>\n      </g>\n     </g>\n    </g>\n    <g id=\"xtick_4\">\n     <g id=\"line2d_4\">\n      <path clip-path=\"url(#p5fe6289664)\" d=\"M 422.455035 445.313409 \nL 422.455035 10.433409 \n\" style=\"fill:none;stroke:#ffffff;stroke-linecap:round;\"/>\n     </g>\n     <g id=\"text_4\">\n      <!-- 0.4 -->\n      <defs>\n       <path d=\"M 32.328125 0 \nL 32.328125 17.140625 \nL 1.265625 17.140625 \nL 1.265625 25.203125 \nL 33.9375 71.578125 \nL 41.109375 71.578125 \nL 41.109375 25.203125 \nL 50.78125 25.203125 \nL 50.78125 17.140625 \nL 41.109375 17.140625 \nL 41.109375 0 \nz\nM 32.328125 25.203125 \nL 32.328125 57.46875 \nL 9.90625 25.203125 \nz\n\" id=\"ArialMT-52\"/>\n      </defs>\n      <g style=\"fill:#262626;\" transform=\"translate(414.810035 462.687003)scale(0.11 -0.11)\">\n       <use xlink:href=\"#ArialMT-48\"/>\n       <use x=\"55.615234\" xlink:href=\"#ArialMT-46\"/>\n       <use x=\"83.398438\" xlink:href=\"#ArialMT-52\"/>\n      </g>\n     </g>\n    </g>\n    <g id=\"xtick_5\">\n     <g id=\"line2d_5\">\n      <path clip-path=\"url(#p5fe6289664)\" d=\"M 531.373519 445.313409 \nL 531.373519 10.433409 \n\" style=\"fill:none;stroke:#ffffff;stroke-linecap:round;\"/>\n     </g>\n     <g id=\"text_5\">\n      <!-- 0.6 -->\n      <defs>\n       <path d=\"M 49.75 54.046875 \nL 41.015625 53.375 \nQ 39.84375 58.546875 37.703125 60.890625 \nQ 34.125 64.65625 28.90625 64.65625 \nQ 24.703125 64.65625 21.53125 62.3125 \nQ 17.390625 59.28125 14.984375 53.46875 \nQ 12.59375 47.65625 12.5 36.921875 \nQ 15.671875 41.75 20.265625 44.09375 \nQ 24.859375 46.4375 29.890625 46.4375 \nQ 38.671875 46.4375 44.84375 39.96875 \nQ 51.03125 33.5 51.03125 23.25 \nQ 51.03125 16.5 48.125 10.71875 \nQ 45.21875 4.9375 40.140625 1.859375 \nQ 35.0625 -1.21875 28.609375 -1.21875 \nQ 17.625 -1.21875 10.6875 6.859375 \nQ 3.765625 14.9375 3.765625 33.5 \nQ 3.765625 54.25 11.421875 63.671875 \nQ 18.109375 71.875 29.4375 71.875 \nQ 37.890625 71.875 43.28125 67.140625 \nQ 48.6875 62.40625 49.75 54.046875 \nz\nM 13.875 23.1875 \nQ 13.875 18.65625 15.796875 14.5 \nQ 17.71875 10.359375 21.1875 8.171875 \nQ 24.65625 6 28.46875 6 \nQ 34.03125 6 38.03125 10.484375 \nQ 42.046875 14.984375 42.046875 22.703125 \nQ 42.046875 30.125 38.078125 34.390625 \nQ 34.125 38.671875 28.125 38.671875 \nQ 22.171875 38.671875 18.015625 34.390625 \nQ 13.875 30.125 13.875 23.1875 \nz\n\" id=\"ArialMT-54\"/>\n      </defs>\n      <g style=\"fill:#262626;\" transform=\"translate(523.728519 462.687003)scale(0.11 -0.11)\">\n       <use xlink:href=\"#ArialMT-48\"/>\n       <use x=\"55.615234\" xlink:href=\"#ArialMT-46\"/>\n       <use x=\"83.398438\" xlink:href=\"#ArialMT-54\"/>\n      </g>\n     </g>\n    </g>\n    <g id=\"xtick_6\">\n     <g id=\"line2d_6\">\n      <path clip-path=\"url(#p5fe6289664)\" d=\"M 640.292003 445.313409 \nL 640.292003 10.433409 \n\" style=\"fill:none;stroke:#ffffff;stroke-linecap:round;\"/>\n     </g>\n     <g id=\"text_6\">\n      <!-- 0.8 -->\n      <defs>\n       <path d=\"M 17.671875 38.8125 \nQ 12.203125 40.828125 9.5625 44.53125 \nQ 6.9375 48.25 6.9375 53.421875 \nQ 6.9375 61.234375 12.546875 66.546875 \nQ 18.171875 71.875 27.484375 71.875 \nQ 36.859375 71.875 42.578125 66.421875 \nQ 48.296875 60.984375 48.296875 53.171875 \nQ 48.296875 48.1875 45.671875 44.5 \nQ 43.0625 40.828125 37.75 38.8125 \nQ 44.34375 36.671875 47.78125 31.875 \nQ 51.21875 27.09375 51.21875 20.453125 \nQ 51.21875 11.28125 44.71875 5.03125 \nQ 38.234375 -1.21875 27.640625 -1.21875 \nQ 17.046875 -1.21875 10.546875 5.046875 \nQ 4.046875 11.328125 4.046875 20.703125 \nQ 4.046875 27.6875 7.59375 32.390625 \nQ 11.140625 37.109375 17.671875 38.8125 \nz\nM 15.921875 53.71875 \nQ 15.921875 48.640625 19.1875 45.40625 \nQ 22.46875 42.1875 27.6875 42.1875 \nQ 32.765625 42.1875 36.015625 45.375 \nQ 39.265625 48.578125 39.265625 53.21875 \nQ 39.265625 58.0625 35.90625 61.359375 \nQ 32.5625 64.65625 27.59375 64.65625 \nQ 22.5625 64.65625 19.234375 61.421875 \nQ 15.921875 58.203125 15.921875 53.71875 \nz\nM 13.09375 20.65625 \nQ 13.09375 16.890625 14.875 13.375 \nQ 16.65625 9.859375 20.171875 7.921875 \nQ 23.6875 6 27.734375 6 \nQ 34.03125 6 38.125 10.046875 \nQ 42.234375 14.109375 42.234375 20.359375 \nQ 42.234375 26.703125 38.015625 30.859375 \nQ 33.796875 35.015625 27.4375 35.015625 \nQ 21.234375 35.015625 17.15625 30.90625 \nQ 13.09375 26.8125 13.09375 20.65625 \nz\n\" id=\"ArialMT-56\"/>\n      </defs>\n      <g style=\"fill:#262626;\" transform=\"translate(632.647003 462.687003)scale(0.11 -0.11)\">\n       <use xlink:href=\"#ArialMT-48\"/>\n       <use x=\"55.615234\" xlink:href=\"#ArialMT-46\"/>\n       <use x=\"83.398438\" xlink:href=\"#ArialMT-56\"/>\n      </g>\n     </g>\n    </g>\n   </g>\n   <g id=\"matplotlib.axis_2\">\n    <g id=\"ytick_1\">\n     <g id=\"line2d_7\">\n      <path clip-path=\"url(#p5fe6289664)\" d=\"M 44.531719 424.342489 \nL 714.131719 424.342489 \n\" style=\"fill:none;stroke:#ffffff;stroke-linecap:round;\"/>\n     </g>\n     <g id=\"text_7\">\n      <!-- −1.25 -->\n      <defs>\n       <path d=\"M 37.25 0 \nL 28.46875 0 \nL 28.46875 56 \nQ 25.296875 52.984375 20.140625 49.953125 \nQ 14.984375 46.921875 10.890625 45.40625 \nL 10.890625 53.90625 \nQ 18.265625 57.375 23.78125 62.296875 \nQ 29.296875 67.234375 31.59375 71.875 \nL 37.25 71.875 \nz\n\" id=\"ArialMT-49\"/>\n       <path d=\"M 4.15625 18.75 \nL 13.375 19.53125 \nQ 14.40625 12.796875 18.140625 9.390625 \nQ 21.875 6 27.15625 6 \nQ 33.5 6 37.890625 10.78125 \nQ 42.28125 15.578125 42.28125 23.484375 \nQ 42.28125 31 38.0625 35.34375 \nQ 33.84375 39.703125 27 39.703125 \nQ 22.75 39.703125 19.328125 37.765625 \nQ 15.921875 35.84375 13.96875 32.765625 \nL 5.71875 33.84375 \nL 12.640625 70.609375 \nL 48.25 70.609375 \nL 48.25 62.203125 \nL 19.671875 62.203125 \nL 15.828125 42.96875 \nQ 22.265625 47.46875 29.34375 47.46875 \nQ 38.71875 47.46875 45.15625 40.96875 \nQ 51.609375 34.46875 51.609375 24.265625 \nQ 51.609375 14.546875 45.953125 7.46875 \nQ 39.0625 -1.21875 27.15625 -1.21875 \nQ 17.390625 -1.21875 11.203125 4.25 \nQ 5.03125 9.71875 4.15625 18.75 \nz\n\" id=\"ArialMT-53\"/>\n      </defs>\n      <g style=\"fill:#262626;\" transform=\"translate(7.2 428.279286)scale(0.11 -0.11)\">\n       <use xlink:href=\"#ArialMT-8722\"/>\n       <use x=\"58.398438\" xlink:href=\"#ArialMT-49\"/>\n       <use x=\"114.013672\" xlink:href=\"#ArialMT-46\"/>\n       <use x=\"141.796875\" xlink:href=\"#ArialMT-50\"/>\n       <use x=\"197.412109\" xlink:href=\"#ArialMT-53\"/>\n      </g>\n     </g>\n    </g>\n    <g id=\"ytick_2\">\n     <g id=\"line2d_8\">\n      <path clip-path=\"url(#p5fe6289664)\" d=\"M 44.531719 365.313105 \nL 714.131719 365.313105 \n\" style=\"fill:none;stroke:#ffffff;stroke-linecap:round;\"/>\n     </g>\n     <g id=\"text_8\">\n      <!-- −1.00 -->\n      <g style=\"fill:#262626;\" transform=\"translate(7.2 369.249902)scale(0.11 -0.11)\">\n       <use xlink:href=\"#ArialMT-8722\"/>\n       <use x=\"58.398438\" xlink:href=\"#ArialMT-49\"/>\n       <use x=\"114.013672\" xlink:href=\"#ArialMT-46\"/>\n       <use x=\"141.796875\" xlink:href=\"#ArialMT-48\"/>\n       <use x=\"197.412109\" xlink:href=\"#ArialMT-48\"/>\n      </g>\n     </g>\n    </g>\n    <g id=\"ytick_3\">\n     <g id=\"line2d_9\">\n      <path clip-path=\"url(#p5fe6289664)\" d=\"M 44.531719 306.28372 \nL 714.131719 306.28372 \n\" style=\"fill:none;stroke:#ffffff;stroke-linecap:round;\"/>\n     </g>\n     <g id=\"text_9\">\n      <!-- −0.75 -->\n      <defs>\n       <path d=\"M 4.734375 62.203125 \nL 4.734375 70.65625 \nL 51.078125 70.65625 \nL 51.078125 63.8125 \nQ 44.234375 56.546875 37.515625 44.484375 \nQ 30.8125 32.421875 27.15625 19.671875 \nQ 24.515625 10.6875 23.78125 0 \nL 14.75 0 \nQ 14.890625 8.453125 18.0625 20.40625 \nQ 21.234375 32.375 27.171875 43.484375 \nQ 33.109375 54.59375 39.796875 62.203125 \nz\n\" id=\"ArialMT-55\"/>\n      </defs>\n      <g style=\"fill:#262626;\" transform=\"translate(7.2 310.220517)scale(0.11 -0.11)\">\n       <use xlink:href=\"#ArialMT-8722\"/>\n       <use x=\"58.398438\" xlink:href=\"#ArialMT-48\"/>\n       <use x=\"114.013672\" xlink:href=\"#ArialMT-46\"/>\n       <use x=\"141.796875\" xlink:href=\"#ArialMT-55\"/>\n       <use x=\"197.412109\" xlink:href=\"#ArialMT-53\"/>\n      </g>\n     </g>\n    </g>\n    <g id=\"ytick_4\">\n     <g id=\"line2d_10\">\n      <path clip-path=\"url(#p5fe6289664)\" d=\"M 44.531719 247.254335 \nL 714.131719 247.254335 \n\" style=\"fill:none;stroke:#ffffff;stroke-linecap:round;\"/>\n     </g>\n     <g id=\"text_10\">\n      <!-- −0.50 -->\n      <g style=\"fill:#262626;\" transform=\"translate(7.2 251.191132)scale(0.11 -0.11)\">\n       <use xlink:href=\"#ArialMT-8722\"/>\n       <use x=\"58.398438\" xlink:href=\"#ArialMT-48\"/>\n       <use x=\"114.013672\" xlink:href=\"#ArialMT-46\"/>\n       <use x=\"141.796875\" xlink:href=\"#ArialMT-53\"/>\n       <use x=\"197.412109\" xlink:href=\"#ArialMT-48\"/>\n      </g>\n     </g>\n    </g>\n    <g id=\"ytick_5\">\n     <g id=\"line2d_11\">\n      <path clip-path=\"url(#p5fe6289664)\" d=\"M 44.531719 188.224951 \nL 714.131719 188.224951 \n\" style=\"fill:none;stroke:#ffffff;stroke-linecap:round;\"/>\n     </g>\n     <g id=\"text_11\">\n      <!-- −0.25 -->\n      <g style=\"fill:#262626;\" transform=\"translate(7.2 192.161748)scale(0.11 -0.11)\">\n       <use xlink:href=\"#ArialMT-8722\"/>\n       <use x=\"58.398438\" xlink:href=\"#ArialMT-48\"/>\n       <use x=\"114.013672\" xlink:href=\"#ArialMT-46\"/>\n       <use x=\"141.796875\" xlink:href=\"#ArialMT-50\"/>\n       <use x=\"197.412109\" xlink:href=\"#ArialMT-53\"/>\n      </g>\n     </g>\n    </g>\n    <g id=\"ytick_6\">\n     <g id=\"line2d_12\">\n      <path clip-path=\"url(#p5fe6289664)\" d=\"M 44.531719 129.195566 \nL 714.131719 129.195566 \n\" style=\"fill:none;stroke:#ffffff;stroke-linecap:round;\"/>\n     </g>\n     <g id=\"text_12\">\n      <!-- 0.00 -->\n      <g style=\"fill:#262626;\" transform=\"translate(13.624687 133.132363)scale(0.11 -0.11)\">\n       <use xlink:href=\"#ArialMT-48\"/>\n       <use x=\"55.615234\" xlink:href=\"#ArialMT-46\"/>\n       <use x=\"83.398438\" xlink:href=\"#ArialMT-48\"/>\n       <use x=\"139.013672\" xlink:href=\"#ArialMT-48\"/>\n      </g>\n     </g>\n    </g>\n    <g id=\"ytick_7\">\n     <g id=\"line2d_13\">\n      <path clip-path=\"url(#p5fe6289664)\" d=\"M 44.531719 70.166182 \nL 714.131719 70.166182 \n\" style=\"fill:none;stroke:#ffffff;stroke-linecap:round;\"/>\n     </g>\n     <g id=\"text_13\">\n      <!-- 0.25 -->\n      <g style=\"fill:#262626;\" transform=\"translate(13.624687 74.102978)scale(0.11 -0.11)\">\n       <use xlink:href=\"#ArialMT-48\"/>\n       <use x=\"55.615234\" xlink:href=\"#ArialMT-46\"/>\n       <use x=\"83.398438\" xlink:href=\"#ArialMT-50\"/>\n       <use x=\"139.013672\" xlink:href=\"#ArialMT-53\"/>\n      </g>\n     </g>\n    </g>\n    <g id=\"ytick_8\">\n     <g id=\"line2d_14\">\n      <path clip-path=\"url(#p5fe6289664)\" d=\"M 44.531719 11.136797 \nL 714.131719 11.136797 \n\" style=\"fill:none;stroke:#ffffff;stroke-linecap:round;\"/>\n     </g>\n     <g id=\"text_14\">\n      <!-- 0.50 -->\n      <g style=\"fill:#262626;\" transform=\"translate(13.624687 15.073594)scale(0.11 -0.11)\">\n       <use xlink:href=\"#ArialMT-48\"/>\n       <use x=\"55.615234\" xlink:href=\"#ArialMT-46\"/>\n       <use x=\"83.398438\" xlink:href=\"#ArialMT-53\"/>\n       <use x=\"139.013672\" xlink:href=\"#ArialMT-48\"/>\n      </g>\n     </g>\n    </g>\n   </g>\n   <g id=\"PathCollection_1\">\n    <defs>\n     <path d=\"M 0 3 \nC 0.795609 3 1.55874 2.683901 2.12132 2.12132 \nC 2.683901 1.55874 3 0.795609 3 0 \nC 3 -0.795609 2.683901 -1.55874 2.12132 -2.12132 \nC 1.55874 -2.683901 0.795609 -3 0 -3 \nC -0.795609 -3 -1.55874 -2.683901 -2.12132 -2.12132 \nC -2.683901 -1.55874 -3 -0.795609 -3 0 \nC -3 0.795609 -2.683901 1.55874 -2.12132 2.12132 \nC -1.55874 2.683901 -0.795609 3 0 3 \nz\n\" id=\"mabe4821636\" style=\"stroke:#ffffff;stroke-width:0.75;\"/>\n    </defs>\n    <g clip-path=\"url(#p5fe6289664)\">\n     <use style=\"fill:#4c72b0;stroke:#ffffff;stroke-width:0.75;\" x=\"201.261261\" xlink:href=\"#mabe4821636\" y=\"127.100723\"/>\n     <use style=\"fill:#4c72b0;stroke:#ffffff;stroke-width:0.75;\" x=\"184.434173\" xlink:href=\"#mabe4821636\" y=\"129.158173\"/>\n     <use style=\"fill:#4c72b0;stroke:#ffffff;stroke-width:0.75;\" x=\"192.233941\" xlink:href=\"#mabe4821636\" y=\"131.032897\"/>\n     <use style=\"fill:#4c72b0;stroke:#ffffff;stroke-width:0.75;\" x=\"88.271875\" xlink:href=\"#mabe4821636\" y=\"139.65757\"/>\n     <use style=\"fill:#4c72b0;stroke:#ffffff;stroke-width:0.75;\" x=\"96.303421\" xlink:href=\"#mabe4821636\" y=\"190.02644\"/>\n     <use style=\"fill:#4c72b0;stroke:#ffffff;stroke-width:0.75;\" x=\"111.585916\" xlink:href=\"#mabe4821636\" y=\"101.118366\"/>\n     <use style=\"fill:#4c72b0;stroke:#ffffff;stroke-width:0.75;\" x=\"106.423077\" xlink:href=\"#mabe4821636\" y=\"126.318007\"/>\n     <use style=\"fill:#4c72b0;stroke:#ffffff;stroke-width:0.75;\" x=\"102.758175\" xlink:href=\"#mabe4821636\" y=\"174.337056\"/>\n     <use style=\"fill:#4c72b0;stroke:#ffffff;stroke-width:0.75;\" x=\"77.652006\" xlink:href=\"#mabe4821636\" y=\"157.269579\"/>\n     <use style=\"fill:#4c72b0;stroke:#ffffff;stroke-width:0.75;\" x=\"91.511147\" xlink:href=\"#mabe4821636\" y=\"159.358315\"/>\n     <use style=\"fill:#4c72b0;stroke:#ffffff;stroke-width:0.75;\" x=\"103.996892\" xlink:href=\"#mabe4821636\" y=\"152.849565\"/>\n     <use style=\"fill:#4c72b0;stroke:#ffffff;stroke-width:0.75;\" x=\"113.569348\" xlink:href=\"#mabe4821636\" y=\"117.646186\"/>\n     <use style=\"fill:#4c72b0;stroke:#ffffff;stroke-width:0.75;\" x=\"88.634792\" xlink:href=\"#mabe4821636\" y=\"141.300807\"/>\n     <use style=\"fill:#4c72b0;stroke:#ffffff;stroke-width:0.75;\" x=\"129.060979\" xlink:href=\"#mabe4821636\" y=\"152.430183\"/>\n     <use style=\"fill:#4c72b0;stroke:#ffffff;stroke-width:0.75;\" x=\"131.151309\" xlink:href=\"#mabe4821636\" y=\"149.006275\"/>\n     <use style=\"fill:#4c72b0;stroke:#ffffff;stroke-width:0.75;\" x=\"129.228222\" xlink:href=\"#mabe4821636\" y=\"157.899131\"/>\n     <use style=\"fill:#4c72b0;stroke:#ffffff;stroke-width:0.75;\" x=\"177.845305\" xlink:href=\"#mabe4821636\" y=\"128.96705\"/>\n     <use style=\"fill:#4c72b0;stroke:#ffffff;stroke-width:0.75;\" x=\"141.221548\" xlink:href=\"#mabe4821636\" y=\"150.550439\"/>\n     <use style=\"fill:#4c72b0;stroke:#ffffff;stroke-width:0.75;\" x=\"97.965003\" xlink:href=\"#mabe4821636\" y=\"153.906871\"/>\n     <use style=\"fill:#4c72b0;stroke:#ffffff;stroke-width:0.75;\" x=\"182.443252\" xlink:href=\"#mabe4821636\" y=\"115.650653\"/>\n     <use style=\"fill:#4c72b0;stroke:#ffffff;stroke-width:0.75;\" x=\"110.560601\" xlink:href=\"#mabe4821636\" y=\"113.091182\"/>\n     <use style=\"fill:#4c72b0;stroke:#ffffff;stroke-width:0.75;\" x=\"191.897158\" xlink:href=\"#mabe4821636\" y=\"101.005742\"/>\n     <use style=\"fill:#4c72b0;stroke:#ffffff;stroke-width:0.75;\" x=\"86.662201\" xlink:href=\"#mabe4821636\" y=\"170.140527\"/>\n     <use style=\"fill:#4c72b0;stroke:#ffffff;stroke-width:0.75;\" x=\"121.110416\" xlink:href=\"#mabe4821636\" y=\"78.820167\"/>\n     <use style=\"fill:#4c72b0;stroke:#ffffff;stroke-width:0.75;\" x=\"122.474833\" xlink:href=\"#mabe4821636\" y=\"39.307113\"/>\n     <use style=\"fill:#4c72b0;stroke:#ffffff;stroke-width:0.75;\" x=\"82.318356\" xlink:href=\"#mabe4821636\" y=\"171.960256\"/>\n     <use style=\"fill:#4c72b0;stroke:#ffffff;stroke-width:0.75;\" x=\"134.046088\" xlink:href=\"#mabe4821636\" y=\"156.607346\"/>\n     <use style=\"fill:#4c72b0;stroke:#ffffff;stroke-width:0.75;\" x=\"116.095505\" xlink:href=\"#mabe4821636\" y=\"163.65827\"/>\n     <use style=\"fill:#4c72b0;stroke:#ffffff;stroke-width:0.75;\" x=\"149.593522\" xlink:href=\"#mabe4821636\" y=\"130.977318\"/>\n     <use style=\"fill:#4c72b0;stroke:#ffffff;stroke-width:0.75;\" x=\"121.048121\" xlink:href=\"#mabe4821636\" y=\"46.754333\"/>\n     <use style=\"fill:#4c72b0;stroke:#ffffff;stroke-width:0.75;\" x=\"117.691591\" xlink:href=\"#mabe4821636\" y=\"31.992413\"/>\n     <use style=\"fill:#4c72b0;stroke:#ffffff;stroke-width:0.75;\" x=\"124.042423\" xlink:href=\"#mabe4821636\" y=\"32.191486\"/>\n     <use style=\"fill:#4c72b0;stroke:#ffffff;stroke-width:0.75;\" x=\"316.884266\" xlink:href=\"#mabe4821636\" y=\"141.969708\"/>\n     <use style=\"fill:#4c72b0;stroke:#ffffff;stroke-width:0.75;\" x=\"311.709772\" xlink:href=\"#mabe4821636\" y=\"141.561362\"/>\n     <use style=\"fill:#4c72b0;stroke:#ffffff;stroke-width:0.75;\" x=\"308.705956\" xlink:href=\"#mabe4821636\" y=\"141.35426\"/>\n     <use style=\"fill:#4c72b0;stroke:#ffffff;stroke-width:0.75;\" x=\"312.121227\" xlink:href=\"#mabe4821636\" y=\"141.349604\"/>\n     <use style=\"fill:#4c72b0;stroke:#ffffff;stroke-width:0.75;\" x=\"318.434661\" xlink:href=\"#mabe4821636\" y=\"142.237296\"/>\n    </g>\n   </g>\n   <g id=\"PathCollection_2\">\n    <defs>\n     <path d=\"M 0 3 \nC 0.795609 3 1.55874 2.683901 2.12132 2.12132 \nC 2.683901 1.55874 3 0.795609 3 0 \nC 3 -0.795609 2.683901 -1.55874 2.12132 -2.12132 \nC 1.55874 -2.683901 0.795609 -3 0 -3 \nC -0.795609 -3 -1.55874 -2.683901 -2.12132 -2.12132 \nC -2.683901 -1.55874 -3 -0.795609 -3 0 \nC -3 0.795609 -2.683901 1.55874 -2.12132 2.12132 \nC -1.55874 2.683901 -0.795609 3 0 3 \nz\n\" id=\"m48d3d14e5c\" style=\"stroke:#ffffff;stroke-width:0.75;\"/>\n    </defs>\n    <g clip-path=\"url(#p5fe6289664)\">\n     <use style=\"fill:#dd8452;stroke:#ffffff;stroke-width:0.75;\" x=\"682.482248\" xlink:href=\"#m48d3d14e5c\" y=\"424.319735\"/>\n    </g>\n   </g>\n   <g id=\"patch_3\">\n    <path d=\"M 44.531719 445.313409 \nL 44.531719 10.433409 \n\" style=\"fill:none;stroke:#ffffff;stroke-linecap:square;stroke-linejoin:miter;stroke-width:1.25;\"/>\n   </g>\n   <g id=\"patch_4\">\n    <path d=\"M 714.131719 445.313409 \nL 714.131719 10.433409 \n\" style=\"fill:none;stroke:#ffffff;stroke-linecap:square;stroke-linejoin:miter;stroke-width:1.25;\"/>\n   </g>\n   <g id=\"patch_5\">\n    <path d=\"M 44.531719 445.313409 \nL 714.131719 445.313409 \n\" style=\"fill:none;stroke:#ffffff;stroke-linecap:square;stroke-linejoin:miter;stroke-width:1.25;\"/>\n   </g>\n   <g id=\"patch_6\">\n    <path d=\"M 44.531719 10.433409 \nL 714.131719 10.433409 \n\" style=\"fill:none;stroke:#ffffff;stroke-linecap:square;stroke-linejoin:miter;stroke-width:1.25;\"/>\n   </g>\n  </g>\n </g>\n <defs>\n  <clipPath id=\"p5fe6289664\">\n   <rect height=\"434.88\" width=\"669.6\" x=\"44.531719\" y=\"10.433409\"/>\n  </clipPath>\n </defs>\n</svg>\n",
      "image/png": "[encoded data removed]"
     },
     "metadata": {}
    }
   ],
   "source": [
    "# Análise da questão 3\n",
    "pca_x = PCA(n_components=2)\n",
    "pca_x.fit(fifa)\n",
    "sns.scatterplot(pca_x.components_[0], pca_x.components_[1])\n",
    "#sns.scatterplot([x[0]], [x[1]]);"
   ]
  },
  {
   "cell_type": "code",
   "execution_count": 180,
   "metadata": {},
   "outputs": [
    {
     "output_type": "execute_result",
     "data": {
      "text/plain": "1            Age\n2      Potential\n3      Reactions\n4    BallControl\n5     GKReflexes\nName: Overall, dtype: object"
     },
     "metadata": {},
     "execution_count": 180
    }
   ],
   "source": [
    "# Análise da questão 4\n",
    "reg = LinearRegression()\n",
    "y = fifa.Overall\n",
    "x = fifa.drop(columns='Overall')\n",
    "rfe = RFE(reg, n_features_to_select=1)\n",
    "selector_o = rfe.fit(x, y)\n",
    "ranking = pd.Series(x.columns, index=selector_o.ranking_, name='Overall')\n",
    "ranking.sort_index().head()\n"
   ]
  },
  {
   "cell_type": "code",
   "execution_count": 181,
   "metadata": {},
   "outputs": [
    {
     "output_type": "execute_result",
     "data": {
      "text/plain": "1            Age\n2        Overall\n3        Stamina\n4      Composure\n5    SprintSpeed\nName: Potential, dtype: object"
     },
     "metadata": {},
     "execution_count": 181
    }
   ],
   "source": [
    "y_p = fifa.Potential\n",
    "x_p = fifa.drop(columns='Potential')\n",
    "selector = rfe.fit(x_p, y_p)\n",
    "ranking_p = pd.Series(x_p.columns, index=selector.ranking_, name='Potential')\n",
    "ranking_p.sort_index().head()"
   ]
  },
  {
   "cell_type": "markdown",
   "metadata": {},
   "source": [
    "## Questão 1\n",
    "\n",
    "Qual fração da variância consegue ser explicada pelo primeiro componente principal de `fifa`? Responda como um único float (entre 0 e 1) arredondado para três casas decimais."
   ]
  },
  {
   "cell_type": "code",
   "execution_count": 21,
   "metadata": {},
   "outputs": [],
   "source": [
    "def q1():\n",
    "    # Retorne aqui o resultado da questão 1.\n",
    "    pca = PCA(n_components=1)\n",
    "    pca.fit(fifa)\n",
    "    pc1_variance_ratio = pca.explained_variance_ratio_.round(3)\n",
    "    return float(pc1_variance_ratio)"
   ]
  },
  {
   "cell_type": "markdown",
   "metadata": {},
   "source": [
    "## Questão 2\n",
    "\n",
    "Quantos componentes principais precisamos para explicar 95% da variância total? Responda como un único escalar inteiro."
   ]
  },
  {
   "cell_type": "code",
   "execution_count": 24,
   "metadata": {},
   "outputs": [],
   "source": [
    "def q2():\n",
    "    # Retorne aqui o resultado da questão 2.\n",
    "    pca_95 = PCA(0.95)\n",
    "    pca_95.fit(fifa)\n",
    "    return int(pca_95.n_components_)"
   ]
  },
  {
   "cell_type": "markdown",
   "metadata": {},
   "source": [
    "## Questão 3\n",
    "\n",
    "Qual são as coordenadas (primeiro e segundo componentes principais) do ponto `x` abaixo? O vetor abaixo já está centralizado. Cuidado para __não__ centralizar o vetor novamente (por exemplo, invocando `PCA.transform()` nele). Responda como uma tupla de float arredondados para três casas decimais."
   ]
  },
  {
   "cell_type": "code",
   "execution_count": 183,
   "metadata": {},
   "outputs": [],
   "source": [
    "x = [0.87747123,  -1.24990363,  -1.3191255, -36.7341814,\n",
    "     -35.55091139, -37.29814417, -28.68671182, -30.90902583,\n",
    "     -42.37100061, -32.17082438, -28.86315326, -22.71193348,\n",
    "     -38.36945867, -20.61407566, -22.72696734, -25.50360703,\n",
    "     2.16339005, -27.96657305, -33.46004736,  -5.08943224,\n",
    "     -30.21994603,   3.68803348, -36.10997302, -30.86899058,\n",
    "     -22.69827634, -37.95847789, -22.40090313, -30.54859849,\n",
    "     -26.64827358, -19.28162344, -34.69783578, -34.6614351,\n",
    "     48.38377664,  47.60840355,  45.76793876,  44.61110193,\n",
    "     49.28911284\n",
    "]"
   ]
  },
  {
   "cell_type": "code",
   "execution_count": 173,
   "metadata": {},
   "outputs": [],
   "source": [
    "def q3():\n",
    "    # Retorne aqui o resultado da questão 3.\n",
    "    pca_x = PCA(n_components=2)\n",
    "    pca_x.fit(fifa)\n",
    "    x_coord = pca_x.components_.dot(x).round(3)\n",
    "    return tuple(x_coord)"
   ]
  },
  {
   "cell_type": "markdown",
   "metadata": {},
   "source": [
    "## Questão 4\n",
    "\n",
    "Realiza RFE com estimador de regressão linear para selecionar cinco variáveis, eliminando uma a uma. Quais são as variáveis selecionadas? Responda como uma lista de nomes de variáveis."
   ]
  },
  {
   "cell_type": "code",
   "execution_count": 175,
   "metadata": {},
   "outputs": [],
   "source": [
    "def q4():\n",
    "    # Retorne aqui o resultado da questão 4.\n",
    "    reg = LinearRegression()\n",
    "    y = fifa.Overall\n",
    "    x = fifa.drop(columns='Overall')\n",
    "    rfe = RFE(reg, n_features_to_select=1)\n",
    "    selector = rfe.fit(x, y)\n",
    "    ranking = pd.Series(x.columns, index=selector.ranking_)\n",
    "    return ranking.sort_index().head().to_list()"
   ]
  }
 ],
 "metadata": {
  "kernelspec": {
   "display_name": "Python 3.7.7 64-bit ('venv': conda)",
   "language": "python",
   "name": "python37764bitvenvconda9da9add337e94a37bb3c46bbae36232d"
  },
  "language_info": {
   "codemirror_mode": {
    "name": "ipython",
    "version": 3
   },
   "file_extension": ".py",
   "mimetype": "text/x-python",
   "name": "python",
   "nbconvert_exporter": "python",
   "pygments_lexer": "ipython3",
   "version": "3.7.7-final"
  }
 },
 "nbformat": 4,
 "nbformat_minor": 2
}