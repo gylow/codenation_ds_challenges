{
 "metadata": {
  "language_info": {
   "codemirror_mode": {
    "name": "ipython",
    "version": 3
   },
   "file_extension": ".py",
   "mimetype": "text/x-python",
   "name": "python",
   "nbconvert_exporter": "python",
   "pygments_lexer": "ipython3",
   "version": 3
  },
  "orig_nbformat": 2,
  "kernelspec": {
   "name": "python_defaultSpec_1596982616679",
   "display_name": "Python 3.7.7 64-bit ('venv': conda)"
  }
 },
 "nbformat": 4,
 "nbformat_minor": 2,
 "cells": [
  {
   "cell_type": "code",
   "execution_count": 1,
   "metadata": {},
   "outputs": [],
   "source": [
    "import pandas as pd\n",
    "\n",
    "# Parâmetros gerais para a análise e processamento dos daddos\n",
    "name_target = 'IN_TREINEIRO'\n",
    "name_id = 'NU_INSCRICAO'"
   ]
  },
  {
   "cell_type": "code",
   "execution_count": 2,
   "metadata": {
    "tags": []
   },
   "outputs": [
    {
     "output_type": "stream",
     "name": "stdout",
     "text": "Train shape: (13730, 167), Test shape: (4570, 43)\nDONE: convertendo colunas dataframe de treino igual ao de teste + target\nDONE: gravando dataframe de treino formatado\n<class 'pandas.core.frame.DataFrame'>\nRangeIndex: 13730 entries, 0 to 13729\nData columns (total 44 columns):\n #   Column                  Non-Null Count  Dtype  \n---  ------                  --------------  -----  \n 0   NU_INSCRICAO            13730 non-null  object \n 1   CO_UF_RESIDENCIA        13730 non-null  int64  \n 2   SG_UF_RESIDENCIA        13730 non-null  object \n 3   NU_IDADE                13730 non-null  int64  \n 4   TP_SEXO                 13730 non-null  object \n 5   TP_COR_RACA             13730 non-null  int64  \n 6   TP_NACIONALIDADE        13730 non-null  int64  \n 7   TP_ST_CONCLUSAO         13730 non-null  int64  \n 8   TP_ANO_CONCLUIU         13730 non-null  int64  \n 9   TP_ESCOLA               13730 non-null  int64  \n 10  TP_ENSINO               4282 non-null   float64\n 11  TP_DEPENDENCIA_ADM_ESC  4282 non-null   float64\n 12  IN_BAIXA_VISAO          13730 non-null  int64  \n 13  IN_CEGUEIRA             13730 non-null  int64  \n 14  IN_SURDEZ               13730 non-null  int64  \n 15  IN_DISLEXIA             13730 non-null  int64  \n 16  IN_DISCALCULIA          13730 non-null  int64  \n 17  IN_SABATISTA            13730 non-null  int64  \n 18  IN_GESTANTE             13730 non-null  int64  \n 19  IN_IDOSO                13730 non-null  int64  \n 20  TP_PRESENCA_CN          13730 non-null  int64  \n 21  TP_PRESENCA_CH          13730 non-null  int64  \n 22  TP_PRESENCA_LC          13730 non-null  int64  \n 23  TP_PRESENCA_MT          13730 non-null  int64  \n 24  NU_NOTA_CN              10341 non-null  float64\n 25  NU_NOTA_CH              10341 non-null  float64\n 26  NU_NOTA_LC              10133 non-null  float64\n 27  TP_LINGUA               13730 non-null  int64  \n 28  TP_STATUS_REDACAO       10133 non-null  float64\n 29  NU_NOTA_COMP1           10133 non-null  float64\n 30  NU_NOTA_COMP2           10133 non-null  float64\n 31  NU_NOTA_COMP3           10133 non-null  float64\n 32  NU_NOTA_COMP4           10133 non-null  float64\n 33  NU_NOTA_COMP5           10133 non-null  float64\n 34  NU_NOTA_REDACAO         10133 non-null  float64\n 35  Q001                    13730 non-null  object \n 36  Q002                    13730 non-null  object \n 37  Q006                    13730 non-null  object \n 38  Q024                    13730 non-null  object \n 39  Q025                    13730 non-null  object \n 40  Q026                    13730 non-null  object \n 41  Q027                    6357 non-null   object \n 42  Q047                    13730 non-null  object \n 43  IN_TREINEIRO            13730 non-null  int64  \ndtypes: float64(12), int64(21), object(11)\nmemory usage: 4.6+ MB\nNone\n"
    }
   ],
   "source": [
    "### Análise dos dados de teste e de treino\n",
    "df_train = pd.read_csv('../data/train.csv')\n",
    "df_test = pd.read_csv('../data/test.csv')\n",
    "print(f'Train shape: {df_train.shape}, Test shape: {df_test.shape}')\n",
    "\n",
    "if name_target not in df_train.columns :\n",
    "    print('ERROR: dataframe de treino não possui target')\n",
    "    \n",
    "elif df_test.columns.size >= (df_train.drop(columns=name_target).columns.size)\\\n",
    "        and all(elem in df_test for elem in df_train.drop(columns=name_target).columns) :\n",
    "    print('ALERT: dataframes de teste e treino ok')\n",
    "\n",
    "elif all(df_train[df_test.columns].columns == df_test.columns) :\n",
    "    print('DONE: convertendo colunas dataframe de treino igual ao de teste + target')\n",
    "    df_train = pd.concat([df_train[df_test.columns], df_train[name_target]], axis=1)\n",
    "    print('DONE: gravando dataframe de treino formatado')\n",
    "    df_train.to_csv('../data/train.csv', index=False)\n",
    "else :\n",
    "    print('ERROR: colunas dos Data frames de treino e testes são diferentes')\n",
    "\n",
    "print(df_train.info())\n",
    "del df_test, df_train"
   ]
  },
  {
   "cell_type": "markdown",
   "metadata": {},
   "source": [
    "### Análise de Feature\n",
    "df_train = pd.read_csv('../data/train.csv')\n",
    "var = df_train['NU_IDADE'].copy()\n",
    "import seaborn as sns\n",
    "import statsmodels.api as sm\n",
    "from IPython.core.pylabtools import figsize\n",
    "%matplotlib inline\n",
    "figsize(12, 8)\n",
    "sns.set()\n",
    "sns.heatmap(df_train.corr(), square=True);"
   ]
  },
  {
   "cell_type": "markdown",
   "metadata": {
    "tags": []
   },
   "source": [
    "sns.distplot(var)"
   ]
  },
  {
   "cell_type": "markdown",
   "metadata": {},
   "source": [
    "sns.lineplot(var, df_train[name_target])"
   ]
  },
  {
   "cell_type": "markdown",
   "metadata": {},
   "source": [
    "sns.scatterplot(var, df_train[name_target])"
   ]
  },
  {
   "cell_type": "markdown",
   "metadata": {},
   "source": [
    "sm.qqplot(var, fit=True, line=\"45\");"
   ]
  },
  {
   "cell_type": "markdown",
   "metadata": {
    "tags": []
   },
   "source": [
    "### Análise de dados nulos e zerados\n",
    "df_train = pd.read_csv('../data/train.csv')\n",
    "print(f'dados Nulos: {df_train[(df_train[\"TP_PRESENCA_LC\"] == 0) | (df_train[\"TP_PRESENCA_LC\"] == 2) ][name_target].unique()}')\n",
    "print(f'dados Zerados: {df_train[(df_train[\"NU_NOTA_LC\"] == 0)][name_target].unique()}')\n",
    "del df_train"
   ]
  },
  {
   "cell_type": "markdown",
   "metadata": {},
   "source": [
    "### Parâmetros para remover alunos ausentes da prova de matemática\n",
    "lin_null = [('TP_PRESENCA_LC', 0), ('TP_PRESENCA_LC', 2)]\n",
    "lin_zero = [('NU_NOTA_LC', 0)]\n",
    "\n",
    "### Parâmetro para remover alunos outliers restantes\n",
    "lin_MT_0 = [('NU_NOTA_MT', 0)]"
   ]
  },
  {
   "cell_type": "code",
   "execution_count": 3,
   "metadata": {},
   "outputs": [],
   "source": [
    "### Classe para a leitura dos arquivos e carregar os dataframes\n",
    "from data_source import DataSource\n",
    "data = DataSource(name_id=name_id, name_target=name_target)"
   ]
  },
  {
   "cell_type": "markdown",
   "metadata": {},
   "source": [
    "### Optional manual analise columns. \n",
    "#### Syntax: COLUMN_NAME    TYPE   [FILLNA ENCODE  [DROP_FIRST]] #COMMENTS\n",
    "col_analise = [             \n",
    "    ('NU_INSCRICAO',        None), # only unique values\n",
    "    ('CO_UF_RESIDENCIA',    None), # duplicated\n",
    "    ('SG_UF_RESIDENCIA',    'cat',  None,   False),\n",
    "    ('NU_IDADE',            'num',  None,   False),\n",
    "    ('TP_SEXO',             'cat',  None,   False),\n",
    "    ('TP_COR_RACA',         'cat',  None,   True,   True),\n",
    "    ('TP_NACIONALIDADE',    None), # insignificant correlation\n",
    "    ('TP_ST_CONCLUSAO',     'cat',  None,   False),\n",
    "    ('TP_ANO_CONCLUIU',     None), # missing values\n",
    "    ('TP_ESCOLA',           'cat',  None,   True,   True),\n",
    "    ('TP_ENSINO',           'cat',  None,   True,   False),\n",
    "    ('IN_TREINEIRO',        'cat',  None,   False),\t\n",
    "    ('TP_DEPENDENCIA_ADM_ESC','cat',None,   True,   False),\n",
    "    ('IN_BAIXA_VISAO',      None),\t\n",
    "    ('IN_CEGUEIRA',         None), \t\n",
    "    ('IN_SURDEZ',           None), \t\n",
    "    ('IN_DISLEXIA',         None), \t\n",
    "    ('IN_DISCALCULIA',      None), \t\n",
    "    ('IN_SABATISTA',        None), \t\n",
    "    ('IN_GESTANTE',         None), \t\n",
    "    ('IN_IDOSO',            None), \t\n",
    "    ('TP_PRESENCA_CN',      None), \t\n",
    "    ('TP_PRESENCA_CH',      None), \t\n",
    "    ('TP_PRESENCA_LC',      None), \t\n",
    "    ('CO_PROVA_CN',         None), \t\n",
    "    ('CO_PROVA_CH',         None), \t\n",
    "    ('CO_PROVA_LC',         None), \t\n",
    "    ('CO_PROVA_MT',         None), \t\n",
    "    ('NU_NOTA_CN',          'num',   459.8,  False),\t\n",
    "    ('NU_NOTA_CH',          'num',   532.0,  False),\t\n",
    "    ('NU_NOTA_LC',          'num',   None,   False),\t\n",
    "    ('NU_NOTA_REDACAO',     'num',   None,   False),\t\n",
    "    ('TP_LINGUA',           'cat',   None,   False),\n",
    "    ('TP_STATUS_REDACAO',   None),\t\n",
    "    ('NU_NOTA_COMP1',       'num',   None,   False),\t\n",
    "    ('NU_NOTA_COMP2',       'num',   None,   False),\n",
    "    ('NU_NOTA_COMP3',       'num',   None,   False),\n",
    "    ('NU_NOTA_COMP4',       'num',   None,   False),\n",
    "    ('NU_NOTA_COMP5',       'num',   None,   False),\n",
    "    ('Q001',                'cat',   None,   False),\t\n",
    "    ('Q002',                'cat',   None,   False),\n",
    "    ('Q006',                'cat',   None,   False),\n",
    "    ('Q024',                'cat',   None,   False),\n",
    "    ('Q025',                'cat',   None,   False),\n",
    "    ('Q026',                'cat',   None,   False),\n",
    "    ('Q027',                None), # missing values\t\n",
    "    ('Q047',                'cat',   None,   False),\n",
    "    ]"
   ]
  },
  {
   "cell_type": "markdown",
   "metadata": {
    "tags": []
   },
   "source": [
    "### Classe para o pré processamento das features\n",
    "from preprocessing import Preprocessing\n",
    "pre = Preprocessing(data, col_analise=col_analise, rfe='LR', pca=False)"
   ]
  },
  {
   "cell_type": "markdown",
   "metadata": {
    "tags": []
   },
   "source": [
    "### Classe para definir e treinar o modelo\n",
    "from model_training import ModelTraining\n",
    "model = ModelTraining(pre, model_training='RF')\n",
    "trained_model = model.training()"
   ]
  },
  {
   "cell_type": "markdown",
   "metadata": {
    "tags": []
   },
   "source": [
    "### Classe para rodar o modelo e gerar o resultado\n",
    "from model_inference import ModelInference\n",
    "y_pred = ModelInference(trained_model).predict()"
   ]
  },
  {
   "cell_type": "code",
   "execution_count": 8,
   "metadata": {},
   "outputs": [],
   "source": [
    "# Gravação da resposta\n",
    "df_answer = data.get_columns(name_columns=[name_id], is_train_stage=False)\n",
    "df_answer[name_target] = 0\n",
    "df_answer.to_csv('../answer.csv', index=False)"
   ]
  },
  {
   "cell_type": "code",
   "execution_count": null,
   "metadata": {},
   "outputs": [],
   "source": [
    "# histórico das submissões\n",
    "# 87.40  Todos valores zerados\n",
    "# "
   ]
  }
 ]
}