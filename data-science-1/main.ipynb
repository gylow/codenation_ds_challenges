{
 "cells": [
  {
   "cell_type": "markdown",
   "metadata": {},
   "source": [
    "# Desafio 3\n",
    "\n",
    "Neste desafio, iremos praticar nossos conhecimentos sobre distribuições de probabilidade. Para isso,\n",
    "dividiremos este desafio em duas partes:\n",
    "    \n",
    "1. A primeira parte contará com 3 questões sobre um *data set* artificial com dados de uma amostra normal e\n",
    "    uma binomial.\n",
    "2. A segunda parte será sobre a análise da distribuição de uma variável do _data set_ [Pulsar Star](https://archive.ics.uci.edu/ml/datasets/HTRU2), contendo 2 questões.\n",
    "\n",
    "> Obs.: Por favor, não modifique o nome das funções de resposta."
   ]
  },
  {
   "cell_type": "markdown",
   "metadata": {},
   "source": [
    "## _Setup_ geral"
   ]
  },
  {
   "cell_type": "code",
   "execution_count": 1,
   "metadata": {},
   "outputs": [],
   "source": [
    "import pandas as pd\n",
    "import matplotlib.pyplot as plt\n",
    "import numpy as np\n",
    "import scipy.stats as sct\n",
    "import seaborn as sns\n",
    "from statsmodels.distributions.empirical_distribution import ECDF"
   ]
  },
  {
   "cell_type": "code",
   "execution_count": 56,
   "metadata": {},
   "outputs": [],
   "source": [
    "#%matplotlib inline\n",
    "\n",
    "from IPython.core.pylabtools import figsize\n",
    "\n",
    "\n",
    "figsize(12, 8)\n",
    "\n",
    "sns.set()"
   ]
  },
  {
   "cell_type": "markdown",
   "metadata": {},
   "source": [
    "## Parte 1"
   ]
  },
  {
   "cell_type": "markdown",
   "metadata": {},
   "source": [
    "### _Setup_ da parte 1"
   ]
  },
  {
   "cell_type": "code",
   "execution_count": 3,
   "metadata": {},
   "outputs": [],
   "source": [
    "np.random.seed(42)\n",
    "    \n",
    "dataframe = pd.DataFrame({\"normal\": sct.norm.rvs(20, 4, size=10000),\n",
    "                     \"binomial\": sct.binom.rvs(100, 0.2, size=10000)})"
   ]
  },
  {
   "cell_type": "markdown",
   "metadata": {},
   "source": [
    "## Inicie sua análise a partir da parte 1 a partir daqui"
   ]
  },
  {
   "cell_type": "code",
   "execution_count": 4,
   "metadata": {},
   "outputs": [
    {
     "output_type": "execute_result",
     "data": {
      "text/plain": "count    10000.000000\nmean        19.991456\nstd          4.013850\nmin          4.310399\n25%         17.309638\n50%         19.989620\n75%         22.684324\nmax         35.704951\nName: normal, dtype: float64"
     },
     "metadata": {},
     "execution_count": 4
    }
   ],
   "source": [
    "# Sua análise da parte 1 começa aqui.\n",
    "df = dataframe\n",
    "normal_describe = df.normal.describe()\n",
    "normal_describe"
   ]
  },
  {
   "cell_type": "code",
   "execution_count": 5,
   "metadata": {},
   "outputs": [
    {
     "output_type": "execute_result",
     "data": {
      "text/plain": "count    10000.000000\nmean        20.097000\nstd          4.041191\nmin          6.000000\n25%         17.000000\n50%         20.000000\n75%         23.000000\nmax         36.000000\nName: binomial, dtype: float64"
     },
     "metadata": {},
     "execution_count": 5
    }
   ],
   "source": [
    "binomial_describe = df.binomial.describe()\n",
    "binomial_describe"
   ]
  },
  {
   "cell_type": "code",
   "execution_count": 6,
   "metadata": {},
   "outputs": [
    {
     "output_type": "execute_result",
     "data": {
      "text/plain": "(0.31, -0.01, -0.316)"
     },
     "metadata": {},
     "execution_count": 6
    }
   ],
   "source": [
    "tuple((normal_describe - binomial_describe)[['25%', '50%', '75%']].round(3))"
   ]
  },
  {
   "cell_type": "code",
   "execution_count": 7,
   "metadata": {},
   "outputs": [
    {
     "output_type": "execute_result",
     "data": {
      "text/plain": "<matplotlib.axes._subplots.AxesSubplot at 0x7f9930eb2c50>"
     },
     "metadata": {},
     "execution_count": 7
    },
    {
     "output_type": "display_data",
     "data": {
      "text/plain": "<Figure size 864x576 with 1 Axes>",
      "image/svg+xml": "<?xml version=\"1.0\" encoding=\"utf-8\" standalone=\"no\"?>\n<!DOCTYPE svg PUBLIC \"-//W3C//DTD SVG 1.1//EN\"\n  \"http://www.w3.org/Graphics/SVG/1.1/DTD/svg11.dtd\">\n<!-- Created with matplotlib (https://matplotlib.org/) -->\n<svg height=\"468.839844pt\" version=\"1.1\" viewBox=\"0 0 717.968125 468.839844\" width=\"717.968125pt\" xmlns=\"http://www.w3.org/2000/svg\" xmlns:xlink=\"http://www.w3.org/1999/xlink\">\n <defs>\n  <style type=\"text/css\">\n*{stroke-linecap:butt;stroke-linejoin:round;}\n  </style>\n </defs>\n <g id=\"figure_1\">\n  <g id=\"patch_1\">\n   <path d=\"M 0 468.839844 \nL 717.968125 468.839844 \nL 717.968125 0 \nL 0 0 \nz\n\" style=\"fill:#ffffff;\"/>\n  </g>\n  <g id=\"axes_1\">\n   <g id=\"patch_2\">\n    <path d=\"M 41.168125 442.08 \nL 710.768125 442.08 \nL 710.768125 7.2 \nL 41.168125 7.2 \nz\n\" style=\"fill:#eaeaf2;\"/>\n   </g>\n   <g id=\"matplotlib.axis_1\">\n    <g id=\"xtick_1\">\n     <g id=\"line2d_1\">\n      <path clip-path=\"url(#paa9b244987)\" d=\"M 84.975565 442.08 \nL 84.975565 7.2 \n\" style=\"fill:none;stroke:#ffffff;stroke-linecap:round;\"/>\n     </g>\n     <g id=\"text_1\">\n      <!-- 5 -->\n      <defs>\n       <path d=\"M 4.15625 18.75 \nL 13.375 19.53125 \nQ 14.40625 12.796875 18.140625 9.390625 \nQ 21.875 6 27.15625 6 \nQ 33.5 6 37.890625 10.78125 \nQ 42.28125 15.578125 42.28125 23.484375 \nQ 42.28125 31 38.0625 35.34375 \nQ 33.84375 39.703125 27 39.703125 \nQ 22.75 39.703125 19.328125 37.765625 \nQ 15.921875 35.84375 13.96875 32.765625 \nL 5.71875 33.84375 \nL 12.640625 70.609375 \nL 48.25 70.609375 \nL 48.25 62.203125 \nL 19.671875 62.203125 \nL 15.828125 42.96875 \nQ 22.265625 47.46875 29.34375 47.46875 \nQ 38.71875 47.46875 45.15625 40.96875 \nQ 51.609375 34.46875 51.609375 24.265625 \nQ 51.609375 14.546875 45.953125 7.46875 \nQ 39.0625 -1.21875 27.15625 -1.21875 \nQ 17.390625 -1.21875 11.203125 4.25 \nQ 5.03125 9.71875 4.15625 18.75 \nz\n\" id=\"ArialMT-53\"/>\n      </defs>\n      <g style=\"fill:#262626;\" transform=\"translate(81.917049 459.453594)scale(0.11 -0.11)\">\n       <use xlink:href=\"#ArialMT-53\"/>\n      </g>\n     </g>\n    </g>\n    <g id=\"xtick_2\">\n     <g id=\"line2d_2\">\n      <path clip-path=\"url(#paa9b244987)\" d=\"M 181.92348 442.08 \nL 181.92348 7.2 \n\" style=\"fill:none;stroke:#ffffff;stroke-linecap:round;\"/>\n     </g>\n     <g id=\"text_2\">\n      <!-- 10 -->\n      <defs>\n       <path d=\"M 37.25 0 \nL 28.46875 0 \nL 28.46875 56 \nQ 25.296875 52.984375 20.140625 49.953125 \nQ 14.984375 46.921875 10.890625 45.40625 \nL 10.890625 53.90625 \nQ 18.265625 57.375 23.78125 62.296875 \nQ 29.296875 67.234375 31.59375 71.875 \nL 37.25 71.875 \nz\n\" id=\"ArialMT-49\"/>\n       <path d=\"M 4.15625 35.296875 \nQ 4.15625 48 6.765625 55.734375 \nQ 9.375 63.484375 14.515625 67.671875 \nQ 19.671875 71.875 27.484375 71.875 \nQ 33.25 71.875 37.59375 69.546875 \nQ 41.9375 67.234375 44.765625 62.859375 \nQ 47.609375 58.5 49.21875 52.21875 \nQ 50.828125 45.953125 50.828125 35.296875 \nQ 50.828125 22.703125 48.234375 14.96875 \nQ 45.65625 7.234375 40.5 3 \nQ 35.359375 -1.21875 27.484375 -1.21875 \nQ 17.140625 -1.21875 11.234375 6.203125 \nQ 4.15625 15.140625 4.15625 35.296875 \nz\nM 13.1875 35.296875 \nQ 13.1875 17.671875 17.3125 11.828125 \nQ 21.4375 6 27.484375 6 \nQ 33.546875 6 37.671875 11.859375 \nQ 41.796875 17.71875 41.796875 35.296875 \nQ 41.796875 52.984375 37.671875 58.78125 \nQ 33.546875 64.59375 27.390625 64.59375 \nQ 21.34375 64.59375 17.71875 59.46875 \nQ 13.1875 52.9375 13.1875 35.296875 \nz\n\" id=\"ArialMT-48\"/>\n      </defs>\n      <g style=\"fill:#262626;\" transform=\"translate(175.806449 459.453594)scale(0.11 -0.11)\">\n       <use xlink:href=\"#ArialMT-49\"/>\n       <use x=\"55.615234\" xlink:href=\"#ArialMT-48\"/>\n      </g>\n     </g>\n    </g>\n    <g id=\"xtick_3\">\n     <g id=\"line2d_3\">\n      <path clip-path=\"url(#paa9b244987)\" d=\"M 278.871396 442.08 \nL 278.871396 7.2 \n\" style=\"fill:none;stroke:#ffffff;stroke-linecap:round;\"/>\n     </g>\n     <g id=\"text_3\">\n      <!-- 15 -->\n      <g style=\"fill:#262626;\" transform=\"translate(272.754365 459.453594)scale(0.11 -0.11)\">\n       <use xlink:href=\"#ArialMT-49\"/>\n       <use x=\"55.615234\" xlink:href=\"#ArialMT-53\"/>\n      </g>\n     </g>\n    </g>\n    <g id=\"xtick_4\">\n     <g id=\"line2d_4\">\n      <path clip-path=\"url(#paa9b244987)\" d=\"M 375.819312 442.08 \nL 375.819312 7.2 \n\" style=\"fill:none;stroke:#ffffff;stroke-linecap:round;\"/>\n     </g>\n     <g id=\"text_4\">\n      <!-- 20 -->\n      <defs>\n       <path d=\"M 50.34375 8.453125 \nL 50.34375 0 \nL 3.03125 0 \nQ 2.9375 3.171875 4.046875 6.109375 \nQ 5.859375 10.9375 9.828125 15.625 \nQ 13.8125 20.3125 21.34375 26.46875 \nQ 33.015625 36.03125 37.109375 41.625 \nQ 41.21875 47.21875 41.21875 52.203125 \nQ 41.21875 57.421875 37.46875 61 \nQ 33.734375 64.59375 27.734375 64.59375 \nQ 21.390625 64.59375 17.578125 60.78125 \nQ 13.765625 56.984375 13.71875 50.25 \nL 4.6875 51.171875 \nQ 5.609375 61.28125 11.65625 66.578125 \nQ 17.71875 71.875 27.9375 71.875 \nQ 38.234375 71.875 44.234375 66.15625 \nQ 50.25 60.453125 50.25 52 \nQ 50.25 47.703125 48.484375 43.546875 \nQ 46.734375 39.40625 42.65625 34.8125 \nQ 38.578125 30.21875 29.109375 22.21875 \nQ 21.1875 15.578125 18.9375 13.203125 \nQ 16.703125 10.84375 15.234375 8.453125 \nz\n\" id=\"ArialMT-50\"/>\n      </defs>\n      <g style=\"fill:#262626;\" transform=\"translate(369.70228 459.453594)scale(0.11 -0.11)\">\n       <use xlink:href=\"#ArialMT-50\"/>\n       <use x=\"55.615234\" xlink:href=\"#ArialMT-48\"/>\n      </g>\n     </g>\n    </g>\n    <g id=\"xtick_5\">\n     <g id=\"line2d_5\">\n      <path clip-path=\"url(#paa9b244987)\" d=\"M 472.767227 442.08 \nL 472.767227 7.2 \n\" style=\"fill:none;stroke:#ffffff;stroke-linecap:round;\"/>\n     </g>\n     <g id=\"text_5\">\n      <!-- 25 -->\n      <g style=\"fill:#262626;\" transform=\"translate(466.650196 459.453594)scale(0.11 -0.11)\">\n       <use xlink:href=\"#ArialMT-50\"/>\n       <use x=\"55.615234\" xlink:href=\"#ArialMT-53\"/>\n      </g>\n     </g>\n    </g>\n    <g id=\"xtick_6\">\n     <g id=\"line2d_6\">\n      <path clip-path=\"url(#paa9b244987)\" d=\"M 569.715143 442.08 \nL 569.715143 7.2 \n\" style=\"fill:none;stroke:#ffffff;stroke-linecap:round;\"/>\n     </g>\n     <g id=\"text_6\">\n      <!-- 30 -->\n      <defs>\n       <path d=\"M 4.203125 18.890625 \nL 12.984375 20.0625 \nQ 14.5 12.59375 18.140625 9.296875 \nQ 21.78125 6 27 6 \nQ 33.203125 6 37.46875 10.296875 \nQ 41.75 14.59375 41.75 20.953125 \nQ 41.75 27 37.796875 30.921875 \nQ 33.84375 34.859375 27.734375 34.859375 \nQ 25.25 34.859375 21.53125 33.890625 \nL 22.515625 41.609375 \nQ 23.390625 41.5 23.921875 41.5 \nQ 29.546875 41.5 34.03125 44.421875 \nQ 38.53125 47.359375 38.53125 53.46875 \nQ 38.53125 58.296875 35.25 61.46875 \nQ 31.984375 64.65625 26.8125 64.65625 \nQ 21.6875 64.65625 18.265625 61.421875 \nQ 14.84375 58.203125 13.875 51.765625 \nL 5.078125 53.328125 \nQ 6.6875 62.15625 12.390625 67.015625 \nQ 18.109375 71.875 26.609375 71.875 \nQ 32.46875 71.875 37.390625 69.359375 \nQ 42.328125 66.84375 44.9375 62.5 \nQ 47.5625 58.15625 47.5625 53.265625 \nQ 47.5625 48.640625 45.0625 44.828125 \nQ 42.578125 41.015625 37.703125 38.765625 \nQ 44.046875 37.3125 47.5625 32.6875 \nQ 51.078125 28.078125 51.078125 21.140625 \nQ 51.078125 11.765625 44.234375 5.25 \nQ 37.40625 -1.265625 26.953125 -1.265625 \nQ 17.53125 -1.265625 11.296875 4.34375 \nQ 5.078125 9.96875 4.203125 18.890625 \nz\n\" id=\"ArialMT-51\"/>\n      </defs>\n      <g style=\"fill:#262626;\" transform=\"translate(563.598112 459.453594)scale(0.11 -0.11)\">\n       <use xlink:href=\"#ArialMT-51\"/>\n       <use x=\"55.615234\" xlink:href=\"#ArialMT-48\"/>\n      </g>\n     </g>\n    </g>\n    <g id=\"xtick_7\">\n     <g id=\"line2d_7\">\n      <path clip-path=\"url(#paa9b244987)\" d=\"M 666.663059 442.08 \nL 666.663059 7.2 \n\" style=\"fill:none;stroke:#ffffff;stroke-linecap:round;\"/>\n     </g>\n     <g id=\"text_7\">\n      <!-- 35 -->\n      <g style=\"fill:#262626;\" transform=\"translate(660.546027 459.453594)scale(0.11 -0.11)\">\n       <use xlink:href=\"#ArialMT-51\"/>\n       <use x=\"55.615234\" xlink:href=\"#ArialMT-53\"/>\n      </g>\n     </g>\n    </g>\n   </g>\n   <g id=\"matplotlib.axis_2\">\n    <g id=\"ytick_1\">\n     <g id=\"line2d_8\">\n      <path clip-path=\"url(#paa9b244987)\" d=\"M 41.168125 442.08 \nL 710.768125 442.08 \n\" style=\"fill:none;stroke:#ffffff;stroke-linecap:round;\"/>\n     </g>\n     <g id=\"text_8\">\n      <!-- 0 -->\n      <g style=\"fill:#262626;\" transform=\"translate(25.551094 446.016797)scale(0.11 -0.11)\">\n       <use xlink:href=\"#ArialMT-48\"/>\n      </g>\n     </g>\n    </g>\n    <g id=\"ytick_2\">\n     <g id=\"line2d_9\">\n      <path clip-path=\"url(#paa9b244987)\" d=\"M 41.168125 357.468881 \nL 710.768125 357.468881 \n\" style=\"fill:none;stroke:#ffffff;stroke-linecap:round;\"/>\n     </g>\n     <g id=\"text_9\">\n      <!-- 200 -->\n      <g style=\"fill:#262626;\" transform=\"translate(13.317031 361.405678)scale(0.11 -0.11)\">\n       <use xlink:href=\"#ArialMT-50\"/>\n       <use x=\"55.615234\" xlink:href=\"#ArialMT-48\"/>\n       <use x=\"111.230469\" xlink:href=\"#ArialMT-48\"/>\n      </g>\n     </g>\n    </g>\n    <g id=\"ytick_3\">\n     <g id=\"line2d_10\">\n      <path clip-path=\"url(#paa9b244987)\" d=\"M 41.168125 272.857762 \nL 710.768125 272.857762 \n\" style=\"fill:none;stroke:#ffffff;stroke-linecap:round;\"/>\n     </g>\n     <g id=\"text_10\">\n      <!-- 400 -->\n      <defs>\n       <path d=\"M 32.328125 0 \nL 32.328125 17.140625 \nL 1.265625 17.140625 \nL 1.265625 25.203125 \nL 33.9375 71.578125 \nL 41.109375 71.578125 \nL 41.109375 25.203125 \nL 50.78125 25.203125 \nL 50.78125 17.140625 \nL 41.109375 17.140625 \nL 41.109375 0 \nz\nM 32.328125 25.203125 \nL 32.328125 57.46875 \nL 9.90625 25.203125 \nz\n\" id=\"ArialMT-52\"/>\n      </defs>\n      <g style=\"fill:#262626;\" transform=\"translate(13.317031 276.794558)scale(0.11 -0.11)\">\n       <use xlink:href=\"#ArialMT-52\"/>\n       <use x=\"55.615234\" xlink:href=\"#ArialMT-48\"/>\n       <use x=\"111.230469\" xlink:href=\"#ArialMT-48\"/>\n      </g>\n     </g>\n    </g>\n    <g id=\"ytick_4\">\n     <g id=\"line2d_11\">\n      <path clip-path=\"url(#paa9b244987)\" d=\"M 41.168125 188.246642 \nL 710.768125 188.246642 \n\" style=\"fill:none;stroke:#ffffff;stroke-linecap:round;\"/>\n     </g>\n     <g id=\"text_11\">\n      <!-- 600 -->\n      <defs>\n       <path d=\"M 49.75 54.046875 \nL 41.015625 53.375 \nQ 39.84375 58.546875 37.703125 60.890625 \nQ 34.125 64.65625 28.90625 64.65625 \nQ 24.703125 64.65625 21.53125 62.3125 \nQ 17.390625 59.28125 14.984375 53.46875 \nQ 12.59375 47.65625 12.5 36.921875 \nQ 15.671875 41.75 20.265625 44.09375 \nQ 24.859375 46.4375 29.890625 46.4375 \nQ 38.671875 46.4375 44.84375 39.96875 \nQ 51.03125 33.5 51.03125 23.25 \nQ 51.03125 16.5 48.125 10.71875 \nQ 45.21875 4.9375 40.140625 1.859375 \nQ 35.0625 -1.21875 28.609375 -1.21875 \nQ 17.625 -1.21875 10.6875 6.859375 \nQ 3.765625 14.9375 3.765625 33.5 \nQ 3.765625 54.25 11.421875 63.671875 \nQ 18.109375 71.875 29.4375 71.875 \nQ 37.890625 71.875 43.28125 67.140625 \nQ 48.6875 62.40625 49.75 54.046875 \nz\nM 13.875 23.1875 \nQ 13.875 18.65625 15.796875 14.5 \nQ 17.71875 10.359375 21.1875 8.171875 \nQ 24.65625 6 28.46875 6 \nQ 34.03125 6 38.03125 10.484375 \nQ 42.046875 14.984375 42.046875 22.703125 \nQ 42.046875 30.125 38.078125 34.390625 \nQ 34.125 38.671875 28.125 38.671875 \nQ 22.171875 38.671875 18.015625 34.390625 \nQ 13.875 30.125 13.875 23.1875 \nz\n\" id=\"ArialMT-54\"/>\n      </defs>\n      <g style=\"fill:#262626;\" transform=\"translate(13.317031 192.183439)scale(0.11 -0.11)\">\n       <use xlink:href=\"#ArialMT-54\"/>\n       <use x=\"55.615234\" xlink:href=\"#ArialMT-48\"/>\n       <use x=\"111.230469\" xlink:href=\"#ArialMT-48\"/>\n      </g>\n     </g>\n    </g>\n    <g id=\"ytick_5\">\n     <g id=\"line2d_12\">\n      <path clip-path=\"url(#paa9b244987)\" d=\"M 41.168125 103.635523 \nL 710.768125 103.635523 \n\" style=\"fill:none;stroke:#ffffff;stroke-linecap:round;\"/>\n     </g>\n     <g id=\"text_12\">\n      <!-- 800 -->\n      <defs>\n       <path d=\"M 17.671875 38.8125 \nQ 12.203125 40.828125 9.5625 44.53125 \nQ 6.9375 48.25 6.9375 53.421875 \nQ 6.9375 61.234375 12.546875 66.546875 \nQ 18.171875 71.875 27.484375 71.875 \nQ 36.859375 71.875 42.578125 66.421875 \nQ 48.296875 60.984375 48.296875 53.171875 \nQ 48.296875 48.1875 45.671875 44.5 \nQ 43.0625 40.828125 37.75 38.8125 \nQ 44.34375 36.671875 47.78125 31.875 \nQ 51.21875 27.09375 51.21875 20.453125 \nQ 51.21875 11.28125 44.71875 5.03125 \nQ 38.234375 -1.21875 27.640625 -1.21875 \nQ 17.046875 -1.21875 10.546875 5.046875 \nQ 4.046875 11.328125 4.046875 20.703125 \nQ 4.046875 27.6875 7.59375 32.390625 \nQ 11.140625 37.109375 17.671875 38.8125 \nz\nM 15.921875 53.71875 \nQ 15.921875 48.640625 19.1875 45.40625 \nQ 22.46875 42.1875 27.6875 42.1875 \nQ 32.765625 42.1875 36.015625 45.375 \nQ 39.265625 48.578125 39.265625 53.21875 \nQ 39.265625 58.0625 35.90625 61.359375 \nQ 32.5625 64.65625 27.59375 64.65625 \nQ 22.5625 64.65625 19.234375 61.421875 \nQ 15.921875 58.203125 15.921875 53.71875 \nz\nM 13.09375 20.65625 \nQ 13.09375 16.890625 14.875 13.375 \nQ 16.65625 9.859375 20.171875 7.921875 \nQ 23.6875 6 27.734375 6 \nQ 34.03125 6 38.125 10.046875 \nQ 42.234375 14.109375 42.234375 20.359375 \nQ 42.234375 26.703125 38.015625 30.859375 \nQ 33.796875 35.015625 27.4375 35.015625 \nQ 21.234375 35.015625 17.15625 30.90625 \nQ 13.09375 26.8125 13.09375 20.65625 \nz\n\" id=\"ArialMT-56\"/>\n      </defs>\n      <g style=\"fill:#262626;\" transform=\"translate(13.317031 107.57232)scale(0.11 -0.11)\">\n       <use xlink:href=\"#ArialMT-56\"/>\n       <use x=\"55.615234\" xlink:href=\"#ArialMT-48\"/>\n       <use x=\"111.230469\" xlink:href=\"#ArialMT-48\"/>\n      </g>\n     </g>\n    </g>\n    <g id=\"ytick_6\">\n     <g id=\"line2d_13\">\n      <path clip-path=\"url(#paa9b244987)\" d=\"M 41.168125 19.024404 \nL 710.768125 19.024404 \n\" style=\"fill:none;stroke:#ffffff;stroke-linecap:round;\"/>\n     </g>\n     <g id=\"text_13\">\n      <!-- 1000 -->\n      <g style=\"fill:#262626;\" transform=\"translate(7.2 22.961201)scale(0.11 -0.11)\">\n       <use xlink:href=\"#ArialMT-49\"/>\n       <use x=\"55.615234\" xlink:href=\"#ArialMT-48\"/>\n       <use x=\"111.230469\" xlink:href=\"#ArialMT-48\"/>\n       <use x=\"166.845703\" xlink:href=\"#ArialMT-48\"/>\n      </g>\n     </g>\n    </g>\n   </g>\n   <g id=\"patch_3\">\n    <path clip-path=\"url(#paa9b244987)\" d=\"M 71.604489 442.08 \nL 90.627216 442.08 \nL 90.627216 440.810833 \nL 71.604489 440.810833 \nz\n\" style=\"fill:#4c72b0;stroke:#ffffff;stroke-linejoin:miter;\"/>\n   </g>\n   <g id=\"patch_4\">\n    <path clip-path=\"url(#paa9b244987)\" d=\"M 90.627216 442.08 \nL 109.649943 442.08 \nL 109.649943 441.656944 \nL 90.627216 441.656944 \nz\n\" style=\"fill:#4c72b0;stroke:#ffffff;stroke-linejoin:miter;\"/>\n   </g>\n   <g id=\"patch_5\">\n    <path clip-path=\"url(#paa9b244987)\" d=\"M 109.649943 442.08 \nL 128.67267 442.08 \nL 128.67267 440.810833 \nL 109.649943 440.810833 \nz\n\" style=\"fill:#4c72b0;stroke:#ffffff;stroke-linejoin:miter;\"/>\n   </g>\n   <g id=\"patch_6\">\n    <path clip-path=\"url(#paa9b244987)\" d=\"M 128.67267 442.08 \nL 147.695398 442.08 \nL 147.695398 438.2725 \nL 128.67267 438.2725 \nz\n\" style=\"fill:#4c72b0;stroke:#ffffff;stroke-linejoin:miter;\"/>\n   </g>\n   <g id=\"patch_7\">\n    <path clip-path=\"url(#paa9b244987)\" d=\"M 147.695398 442.08 \nL 166.718125 442.08 \nL 166.718125 430.657499 \nL 147.695398 430.657499 \nz\n\" style=\"fill:#4c72b0;stroke:#ffffff;stroke-linejoin:miter;\"/>\n   </g>\n   <g id=\"patch_8\">\n    <path clip-path=\"url(#paa9b244987)\" d=\"M 166.718125 442.08 \nL 185.740852 442.08 \nL 185.740852 428.542221 \nL 166.718125 428.542221 \nz\n\" style=\"fill:#4c72b0;stroke:#ffffff;stroke-linejoin:miter;\"/>\n   </g>\n   <g id=\"patch_9\">\n    <path clip-path=\"url(#paa9b244987)\" d=\"M 185.740852 442.08 \nL 204.76358 442.08 \nL 204.76358 418.388887 \nL 185.740852 418.388887 \nz\n\" style=\"fill:#4c72b0;stroke:#ffffff;stroke-linejoin:miter;\"/>\n   </g>\n   <g id=\"patch_10\">\n    <path clip-path=\"url(#paa9b244987)\" d=\"M 204.76358 442.08 \nL 223.786307 442.08 \nL 223.786307 388.351939 \nL 204.76358 388.351939 \nz\n\" style=\"fill:#4c72b0;stroke:#ffffff;stroke-linejoin:miter;\"/>\n   </g>\n   <g id=\"patch_11\">\n    <path clip-path=\"url(#paa9b244987)\" d=\"M 223.786307 442.08 \nL 242.809034 442.08 \nL 242.809034 360.853326 \nL 223.786307 360.853326 \nz\n\" style=\"fill:#4c72b0;stroke:#ffffff;stroke-linejoin:miter;\"/>\n   </g>\n   <g id=\"patch_12\">\n    <path clip-path=\"url(#paa9b244987)\" d=\"M 242.809034 442.08 \nL 261.831761 442.08 \nL 261.831761 326.585822 \nL 242.809034 326.585822 \nz\n\" style=\"fill:#4c72b0;stroke:#ffffff;stroke-linejoin:miter;\"/>\n   </g>\n   <g id=\"patch_13\">\n    <path clip-path=\"url(#paa9b244987)\" d=\"M 261.831761 442.08 \nL 280.854489 442.08 \nL 280.854489 277.934429 \nL 261.831761 277.934429 \nz\n\" style=\"fill:#4c72b0;stroke:#ffffff;stroke-linejoin:miter;\"/>\n   </g>\n   <g id=\"patch_14\">\n    <path clip-path=\"url(#paa9b244987)\" d=\"M 280.854489 442.08 \nL 299.877216 442.08 \nL 299.877216 212.360811 \nL 280.854489 212.360811 \nz\n\" style=\"fill:#4c72b0;stroke:#ffffff;stroke-linejoin:miter;\"/>\n   </g>\n   <g id=\"patch_15\">\n    <path clip-path=\"url(#paa9b244987)\" d=\"M 299.877216 442.08 \nL 318.899943 442.08 \nL 318.899943 153.979139 \nL 299.877216 153.979139 \nz\n\" style=\"fill:#4c72b0;stroke:#ffffff;stroke-linejoin:miter;\"/>\n   </g>\n   <g id=\"patch_16\">\n    <path clip-path=\"url(#paa9b244987)\" d=\"M 318.899943 442.08 \nL 337.92267 442.08 \nL 337.92267 104.481634 \nL 318.899943 104.481634 \nz\n\" style=\"fill:#4c72b0;stroke:#ffffff;stroke-linejoin:miter;\"/>\n   </g>\n   <g id=\"patch_17\">\n    <path clip-path=\"url(#paa9b244987)\" d=\"M 337.92267 442.08 \nL 356.945398 442.08 \nL 356.945398 58.368574 \nL 337.92267 58.368574 \nz\n\" style=\"fill:#4c72b0;stroke:#ffffff;stroke-linejoin:miter;\"/>\n   </g>\n   <g id=\"patch_18\">\n    <path clip-path=\"url(#paa9b244987)\" d=\"M 356.945398 442.08 \nL 375.968125 442.08 \nL 375.968125 27.908571 \nL 356.945398 27.908571 \nz\n\" style=\"fill:#4c72b0;stroke:#ffffff;stroke-linejoin:miter;\"/>\n   </g>\n   <g id=\"patch_19\">\n    <path clip-path=\"url(#paa9b244987)\" d=\"M 375.968125 442.08 \nL 394.990852 442.08 \nL 394.990852 31.716072 \nL 375.968125 31.716072 \nz\n\" style=\"fill:#4c72b0;stroke:#ffffff;stroke-linejoin:miter;\"/>\n   </g>\n   <g id=\"patch_20\">\n    <path clip-path=\"url(#paa9b244987)\" d=\"M 394.990852 442.08 \nL 414.01358 442.08 \nL 414.01358 52.868852 \nL 394.990852 52.868852 \nz\n\" style=\"fill:#4c72b0;stroke:#ffffff;stroke-linejoin:miter;\"/>\n   </g>\n   <g id=\"patch_21\">\n    <path clip-path=\"url(#paa9b244987)\" d=\"M 414.01358 442.08 \nL 433.036307 442.08 \nL 433.036307 96.443578 \nL 414.01358 96.443578 \nz\n\" style=\"fill:#4c72b0;stroke:#ffffff;stroke-linejoin:miter;\"/>\n   </g>\n   <g id=\"patch_22\">\n    <path clip-path=\"url(#paa9b244987)\" d=\"M 433.036307 442.08 \nL 452.059034 442.08 \nL 452.059034 169.632196 \nL 433.036307 169.632196 \nz\n\" style=\"fill:#4c72b0;stroke:#ffffff;stroke-linejoin:miter;\"/>\n   </g>\n   <g id=\"patch_23\">\n    <path clip-path=\"url(#paa9b244987)\" d=\"M 452.059034 442.08 \nL 471.081761 442.08 \nL 471.081761 217.437478 \nL 452.059034 217.437478 \nz\n\" style=\"fill:#4c72b0;stroke:#ffffff;stroke-linejoin:miter;\"/>\n   </g>\n   <g id=\"patch_24\">\n    <path clip-path=\"url(#paa9b244987)\" d=\"M 471.081761 442.08 \nL 490.104489 442.08 \nL 490.104489 279.203596 \nL 471.081761 279.203596 \nz\n\" style=\"fill:#4c72b0;stroke:#ffffff;stroke-linejoin:miter;\"/>\n   </g>\n   <g id=\"patch_25\">\n    <path clip-path=\"url(#paa9b244987)\" d=\"M 490.104489 442.08 \nL 509.127216 442.08 \nL 509.127216 318.547766 \nL 490.104489 318.547766 \nz\n\" style=\"fill:#4c72b0;stroke:#ffffff;stroke-linejoin:miter;\"/>\n   </g>\n   <g id=\"patch_26\">\n    <path clip-path=\"url(#paa9b244987)\" d=\"M 509.127216 442.08 \nL 528.149943 442.08 \nL 528.149943 371.429715 \nL 509.127216 371.429715 \nz\n\" style=\"fill:#4c72b0;stroke:#ffffff;stroke-linejoin:miter;\"/>\n   </g>\n   <g id=\"patch_27\">\n    <path clip-path=\"url(#paa9b244987)\" d=\"M 528.149943 442.08 \nL 547.17267 442.08 \nL 547.17267 390.467217 \nL 528.149943 390.467217 \nz\n\" style=\"fill:#4c72b0;stroke:#ffffff;stroke-linejoin:miter;\"/>\n   </g>\n   <g id=\"patch_28\">\n    <path clip-path=\"url(#paa9b244987)\" d=\"M 547.17267 442.08 \nL 566.195398 442.08 \nL 566.195398 417.965831 \nL 547.17267 417.965831 \nz\n\" style=\"fill:#4c72b0;stroke:#ffffff;stroke-linejoin:miter;\"/>\n   </g>\n   <g id=\"patch_29\">\n    <path clip-path=\"url(#paa9b244987)\" d=\"M 566.195398 442.08 \nL 585.218125 442.08 \nL 585.218125 426.003887 \nL 566.195398 426.003887 \nz\n\" style=\"fill:#4c72b0;stroke:#ffffff;stroke-linejoin:miter;\"/>\n   </g>\n   <g id=\"patch_30\">\n    <path clip-path=\"url(#paa9b244987)\" d=\"M 585.218125 442.08 \nL 604.240852 442.08 \nL 604.240852 433.618888 \nL 585.218125 433.618888 \nz\n\" style=\"fill:#4c72b0;stroke:#ffffff;stroke-linejoin:miter;\"/>\n   </g>\n   <g id=\"patch_31\">\n    <path clip-path=\"url(#paa9b244987)\" d=\"M 604.240852 442.08 \nL 623.26358 442.08 \nL 623.26358 437.003333 \nL 604.240852 437.003333 \nz\n\" style=\"fill:#4c72b0;stroke:#ffffff;stroke-linejoin:miter;\"/>\n   </g>\n   <g id=\"patch_32\">\n    <path clip-path=\"url(#paa9b244987)\" d=\"M 623.26358 442.08 \nL 642.286307 442.08 \nL 642.286307 440.810833 \nL 623.26358 440.810833 \nz\n\" style=\"fill:#4c72b0;stroke:#ffffff;stroke-linejoin:miter;\"/>\n   </g>\n   <g id=\"patch_33\">\n    <path clip-path=\"url(#paa9b244987)\" d=\"M 642.286307 442.08 \nL 661.309034 442.08 \nL 661.309034 441.656944 \nL 642.286307 441.656944 \nz\n\" style=\"fill:#4c72b0;stroke:#ffffff;stroke-linejoin:miter;\"/>\n   </g>\n   <g id=\"patch_34\">\n    <path clip-path=\"url(#paa9b244987)\" d=\"M 661.309034 442.08 \nL 680.331761 442.08 \nL 680.331761 441.233889 \nL 661.309034 441.233889 \nz\n\" style=\"fill:#4c72b0;stroke:#ffffff;stroke-linejoin:miter;\"/>\n   </g>\n   <g id=\"patch_35\">\n    <path d=\"M 41.168125 442.08 \nL 41.168125 7.2 \n\" style=\"fill:none;stroke:#ffffff;stroke-linecap:square;stroke-linejoin:miter;stroke-width:1.25;\"/>\n   </g>\n   <g id=\"patch_36\">\n    <path d=\"M 710.768125 442.08 \nL 710.768125 7.2 \n\" style=\"fill:none;stroke:#ffffff;stroke-linecap:square;stroke-linejoin:miter;stroke-width:1.25;\"/>\n   </g>\n   <g id=\"patch_37\">\n    <path d=\"M 41.168125 442.08 \nL 710.768125 442.08 \n\" style=\"fill:none;stroke:#ffffff;stroke-linecap:square;stroke-linejoin:miter;stroke-width:1.25;\"/>\n   </g>\n   <g id=\"patch_38\">\n    <path d=\"M 41.168125 7.2 \nL 710.768125 7.2 \n\" style=\"fill:none;stroke:#ffffff;stroke-linecap:square;stroke-linejoin:miter;stroke-width:1.25;\"/>\n   </g>\n  </g>\n </g>\n <defs>\n  <clipPath id=\"paa9b244987\">\n   <rect height=\"434.88\" width=\"669.6\" x=\"41.168125\" y=\"7.2\"/>\n  </clipPath>\n </defs>\n</svg>\n",
      "image/png": "[encoded data removed]"
     },
     "metadata": {}
    }
   ],
   "source": [
    "df.normal.hist(bins=int(df.normal.var()*2))"
   ]
  },
  {
   "cell_type": "code",
   "execution_count": 22,
   "metadata": {},
   "outputs": [
    {
     "output_type": "display_data",
     "data": {
      "text/plain": "<Figure size 864x576 with 1 Axes>",
      "image/svg+xml": "<?xml version=\"1.0\" encoding=\"utf-8\" standalone=\"no\"?>\n<!DOCTYPE svg PUBLIC \"-//W3C//DTD SVG 1.1//EN\"\n  \"http://www.w3.org/Graphics/SVG/1.1/DTD/svg11.dtd\">\n<!-- Created with matplotlib (https://matplotlib.org/) -->\n<svg height=\"483.814219pt\" version=\"1.1\" viewBox=\"0 0 717.968125 483.814219\" width=\"717.968125pt\" xmlns=\"http://www.w3.org/2000/svg\" xmlns:xlink=\"http://www.w3.org/1999/xlink\">\n <defs>\n  <style type=\"text/css\">\n*{stroke-linecap:butt;stroke-linejoin:round;}\n  </style>\n </defs>\n <g id=\"figure_1\">\n  <g id=\"patch_1\">\n   <path d=\"M 0 483.814219 \nL 717.968125 483.814219 \nL 717.968125 0 \nL 0 0 \nz\n\" style=\"fill:#ffffff;\"/>\n  </g>\n  <g id=\"axes_1\">\n   <g id=\"patch_2\">\n    <path d=\"M 41.168125 442.08 \nL 710.768125 442.08 \nL 710.768125 7.2 \nL 41.168125 7.2 \nz\n\" style=\"fill:#eaeaf2;\"/>\n   </g>\n   <g id=\"matplotlib.axis_1\">\n    <g id=\"xtick_1\">\n     <g id=\"line2d_1\">\n      <path clip-path=\"url(#p60d96c4a06)\" d=\"M 91.240852 442.08 \nL 91.240852 7.2 \n\" style=\"fill:none;stroke:#ffffff;stroke-linecap:round;\"/>\n     </g>\n     <g id=\"text_1\">\n      <!-- 5 -->\n      <defs>\n       <path d=\"M 4.15625 18.75 \nL 13.375 19.53125 \nQ 14.40625 12.796875 18.140625 9.390625 \nQ 21.875 6 27.15625 6 \nQ 33.5 6 37.890625 10.78125 \nQ 42.28125 15.578125 42.28125 23.484375 \nQ 42.28125 31 38.0625 35.34375 \nQ 33.84375 39.703125 27 39.703125 \nQ 22.75 39.703125 19.328125 37.765625 \nQ 15.921875 35.84375 13.96875 32.765625 \nL 5.71875 33.84375 \nL 12.640625 70.609375 \nL 48.25 70.609375 \nL 48.25 62.203125 \nL 19.671875 62.203125 \nL 15.828125 42.96875 \nQ 22.265625 47.46875 29.34375 47.46875 \nQ 38.71875 47.46875 45.15625 40.96875 \nQ 51.609375 34.46875 51.609375 24.265625 \nQ 51.609375 14.546875 45.953125 7.46875 \nQ 39.0625 -1.21875 27.15625 -1.21875 \nQ 17.390625 -1.21875 11.203125 4.25 \nQ 5.03125 9.71875 4.15625 18.75 \nz\n\" id=\"ArialMT-53\"/>\n      </defs>\n      <g style=\"fill:#262626;\" transform=\"translate(88.182337 459.453594)scale(0.11 -0.11)\">\n       <use xlink:href=\"#ArialMT-53\"/>\n      </g>\n     </g>\n    </g>\n    <g id=\"xtick_2\">\n     <g id=\"line2d_2\">\n      <path clip-path=\"url(#p60d96c4a06)\" d=\"M 189.42267 442.08 \nL 189.42267 7.2 \n\" style=\"fill:none;stroke:#ffffff;stroke-linecap:round;\"/>\n     </g>\n     <g id=\"text_2\">\n      <!-- 10 -->\n      <defs>\n       <path d=\"M 37.25 0 \nL 28.46875 0 \nL 28.46875 56 \nQ 25.296875 52.984375 20.140625 49.953125 \nQ 14.984375 46.921875 10.890625 45.40625 \nL 10.890625 53.90625 \nQ 18.265625 57.375 23.78125 62.296875 \nQ 29.296875 67.234375 31.59375 71.875 \nL 37.25 71.875 \nz\n\" id=\"ArialMT-49\"/>\n       <path d=\"M 4.15625 35.296875 \nQ 4.15625 48 6.765625 55.734375 \nQ 9.375 63.484375 14.515625 67.671875 \nQ 19.671875 71.875 27.484375 71.875 \nQ 33.25 71.875 37.59375 69.546875 \nQ 41.9375 67.234375 44.765625 62.859375 \nQ 47.609375 58.5 49.21875 52.21875 \nQ 50.828125 45.953125 50.828125 35.296875 \nQ 50.828125 22.703125 48.234375 14.96875 \nQ 45.65625 7.234375 40.5 3 \nQ 35.359375 -1.21875 27.484375 -1.21875 \nQ 17.140625 -1.21875 11.234375 6.203125 \nQ 4.15625 15.140625 4.15625 35.296875 \nz\nM 13.1875 35.296875 \nQ 13.1875 17.671875 17.3125 11.828125 \nQ 21.4375 6 27.484375 6 \nQ 33.546875 6 37.671875 11.859375 \nQ 41.796875 17.71875 41.796875 35.296875 \nQ 41.796875 52.984375 37.671875 58.78125 \nQ 33.546875 64.59375 27.390625 64.59375 \nQ 21.34375 64.59375 17.71875 59.46875 \nQ 13.1875 52.9375 13.1875 35.296875 \nz\n\" id=\"ArialMT-48\"/>\n      </defs>\n      <g style=\"fill:#262626;\" transform=\"translate(183.305639 459.453594)scale(0.11 -0.11)\">\n       <use xlink:href=\"#ArialMT-49\"/>\n       <use x=\"55.615234\" xlink:href=\"#ArialMT-48\"/>\n      </g>\n     </g>\n    </g>\n    <g id=\"xtick_3\">\n     <g id=\"line2d_3\">\n      <path clip-path=\"url(#p60d96c4a06)\" d=\"M 287.604489 442.08 \nL 287.604489 7.2 \n\" style=\"fill:none;stroke:#ffffff;stroke-linecap:round;\"/>\n     </g>\n     <g id=\"text_3\">\n      <!-- 15 -->\n      <g style=\"fill:#262626;\" transform=\"translate(281.487457 459.453594)scale(0.11 -0.11)\">\n       <use xlink:href=\"#ArialMT-49\"/>\n       <use x=\"55.615234\" xlink:href=\"#ArialMT-53\"/>\n      </g>\n     </g>\n    </g>\n    <g id=\"xtick_4\">\n     <g id=\"line2d_4\">\n      <path clip-path=\"url(#p60d96c4a06)\" d=\"M 385.786307 442.08 \nL 385.786307 7.2 \n\" style=\"fill:none;stroke:#ffffff;stroke-linecap:round;\"/>\n     </g>\n     <g id=\"text_4\">\n      <!-- 20 -->\n      <defs>\n       <path d=\"M 50.34375 8.453125 \nL 50.34375 0 \nL 3.03125 0 \nQ 2.9375 3.171875 4.046875 6.109375 \nQ 5.859375 10.9375 9.828125 15.625 \nQ 13.8125 20.3125 21.34375 26.46875 \nQ 33.015625 36.03125 37.109375 41.625 \nQ 41.21875 47.21875 41.21875 52.203125 \nQ 41.21875 57.421875 37.46875 61 \nQ 33.734375 64.59375 27.734375 64.59375 \nQ 21.390625 64.59375 17.578125 60.78125 \nQ 13.765625 56.984375 13.71875 50.25 \nL 4.6875 51.171875 \nQ 5.609375 61.28125 11.65625 66.578125 \nQ 17.71875 71.875 27.9375 71.875 \nQ 38.234375 71.875 44.234375 66.15625 \nQ 50.25 60.453125 50.25 52 \nQ 50.25 47.703125 48.484375 43.546875 \nQ 46.734375 39.40625 42.65625 34.8125 \nQ 38.578125 30.21875 29.109375 22.21875 \nQ 21.1875 15.578125 18.9375 13.203125 \nQ 16.703125 10.84375 15.234375 8.453125 \nz\n\" id=\"ArialMT-50\"/>\n      </defs>\n      <g style=\"fill:#262626;\" transform=\"translate(379.669276 459.453594)scale(0.11 -0.11)\">\n       <use xlink:href=\"#ArialMT-50\"/>\n       <use x=\"55.615234\" xlink:href=\"#ArialMT-48\"/>\n      </g>\n     </g>\n    </g>\n    <g id=\"xtick_5\">\n     <g id=\"line2d_5\">\n      <path clip-path=\"url(#p60d96c4a06)\" d=\"M 483.968125 442.08 \nL 483.968125 7.2 \n\" style=\"fill:none;stroke:#ffffff;stroke-linecap:round;\"/>\n     </g>\n     <g id=\"text_5\">\n      <!-- 25 -->\n      <g style=\"fill:#262626;\" transform=\"translate(477.851094 459.453594)scale(0.11 -0.11)\">\n       <use xlink:href=\"#ArialMT-50\"/>\n       <use x=\"55.615234\" xlink:href=\"#ArialMT-53\"/>\n      </g>\n     </g>\n    </g>\n    <g id=\"xtick_6\">\n     <g id=\"line2d_6\">\n      <path clip-path=\"url(#p60d96c4a06)\" d=\"M 582.149943 442.08 \nL 582.149943 7.2 \n\" style=\"fill:none;stroke:#ffffff;stroke-linecap:round;\"/>\n     </g>\n     <g id=\"text_6\">\n      <!-- 30 -->\n      <defs>\n       <path d=\"M 4.203125 18.890625 \nL 12.984375 20.0625 \nQ 14.5 12.59375 18.140625 9.296875 \nQ 21.78125 6 27 6 \nQ 33.203125 6 37.46875 10.296875 \nQ 41.75 14.59375 41.75 20.953125 \nQ 41.75 27 37.796875 30.921875 \nQ 33.84375 34.859375 27.734375 34.859375 \nQ 25.25 34.859375 21.53125 33.890625 \nL 22.515625 41.609375 \nQ 23.390625 41.5 23.921875 41.5 \nQ 29.546875 41.5 34.03125 44.421875 \nQ 38.53125 47.359375 38.53125 53.46875 \nQ 38.53125 58.296875 35.25 61.46875 \nQ 31.984375 64.65625 26.8125 64.65625 \nQ 21.6875 64.65625 18.265625 61.421875 \nQ 14.84375 58.203125 13.875 51.765625 \nL 5.078125 53.328125 \nQ 6.6875 62.15625 12.390625 67.015625 \nQ 18.109375 71.875 26.609375 71.875 \nQ 32.46875 71.875 37.390625 69.359375 \nQ 42.328125 66.84375 44.9375 62.5 \nQ 47.5625 58.15625 47.5625 53.265625 \nQ 47.5625 48.640625 45.0625 44.828125 \nQ 42.578125 41.015625 37.703125 38.765625 \nQ 44.046875 37.3125 47.5625 32.6875 \nQ 51.078125 28.078125 51.078125 21.140625 \nQ 51.078125 11.765625 44.234375 5.25 \nQ 37.40625 -1.265625 26.953125 -1.265625 \nQ 17.53125 -1.265625 11.296875 4.34375 \nQ 5.078125 9.96875 4.203125 18.890625 \nz\n\" id=\"ArialMT-51\"/>\n      </defs>\n      <g style=\"fill:#262626;\" transform=\"translate(576.032912 459.453594)scale(0.11 -0.11)\">\n       <use xlink:href=\"#ArialMT-51\"/>\n       <use x=\"55.615234\" xlink:href=\"#ArialMT-48\"/>\n      </g>\n     </g>\n    </g>\n    <g id=\"xtick_7\">\n     <g id=\"line2d_7\">\n      <path clip-path=\"url(#p60d96c4a06)\" d=\"M 680.331761 442.08 \nL 680.331761 7.2 \n\" style=\"fill:none;stroke:#ffffff;stroke-linecap:round;\"/>\n     </g>\n     <g id=\"text_7\">\n      <!-- 35 -->\n      <g style=\"fill:#262626;\" transform=\"translate(674.21473 459.453594)scale(0.11 -0.11)\">\n       <use xlink:href=\"#ArialMT-51\"/>\n       <use x=\"55.615234\" xlink:href=\"#ArialMT-53\"/>\n      </g>\n     </g>\n    </g>\n    <g id=\"text_8\">\n     <!-- binomial -->\n     <defs>\n      <path d=\"M 14.703125 0 \nL 6.546875 0 \nL 6.546875 71.578125 \nL 15.328125 71.578125 \nL 15.328125 46.046875 \nQ 20.90625 53.03125 29.546875 53.03125 \nQ 34.328125 53.03125 38.59375 51.09375 \nQ 42.875 49.171875 45.625 45.671875 \nQ 48.390625 42.1875 49.953125 37.25 \nQ 51.515625 32.328125 51.515625 26.703125 \nQ 51.515625 13.375 44.921875 6.09375 \nQ 38.328125 -1.171875 29.109375 -1.171875 \nQ 19.921875 -1.171875 14.703125 6.5 \nz\nM 14.59375 26.3125 \nQ 14.59375 17 17.140625 12.84375 \nQ 21.296875 6.0625 28.375 6.0625 \nQ 34.125 6.0625 38.328125 11.0625 \nQ 42.53125 16.0625 42.53125 25.984375 \nQ 42.53125 36.140625 38.5 40.96875 \nQ 34.46875 45.796875 28.765625 45.796875 \nQ 23 45.796875 18.796875 40.796875 \nQ 14.59375 35.796875 14.59375 26.3125 \nz\n\" id=\"ArialMT-98\"/>\n      <path d=\"M 6.640625 61.46875 \nL 6.640625 71.578125 \nL 15.4375 71.578125 \nL 15.4375 61.46875 \nz\nM 6.640625 0 \nL 6.640625 51.859375 \nL 15.4375 51.859375 \nL 15.4375 0 \nz\n\" id=\"ArialMT-105\"/>\n      <path d=\"M 6.59375 0 \nL 6.59375 51.859375 \nL 14.5 51.859375 \nL 14.5 44.484375 \nQ 20.21875 53.03125 31 53.03125 \nQ 35.6875 53.03125 39.625 51.34375 \nQ 43.5625 49.65625 45.515625 46.921875 \nQ 47.46875 44.1875 48.25 40.4375 \nQ 48.734375 37.984375 48.734375 31.890625 \nL 48.734375 0 \nL 39.9375 0 \nL 39.9375 31.546875 \nQ 39.9375 36.921875 38.90625 39.578125 \nQ 37.890625 42.234375 35.28125 43.8125 \nQ 32.671875 45.40625 29.15625 45.40625 \nQ 23.53125 45.40625 19.453125 41.84375 \nQ 15.375 38.28125 15.375 28.328125 \nL 15.375 0 \nz\n\" id=\"ArialMT-110\"/>\n      <path d=\"M 3.328125 25.921875 \nQ 3.328125 40.328125 11.328125 47.265625 \nQ 18.015625 53.03125 27.640625 53.03125 \nQ 38.328125 53.03125 45.109375 46.015625 \nQ 51.90625 39.015625 51.90625 26.65625 \nQ 51.90625 16.65625 48.90625 10.90625 \nQ 45.90625 5.171875 40.15625 2 \nQ 34.421875 -1.171875 27.640625 -1.171875 \nQ 16.75 -1.171875 10.03125 5.8125 \nQ 3.328125 12.796875 3.328125 25.921875 \nz\nM 12.359375 25.921875 \nQ 12.359375 15.96875 16.703125 11.015625 \nQ 21.046875 6.0625 27.640625 6.0625 \nQ 34.1875 6.0625 38.53125 11.03125 \nQ 42.875 16.015625 42.875 26.21875 \nQ 42.875 35.84375 38.5 40.796875 \nQ 34.125 45.75 27.640625 45.75 \nQ 21.046875 45.75 16.703125 40.8125 \nQ 12.359375 35.890625 12.359375 25.921875 \nz\n\" id=\"ArialMT-111\"/>\n      <path d=\"M 6.59375 0 \nL 6.59375 51.859375 \nL 14.453125 51.859375 \nL 14.453125 44.578125 \nQ 16.890625 48.390625 20.9375 50.703125 \nQ 25 53.03125 30.171875 53.03125 \nQ 35.9375 53.03125 39.625 50.640625 \nQ 43.3125 48.25 44.828125 43.953125 \nQ 50.984375 53.03125 60.84375 53.03125 \nQ 68.5625 53.03125 72.703125 48.75 \nQ 76.859375 44.484375 76.859375 35.59375 \nL 76.859375 0 \nL 68.109375 0 \nL 68.109375 32.671875 \nQ 68.109375 37.9375 67.25 40.25 \nQ 66.40625 42.578125 64.15625 43.984375 \nQ 61.921875 45.40625 58.890625 45.40625 \nQ 53.421875 45.40625 49.796875 41.765625 \nQ 46.1875 38.140625 46.1875 30.125 \nL 46.1875 0 \nL 37.40625 0 \nL 37.40625 33.6875 \nQ 37.40625 39.546875 35.25 42.46875 \nQ 33.109375 45.40625 28.21875 45.40625 \nQ 24.515625 45.40625 21.359375 43.453125 \nQ 18.21875 41.5 16.796875 37.734375 \nQ 15.375 33.984375 15.375 26.90625 \nL 15.375 0 \nz\n\" id=\"ArialMT-109\"/>\n      <path d=\"M 40.4375 6.390625 \nQ 35.546875 2.25 31.03125 0.53125 \nQ 26.515625 -1.171875 21.34375 -1.171875 \nQ 12.796875 -1.171875 8.203125 3 \nQ 3.609375 7.171875 3.609375 13.671875 \nQ 3.609375 17.484375 5.34375 20.625 \nQ 7.078125 23.78125 9.890625 25.6875 \nQ 12.703125 27.59375 16.21875 28.5625 \nQ 18.796875 29.25 24.03125 29.890625 \nQ 34.671875 31.15625 39.703125 32.90625 \nQ 39.75 34.71875 39.75 35.203125 \nQ 39.75 40.578125 37.25 42.78125 \nQ 33.890625 45.75 27.25 45.75 \nQ 21.046875 45.75 18.09375 43.578125 \nQ 15.140625 41.40625 13.71875 35.890625 \nL 5.125 37.0625 \nQ 6.296875 42.578125 8.984375 45.96875 \nQ 11.671875 49.359375 16.75 51.1875 \nQ 21.828125 53.03125 28.515625 53.03125 \nQ 35.15625 53.03125 39.296875 51.46875 \nQ 43.453125 49.90625 45.40625 47.53125 \nQ 47.359375 45.171875 48.140625 41.546875 \nQ 48.578125 39.3125 48.578125 33.453125 \nL 48.578125 21.734375 \nQ 48.578125 9.46875 49.140625 6.21875 \nQ 49.703125 2.984375 51.375 0 \nL 42.1875 0 \nQ 40.828125 2.734375 40.4375 6.390625 \nz\nM 39.703125 26.03125 \nQ 34.90625 24.078125 25.34375 22.703125 \nQ 19.921875 21.921875 17.671875 20.9375 \nQ 15.4375 19.96875 14.203125 18.09375 \nQ 12.984375 16.21875 12.984375 13.921875 \nQ 12.984375 10.40625 15.640625 8.0625 \nQ 18.3125 5.71875 23.4375 5.71875 \nQ 28.515625 5.71875 32.46875 7.9375 \nQ 36.421875 10.15625 38.28125 14.015625 \nQ 39.703125 17 39.703125 22.796875 \nz\n\" id=\"ArialMT-97\"/>\n      <path d=\"M 6.390625 0 \nL 6.390625 71.578125 \nL 15.1875 71.578125 \nL 15.1875 0 \nz\n\" id=\"ArialMT-108\"/>\n     </defs>\n     <g style=\"fill:#262626;\" transform=\"translate(353.624687 474.229219)scale(0.12 -0.12)\">\n      <use xlink:href=\"#ArialMT-98\"/>\n      <use x=\"55.615234\" xlink:href=\"#ArialMT-105\"/>\n      <use x=\"77.832031\" xlink:href=\"#ArialMT-110\"/>\n      <use x=\"133.447266\" xlink:href=\"#ArialMT-111\"/>\n      <use x=\"189.0625\" xlink:href=\"#ArialMT-109\"/>\n      <use x=\"272.363281\" xlink:href=\"#ArialMT-105\"/>\n      <use x=\"294.580078\" xlink:href=\"#ArialMT-97\"/>\n      <use x=\"350.195312\" xlink:href=\"#ArialMT-108\"/>\n     </g>\n    </g>\n   </g>\n   <g id=\"matplotlib.axis_2\">\n    <g id=\"ytick_1\">\n     <g id=\"line2d_8\">\n      <path clip-path=\"url(#p60d96c4a06)\" d=\"M 41.168125 442.08 \nL 710.768125 442.08 \n\" style=\"fill:none;stroke:#ffffff;stroke-linecap:round;\"/>\n     </g>\n     <g id=\"text_9\">\n      <!-- 0 -->\n      <g style=\"fill:#262626;\" transform=\"translate(25.551094 446.016797)scale(0.11 -0.11)\">\n       <use xlink:href=\"#ArialMT-48\"/>\n      </g>\n     </g>\n    </g>\n    <g id=\"ytick_2\">\n     <g id=\"line2d_9\">\n      <path clip-path=\"url(#p60d96c4a06)\" d=\"M 41.168125 361.02884 \nL 710.768125 361.02884 \n\" style=\"fill:none;stroke:#ffffff;stroke-linecap:round;\"/>\n     </g>\n     <g id=\"text_10\">\n      <!-- 200 -->\n      <g style=\"fill:#262626;\" transform=\"translate(13.317031 364.965637)scale(0.11 -0.11)\">\n       <use xlink:href=\"#ArialMT-50\"/>\n       <use x=\"55.615234\" xlink:href=\"#ArialMT-48\"/>\n       <use x=\"111.230469\" xlink:href=\"#ArialMT-48\"/>\n      </g>\n     </g>\n    </g>\n    <g id=\"ytick_3\">\n     <g id=\"line2d_10\">\n      <path clip-path=\"url(#p60d96c4a06)\" d=\"M 41.168125 279.97768 \nL 710.768125 279.97768 \n\" style=\"fill:none;stroke:#ffffff;stroke-linecap:round;\"/>\n     </g>\n     <g id=\"text_11\">\n      <!-- 400 -->\n      <defs>\n       <path d=\"M 32.328125 0 \nL 32.328125 17.140625 \nL 1.265625 17.140625 \nL 1.265625 25.203125 \nL 33.9375 71.578125 \nL 41.109375 71.578125 \nL 41.109375 25.203125 \nL 50.78125 25.203125 \nL 50.78125 17.140625 \nL 41.109375 17.140625 \nL 41.109375 0 \nz\nM 32.328125 25.203125 \nL 32.328125 57.46875 \nL 9.90625 25.203125 \nz\n\" id=\"ArialMT-52\"/>\n      </defs>\n      <g style=\"fill:#262626;\" transform=\"translate(13.317031 283.914476)scale(0.11 -0.11)\">\n       <use xlink:href=\"#ArialMT-52\"/>\n       <use x=\"55.615234\" xlink:href=\"#ArialMT-48\"/>\n       <use x=\"111.230469\" xlink:href=\"#ArialMT-48\"/>\n      </g>\n     </g>\n    </g>\n    <g id=\"ytick_4\">\n     <g id=\"line2d_11\">\n      <path clip-path=\"url(#p60d96c4a06)\" d=\"M 41.168125 198.926519 \nL 710.768125 198.926519 \n\" style=\"fill:none;stroke:#ffffff;stroke-linecap:round;\"/>\n     </g>\n     <g id=\"text_12\">\n      <!-- 600 -->\n      <defs>\n       <path d=\"M 49.75 54.046875 \nL 41.015625 53.375 \nQ 39.84375 58.546875 37.703125 60.890625 \nQ 34.125 64.65625 28.90625 64.65625 \nQ 24.703125 64.65625 21.53125 62.3125 \nQ 17.390625 59.28125 14.984375 53.46875 \nQ 12.59375 47.65625 12.5 36.921875 \nQ 15.671875 41.75 20.265625 44.09375 \nQ 24.859375 46.4375 29.890625 46.4375 \nQ 38.671875 46.4375 44.84375 39.96875 \nQ 51.03125 33.5 51.03125 23.25 \nQ 51.03125 16.5 48.125 10.71875 \nQ 45.21875 4.9375 40.140625 1.859375 \nQ 35.0625 -1.21875 28.609375 -1.21875 \nQ 17.625 -1.21875 10.6875 6.859375 \nQ 3.765625 14.9375 3.765625 33.5 \nQ 3.765625 54.25 11.421875 63.671875 \nQ 18.109375 71.875 29.4375 71.875 \nQ 37.890625 71.875 43.28125 67.140625 \nQ 48.6875 62.40625 49.75 54.046875 \nz\nM 13.875 23.1875 \nQ 13.875 18.65625 15.796875 14.5 \nQ 17.71875 10.359375 21.1875 8.171875 \nQ 24.65625 6 28.46875 6 \nQ 34.03125 6 38.03125 10.484375 \nQ 42.046875 14.984375 42.046875 22.703125 \nQ 42.046875 30.125 38.078125 34.390625 \nQ 34.125 38.671875 28.125 38.671875 \nQ 22.171875 38.671875 18.015625 34.390625 \nQ 13.875 30.125 13.875 23.1875 \nz\n\" id=\"ArialMT-54\"/>\n      </defs>\n      <g style=\"fill:#262626;\" transform=\"translate(13.317031 202.863316)scale(0.11 -0.11)\">\n       <use xlink:href=\"#ArialMT-54\"/>\n       <use x=\"55.615234\" xlink:href=\"#ArialMT-48\"/>\n       <use x=\"111.230469\" xlink:href=\"#ArialMT-48\"/>\n      </g>\n     </g>\n    </g>\n    <g id=\"ytick_5\">\n     <g id=\"line2d_12\">\n      <path clip-path=\"url(#p60d96c4a06)\" d=\"M 41.168125 117.875359 \nL 710.768125 117.875359 \n\" style=\"fill:none;stroke:#ffffff;stroke-linecap:round;\"/>\n     </g>\n     <g id=\"text_13\">\n      <!-- 800 -->\n      <defs>\n       <path d=\"M 17.671875 38.8125 \nQ 12.203125 40.828125 9.5625 44.53125 \nQ 6.9375 48.25 6.9375 53.421875 \nQ 6.9375 61.234375 12.546875 66.546875 \nQ 18.171875 71.875 27.484375 71.875 \nQ 36.859375 71.875 42.578125 66.421875 \nQ 48.296875 60.984375 48.296875 53.171875 \nQ 48.296875 48.1875 45.671875 44.5 \nQ 43.0625 40.828125 37.75 38.8125 \nQ 44.34375 36.671875 47.78125 31.875 \nQ 51.21875 27.09375 51.21875 20.453125 \nQ 51.21875 11.28125 44.71875 5.03125 \nQ 38.234375 -1.21875 27.640625 -1.21875 \nQ 17.046875 -1.21875 10.546875 5.046875 \nQ 4.046875 11.328125 4.046875 20.703125 \nQ 4.046875 27.6875 7.59375 32.390625 \nQ 11.140625 37.109375 17.671875 38.8125 \nz\nM 15.921875 53.71875 \nQ 15.921875 48.640625 19.1875 45.40625 \nQ 22.46875 42.1875 27.6875 42.1875 \nQ 32.765625 42.1875 36.015625 45.375 \nQ 39.265625 48.578125 39.265625 53.21875 \nQ 39.265625 58.0625 35.90625 61.359375 \nQ 32.5625 64.65625 27.59375 64.65625 \nQ 22.5625 64.65625 19.234375 61.421875 \nQ 15.921875 58.203125 15.921875 53.71875 \nz\nM 13.09375 20.65625 \nQ 13.09375 16.890625 14.875 13.375 \nQ 16.65625 9.859375 20.171875 7.921875 \nQ 23.6875 6 27.734375 6 \nQ 34.03125 6 38.125 10.046875 \nQ 42.234375 14.109375 42.234375 20.359375 \nQ 42.234375 26.703125 38.015625 30.859375 \nQ 33.796875 35.015625 27.4375 35.015625 \nQ 21.234375 35.015625 17.15625 30.90625 \nQ 13.09375 26.8125 13.09375 20.65625 \nz\n\" id=\"ArialMT-56\"/>\n      </defs>\n      <g style=\"fill:#262626;\" transform=\"translate(13.317031 121.812156)scale(0.11 -0.11)\">\n       <use xlink:href=\"#ArialMT-56\"/>\n       <use x=\"55.615234\" xlink:href=\"#ArialMT-48\"/>\n       <use x=\"111.230469\" xlink:href=\"#ArialMT-48\"/>\n      </g>\n     </g>\n    </g>\n    <g id=\"ytick_6\">\n     <g id=\"line2d_13\">\n      <path clip-path=\"url(#p60d96c4a06)\" d=\"M 41.168125 36.824199 \nL 710.768125 36.824199 \n\" style=\"fill:none;stroke:#ffffff;stroke-linecap:round;\"/>\n     </g>\n     <g id=\"text_14\">\n      <!-- 1000 -->\n      <g style=\"fill:#262626;\" transform=\"translate(7.2 40.760996)scale(0.11 -0.11)\">\n       <use xlink:href=\"#ArialMT-49\"/>\n       <use x=\"55.615234\" xlink:href=\"#ArialMT-48\"/>\n       <use x=\"111.230469\" xlink:href=\"#ArialMT-48\"/>\n       <use x=\"166.845703\" xlink:href=\"#ArialMT-48\"/>\n      </g>\n     </g>\n    </g>\n   </g>\n   <g id=\"patch_3\">\n    <path clip-path=\"url(#p60d96c4a06)\" d=\"M 71.604489 442.08 \nL 91.240852 442.08 \nL 91.240852 441.269488 \nL 71.604489 441.269488 \nz\n\" style=\"fill:#4c72b0;opacity:0.8;stroke:#ffffff;stroke-linejoin:miter;\"/>\n   </g>\n   <g id=\"patch_4\">\n    <path clip-path=\"url(#p60d96c4a06)\" d=\"M 91.240852 442.08 \nL 110.877216 442.08 \nL 110.877216 441.269488 \nL 91.240852 441.269488 \nz\n\" style=\"fill:#4c72b0;opacity:0.8;stroke:#ffffff;stroke-linejoin:miter;\"/>\n   </g>\n   <g id=\"patch_5\">\n    <path clip-path=\"url(#p60d96c4a06)\" d=\"M 110.877216 442.08 \nL 130.51358 442.08 \nL 130.51358 442.08 \nL 110.877216 442.08 \nz\n\" style=\"fill:#4c72b0;opacity:0.8;stroke:#ffffff;stroke-linejoin:miter;\"/>\n   </g>\n   <g id=\"patch_6\">\n    <path clip-path=\"url(#p60d96c4a06)\" d=\"M 130.51358 442.08 \nL 150.149943 442.08 \nL 150.149943 438.432698 \nL 130.51358 438.432698 \nz\n\" style=\"fill:#4c72b0;opacity:0.8;stroke:#ffffff;stroke-linejoin:miter;\"/>\n   </g>\n   <g id=\"patch_7\">\n    <path clip-path=\"url(#p60d96c4a06)\" d=\"M 150.149943 442.08 \nL 169.786307 442.08 \nL 169.786307 433.569628 \nL 150.149943 433.569628 \nz\n\" style=\"fill:#4c72b0;opacity:0.8;stroke:#ffffff;stroke-linejoin:miter;\"/>\n   </g>\n   <g id=\"patch_8\">\n    <path clip-path=\"url(#p60d96c4a06)\" d=\"M 169.786307 442.08 \nL 189.42267 442.08 \nL 189.42267 429.111814 \nL 169.786307 429.111814 \nz\n\" style=\"fill:#4c72b0;opacity:0.8;stroke:#ffffff;stroke-linejoin:miter;\"/>\n   </g>\n   <g id=\"patch_9\">\n    <path clip-path=\"url(#p60d96c4a06)\" d=\"M 189.42267 442.08 \nL 209.059034 442.08 \nL 209.059034 423.438233 \nL 189.42267 423.438233 \nz\n\" style=\"fill:#4c72b0;opacity:0.8;stroke:#ffffff;stroke-linejoin:miter;\"/>\n   </g>\n   <g id=\"patch_10\">\n    <path clip-path=\"url(#p60d96c4a06)\" d=\"M 209.059034 442.08 \nL 228.695398 442.08 \nL 228.695398 394.259815 \nL 209.059034 394.259815 \nz\n\" style=\"fill:#4c72b0;opacity:0.8;stroke:#ffffff;stroke-linejoin:miter;\"/>\n   </g>\n   <g id=\"patch_11\">\n    <path clip-path=\"url(#p60d96c4a06)\" d=\"M 228.695398 442.08 \nL 248.331761 442.08 \nL 248.331761 365.486654 \nL 228.695398 365.486654 \nz\n\" style=\"fill:#4c72b0;opacity:0.8;stroke:#ffffff;stroke-linejoin:miter;\"/>\n   </g>\n   <g id=\"patch_12\">\n    <path clip-path=\"url(#p60d96c4a06)\" d=\"M 248.331761 442.08 \nL 267.968125 442.08 \nL 267.968125 337.118748 \nL 248.331761 337.118748 \nz\n\" style=\"fill:#4c72b0;opacity:0.8;stroke:#ffffff;stroke-linejoin:miter;\"/>\n   </g>\n   <g id=\"patch_13\">\n    <path clip-path=\"url(#p60d96c4a06)\" d=\"M 267.968125 442.08 \nL 287.604489 442.08 \nL 287.604489 284.030238 \nL 267.968125 284.030238 \nz\n\" style=\"fill:#4c72b0;opacity:0.8;stroke:#ffffff;stroke-linejoin:miter;\"/>\n   </g>\n   <g id=\"patch_14\">\n    <path clip-path=\"url(#p60d96c4a06)\" d=\"M 287.604489 442.08 \nL 307.240852 442.08 \nL 307.240852 231.752239 \nL 287.604489 231.752239 \nz\n\" style=\"fill:#4c72b0;opacity:0.8;stroke:#ffffff;stroke-linejoin:miter;\"/>\n   </g>\n   <g id=\"patch_15\">\n    <path clip-path=\"url(#p60d96c4a06)\" d=\"M 307.240852 442.08 \nL 326.877216 442.08 \nL 326.877216 155.969405 \nL 307.240852 155.969405 \nz\n\" style=\"fill:#4c72b0;opacity:0.8;stroke:#ffffff;stroke-linejoin:miter;\"/>\n   </g>\n   <g id=\"patch_16\">\n    <path clip-path=\"url(#p60d96c4a06)\" d=\"M 326.877216 442.08 \nL 346.51358 442.08 \nL 346.51358 117.470103 \nL 326.877216 117.470103 \nz\n\" style=\"fill:#4c72b0;opacity:0.8;stroke:#ffffff;stroke-linejoin:miter;\"/>\n   </g>\n   <g id=\"patch_17\">\n    <path clip-path=\"url(#p60d96c4a06)\" d=\"M 346.51358 442.08 \nL 366.149943 442.08 \nL 366.149943 71.676198 \nL 346.51358 71.676198 \nz\n\" style=\"fill:#4c72b0;opacity:0.8;stroke:#ffffff;stroke-linejoin:miter;\"/>\n   </g>\n   <g id=\"patch_18\">\n    <path clip-path=\"url(#p60d96c4a06)\" d=\"M 366.149943 442.08 \nL 385.786307 442.08 \nL 385.786307 36.824199 \nL 366.149943 36.824199 \nz\n\" style=\"fill:#4c72b0;opacity:0.8;stroke:#ffffff;stroke-linejoin:miter;\"/>\n   </g>\n   <g id=\"patch_19\">\n    <path clip-path=\"url(#p60d96c4a06)\" d=\"M 385.786307 442.08 \nL 405.42267 442.08 \nL 405.42267 40.066245 \nL 385.786307 40.066245 \nz\n\" style=\"fill:#4c72b0;opacity:0.8;stroke:#ffffff;stroke-linejoin:miter;\"/>\n   </g>\n   <g id=\"patch_20\">\n    <path clip-path=\"url(#p60d96c4a06)\" d=\"M 405.42267 442.08 \nL 425.059034 442.08 \nL 425.059034 62.355315 \nL 405.42267 62.355315 \nz\n\" style=\"fill:#4c72b0;opacity:0.8;stroke:#ffffff;stroke-linejoin:miter;\"/>\n   </g>\n   <g id=\"patch_21\">\n    <path clip-path=\"url(#p60d96c4a06)\" d=\"M 425.059034 442.08 \nL 444.695398 442.08 \nL 444.695398 107.338708 \nL 425.059034 107.338708 \nz\n\" style=\"fill:#4c72b0;opacity:0.8;stroke:#ffffff;stroke-linejoin:miter;\"/>\n   </g>\n   <g id=\"patch_22\">\n    <path clip-path=\"url(#p60d96c4a06)\" d=\"M 444.695398 442.08 \nL 464.331761 442.08 \nL 464.331761 181.095264 \nL 444.695398 181.095264 \nz\n\" style=\"fill:#4c72b0;opacity:0.8;stroke:#ffffff;stroke-linejoin:miter;\"/>\n   </g>\n   <g id=\"patch_23\">\n    <path clip-path=\"url(#p60d96c4a06)\" d=\"M 464.331761 442.08 \nL 483.968125 442.08 \nL 483.968125 226.078658 \nL 464.331761 226.078658 \nz\n\" style=\"fill:#4c72b0;opacity:0.8;stroke:#ffffff;stroke-linejoin:miter;\"/>\n   </g>\n   <g id=\"patch_24\">\n    <path clip-path=\"url(#p60d96c4a06)\" d=\"M 483.968125 442.08 \nL 503.604489 442.08 \nL 503.604489 286.461772 \nL 483.968125 286.461772 \nz\n\" style=\"fill:#4c72b0;opacity:0.8;stroke:#ffffff;stroke-linejoin:miter;\"/>\n   </g>\n   <g id=\"patch_25\">\n    <path clip-path=\"url(#p60d96c4a06)\" d=\"M 503.604489 442.08 \nL 523.240852 442.08 \nL 523.240852 327.392608 \nL 503.604489 327.392608 \nz\n\" style=\"fill:#4c72b0;opacity:0.8;stroke:#ffffff;stroke-linejoin:miter;\"/>\n   </g>\n   <g id=\"patch_26\">\n    <path clip-path=\"url(#p60d96c4a06)\" d=\"M 523.240852 442.08 \nL 542.877216 442.08 \nL 542.877216 378.860095 \nL 523.240852 378.860095 \nz\n\" style=\"fill:#4c72b0;opacity:0.8;stroke:#ffffff;stroke-linejoin:miter;\"/>\n   </g>\n   <g id=\"patch_27\">\n    <path clip-path=\"url(#p60d96c4a06)\" d=\"M 542.877216 442.08 \nL 562.51358 442.08 \nL 562.51358 395.880839 \nL 542.877216 395.880839 \nz\n\" style=\"fill:#4c72b0;opacity:0.8;stroke:#ffffff;stroke-linejoin:miter;\"/>\n   </g>\n   <g id=\"patch_28\">\n    <path clip-path=\"url(#p60d96c4a06)\" d=\"M 562.51358 442.08 \nL 582.149943 442.08 \nL 582.149943 419.790931 \nL 562.51358 419.790931 \nz\n\" style=\"fill:#4c72b0;opacity:0.8;stroke:#ffffff;stroke-linejoin:miter;\"/>\n   </g>\n   <g id=\"patch_29\">\n    <path clip-path=\"url(#p60d96c4a06)\" d=\"M 582.149943 442.08 \nL 601.786307 442.08 \nL 601.786307 427.896047 \nL 582.149943 427.896047 \nz\n\" style=\"fill:#4c72b0;opacity:0.8;stroke:#ffffff;stroke-linejoin:miter;\"/>\n   </g>\n   <g id=\"patch_30\">\n    <path clip-path=\"url(#p60d96c4a06)\" d=\"M 601.786307 442.08 \nL 621.42267 442.08 \nL 621.42267 434.785396 \nL 601.786307 434.785396 \nz\n\" style=\"fill:#4c72b0;opacity:0.8;stroke:#ffffff;stroke-linejoin:miter;\"/>\n   </g>\n   <g id=\"patch_31\">\n    <path clip-path=\"url(#p60d96c4a06)\" d=\"M 621.42267 442.08 \nL 641.059034 442.08 \nL 641.059034 437.622186 \nL 621.42267 437.622186 \nz\n\" style=\"fill:#4c72b0;opacity:0.8;stroke:#ffffff;stroke-linejoin:miter;\"/>\n   </g>\n   <g id=\"patch_32\">\n    <path clip-path=\"url(#p60d96c4a06)\" d=\"M 641.059034 442.08 \nL 660.695398 442.08 \nL 660.695398 441.674744 \nL 641.059034 441.674744 \nz\n\" style=\"fill:#4c72b0;opacity:0.8;stroke:#ffffff;stroke-linejoin:miter;\"/>\n   </g>\n   <g id=\"patch_33\">\n    <path clip-path=\"url(#p60d96c4a06)\" d=\"M 660.695398 442.08 \nL 680.331761 442.08 \nL 680.331761 441.674744 \nL 660.695398 441.674744 \nz\n\" style=\"fill:#4c72b0;opacity:0.8;stroke:#ffffff;stroke-linejoin:miter;\"/>\n   </g>\n   <g id=\"patch_34\">\n    <path clip-path=\"url(#p60d96c4a06)\" d=\"M 110.877216 442.08 \nL 130.51358 442.08 \nL 130.51358 441.674744 \nL 110.877216 441.674744 \nz\n\" style=\"fill:#dd8452;opacity:0.5;stroke:#ffffff;stroke-linejoin:miter;\"/>\n   </g>\n   <g id=\"patch_35\">\n    <path clip-path=\"url(#p60d96c4a06)\" d=\"M 130.51358 442.08 \nL 150.149943 442.08 \nL 150.149943 441.674744 \nL 130.51358 441.674744 \nz\n\" style=\"fill:#dd8452;opacity:0.5;stroke:#ffffff;stroke-linejoin:miter;\"/>\n   </g>\n   <g id=\"patch_36\">\n    <path clip-path=\"url(#p60d96c4a06)\" d=\"M 150.149943 442.08 \nL 169.786307 442.08 \nL 169.786307 439.243209 \nL 150.149943 439.243209 \nz\n\" style=\"fill:#dd8452;opacity:0.5;stroke:#ffffff;stroke-linejoin:miter;\"/>\n   </g>\n   <g id=\"patch_37\">\n    <path clip-path=\"url(#p60d96c4a06)\" d=\"M 169.786307 442.08 \nL 189.42267 442.08 \nL 189.42267 438.027442 \nL 169.786307 438.027442 \nz\n\" style=\"fill:#dd8452;opacity:0.5;stroke:#ffffff;stroke-linejoin:miter;\"/>\n   </g>\n   <g id=\"patch_38\">\n    <path clip-path=\"url(#p60d96c4a06)\" d=\"M 189.42267 442.08 \nL 209.059034 442.08 \nL 209.059034 429.922326 \nL 189.42267 429.922326 \nz\n\" style=\"fill:#dd8452;opacity:0.5;stroke:#ffffff;stroke-linejoin:miter;\"/>\n   </g>\n   <g id=\"patch_39\">\n    <path clip-path=\"url(#p60d96c4a06)\" d=\"M 209.059034 442.08 \nL 228.695398 442.08 \nL 228.695398 415.333117 \nL 209.059034 415.333117 \nz\n\" style=\"fill:#dd8452;opacity:0.5;stroke:#ffffff;stroke-linejoin:miter;\"/>\n   </g>\n   <g id=\"patch_40\">\n    <path clip-path=\"url(#p60d96c4a06)\" d=\"M 228.695398 442.08 \nL 248.331761 442.08 \nL 248.331761 384.938932 \nL 228.695398 384.938932 \nz\n\" style=\"fill:#dd8452;opacity:0.5;stroke:#ffffff;stroke-linejoin:miter;\"/>\n   </g>\n   <g id=\"patch_41\">\n    <path clip-path=\"url(#p60d96c4a06)\" d=\"M 248.331761 442.08 \nL 267.968125 442.08 \nL 267.968125 354.950003 \nL 248.331761 354.950003 \nz\n\" style=\"fill:#dd8452;opacity:0.5;stroke:#ffffff;stroke-linejoin:miter;\"/>\n   </g>\n   <g id=\"patch_42\">\n    <path clip-path=\"url(#p60d96c4a06)\" d=\"M 267.968125 442.08 \nL 287.604489 442.08 \nL 287.604489 297.808935 \nL 267.968125 297.808935 \nz\n\" style=\"fill:#dd8452;opacity:0.5;stroke:#ffffff;stroke-linejoin:miter;\"/>\n   </g>\n   <g id=\"patch_43\">\n    <path clip-path=\"url(#p60d96c4a06)\" d=\"M 287.604489 442.08 \nL 307.240852 442.08 \nL 307.240852 262.55168 \nL 287.604489 262.55168 \nz\n\" style=\"fill:#dd8452;opacity:0.5;stroke:#ffffff;stroke-linejoin:miter;\"/>\n   </g>\n   <g id=\"patch_44\">\n    <path clip-path=\"url(#p60d96c4a06)\" d=\"M 307.240852 442.08 \nL 326.877216 442.08 \nL 326.877216 192.442427 \nL 307.240852 192.442427 \nz\n\" style=\"fill:#dd8452;opacity:0.5;stroke:#ffffff;stroke-linejoin:miter;\"/>\n   </g>\n   <g id=\"patch_45\">\n    <path clip-path=\"url(#p60d96c4a06)\" d=\"M 326.877216 442.08 \nL 346.51358 442.08 \nL 346.51358 147.459033 \nL 326.877216 147.459033 \nz\n\" style=\"fill:#dd8452;opacity:0.5;stroke:#ffffff;stroke-linejoin:miter;\"/>\n   </g>\n   <g id=\"patch_46\">\n    <path clip-path=\"url(#p60d96c4a06)\" d=\"M 346.51358 442.08 \nL 366.149943 442.08 \nL 366.149943 74.918244 \nL 346.51358 74.918244 \nz\n\" style=\"fill:#dd8452;opacity:0.5;stroke:#ffffff;stroke-linejoin:miter;\"/>\n   </g>\n   <g id=\"patch_47\">\n    <path clip-path=\"url(#p60d96c4a06)\" d=\"M 366.149943 442.08 \nL 385.786307 442.08 \nL 385.786307 51.413408 \nL 366.149943 51.413408 \nz\n\" style=\"fill:#dd8452;opacity:0.5;stroke:#ffffff;stroke-linejoin:miter;\"/>\n   </g>\n   <g id=\"patch_48\">\n    <path clip-path=\"url(#p60d96c4a06)\" d=\"M 385.786307 442.08 \nL 405.42267 442.08 \nL 405.42267 27.908571 \nL 385.786307 27.908571 \nz\n\" style=\"fill:#dd8452;opacity:0.5;stroke:#ffffff;stroke-linejoin:miter;\"/>\n   </g>\n   <g id=\"patch_49\">\n    <path clip-path=\"url(#p60d96c4a06)\" d=\"M 405.42267 442.08 \nL 425.059034 442.08 \nL 425.059034 61.950059 \nL 405.42267 61.950059 \nz\n\" style=\"fill:#dd8452;opacity:0.5;stroke:#ffffff;stroke-linejoin:miter;\"/>\n   </g>\n   <g id=\"patch_50\">\n    <path clip-path=\"url(#p60d96c4a06)\" d=\"M 425.059034 442.08 \nL 444.695398 442.08 \nL 444.695398 91.533732 \nL 425.059034 91.533732 \nz\n\" style=\"fill:#dd8452;opacity:0.5;stroke:#ffffff;stroke-linejoin:miter;\"/>\n   </g>\n   <g id=\"patch_51\">\n    <path clip-path=\"url(#p60d96c4a06)\" d=\"M 444.695398 442.08 \nL 464.331761 442.08 \nL 464.331761 147.459033 \nL 444.695398 147.459033 \nz\n\" style=\"fill:#dd8452;opacity:0.5;stroke:#ffffff;stroke-linejoin:miter;\"/>\n   </g>\n   <g id=\"patch_52\">\n    <path clip-path=\"url(#p60d96c4a06)\" d=\"M 464.331761 442.08 \nL 483.968125 442.08 \nL 483.968125 206.62638 \nL 464.331761 206.62638 \nz\n\" style=\"fill:#dd8452;opacity:0.5;stroke:#ffffff;stroke-linejoin:miter;\"/>\n   </g>\n   <g id=\"patch_53\">\n    <path clip-path=\"url(#p60d96c4a06)\" d=\"M 483.968125 442.08 \nL 503.604489 442.08 \nL 503.604489 255.257076 \nL 483.968125 255.257076 \nz\n\" style=\"fill:#dd8452;opacity:0.5;stroke:#ffffff;stroke-linejoin:miter;\"/>\n   </g>\n   <g id=\"patch_54\">\n    <path clip-path=\"url(#p60d96c4a06)\" d=\"M 503.604489 442.08 \nL 523.240852 442.08 \nL 523.240852 307.535074 \nL 503.604489 307.535074 \nz\n\" style=\"fill:#dd8452;opacity:0.5;stroke:#ffffff;stroke-linejoin:miter;\"/>\n   </g>\n   <g id=\"patch_55\">\n    <path clip-path=\"url(#p60d96c4a06)\" d=\"M 523.240852 442.08 \nL 542.877216 442.08 \nL 542.877216 355.355259 \nL 523.240852 355.355259 \nz\n\" style=\"fill:#dd8452;opacity:0.5;stroke:#ffffff;stroke-linejoin:miter;\"/>\n   </g>\n   <g id=\"patch_56\">\n    <path clip-path=\"url(#p60d96c4a06)\" d=\"M 542.877216 442.08 \nL 562.51358 442.08 \nL 562.51358 380.886374 \nL 542.877216 380.886374 \nz\n\" style=\"fill:#dd8452;opacity:0.5;stroke:#ffffff;stroke-linejoin:miter;\"/>\n   </g>\n   <g id=\"patch_57\">\n    <path clip-path=\"url(#p60d96c4a06)\" d=\"M 562.51358 442.08 \nL 582.149943 442.08 \nL 582.149943 404.796466 \nL 562.51358 404.796466 \nz\n\" style=\"fill:#dd8452;opacity:0.5;stroke:#ffffff;stroke-linejoin:miter;\"/>\n   </g>\n   <g id=\"patch_58\">\n    <path clip-path=\"url(#p60d96c4a06)\" d=\"M 582.149943 442.08 \nL 601.786307 442.08 \nL 601.786307 419.385675 \nL 582.149943 419.385675 \nz\n\" style=\"fill:#dd8452;opacity:0.5;stroke:#ffffff;stroke-linejoin:miter;\"/>\n   </g>\n   <g id=\"patch_59\">\n    <path clip-path=\"url(#p60d96c4a06)\" d=\"M 601.786307 442.08 \nL 621.42267 442.08 \nL 621.42267 426.275024 \nL 601.786307 426.275024 \nz\n\" style=\"fill:#dd8452;opacity:0.5;stroke:#ffffff;stroke-linejoin:miter;\"/>\n   </g>\n   <g id=\"patch_60\">\n    <path clip-path=\"url(#p60d96c4a06)\" d=\"M 621.42267 442.08 \nL 641.059034 442.08 \nL 641.059034 432.353861 \nL 621.42267 432.353861 \nz\n\" style=\"fill:#dd8452;opacity:0.5;stroke:#ffffff;stroke-linejoin:miter;\"/>\n   </g>\n   <g id=\"patch_61\">\n    <path clip-path=\"url(#p60d96c4a06)\" d=\"M 641.059034 442.08 \nL 660.695398 442.08 \nL 660.695398 438.837954 \nL 641.059034 438.837954 \nz\n\" style=\"fill:#dd8452;opacity:0.5;stroke:#ffffff;stroke-linejoin:miter;\"/>\n   </g>\n   <g id=\"patch_62\">\n    <path clip-path=\"url(#p60d96c4a06)\" d=\"M 660.695398 442.08 \nL 680.331761 442.08 \nL 680.331761 440.458977 \nL 660.695398 440.458977 \nz\n\" style=\"fill:#dd8452;opacity:0.5;stroke:#ffffff;stroke-linejoin:miter;\"/>\n   </g>\n   <g id=\"patch_63\">\n    <path d=\"M 41.168125 442.08 \nL 41.168125 7.2 \n\" style=\"fill:none;stroke:#ffffff;stroke-linecap:square;stroke-linejoin:miter;stroke-width:1.25;\"/>\n   </g>\n   <g id=\"patch_64\">\n    <path d=\"M 710.768125 442.08 \nL 710.768125 7.2 \n\" style=\"fill:none;stroke:#ffffff;stroke-linecap:square;stroke-linejoin:miter;stroke-width:1.25;\"/>\n   </g>\n   <g id=\"patch_65\">\n    <path d=\"M 41.168125 442.08 \nL 710.768125 442.08 \n\" style=\"fill:none;stroke:#ffffff;stroke-linecap:square;stroke-linejoin:miter;stroke-width:1.25;\"/>\n   </g>\n   <g id=\"patch_66\">\n    <path d=\"M 41.168125 7.2 \nL 710.768125 7.2 \n\" style=\"fill:none;stroke:#ffffff;stroke-linecap:square;stroke-linejoin:miter;stroke-width:1.25;\"/>\n   </g>\n  </g>\n </g>\n <defs>\n  <clipPath id=\"p60d96c4a06\">\n   <rect height=\"434.88\" width=\"669.6\" x=\"41.168125\" y=\"7.2\"/>\n  </clipPath>\n </defs>\n</svg>\n",
      "image/png": "[encoded data removed]"
     },
     "metadata": {}
    }
   ],
   "source": [
    "norm_min = round(df.normal.min())\n",
    "norm_max = round(df.binomial.max())\n",
    "binom_min = round(df.binomial.min())\n",
    "binom_max = round(df.binomial.max())\n",
    "#sns.distplot(df.normal, bins=range(norm_min, norm_max), kde=False, hist_kws={\"alpha\": 0.8});\n",
    "#sns.distplot(df.binomial, bins=range(binom_min, binom_max), kde=False, hist_kws={\"alpha\": 0.5});"
   ]
  },
  {
   "cell_type": "code",
   "execution_count": null,
   "metadata": {},
   "outputs": [],
   "source": []
  },
  {
   "cell_type": "code",
   "execution_count": 60,
   "metadata": {},
   "outputs": [
    {
     "output_type": "execute_result",
     "data": {
      "text/plain": "0.6826894921370859"
     },
     "metadata": {},
     "execution_count": 60
    }
   ],
   "source": [
    "media = df.normal.mean()\n",
    "desvio_p = df.normal.std()\n",
    "prob_inf = sct.norm.cdf((media-desvio_p),media,desvio_p)\n",
    "prob_sup = sct.norm.cdf((media+desvio_p),media,desvio_p)\n",
    "prob_sup - prob_inf"
   ]
  },
  {
   "cell_type": "code",
   "execution_count": 87,
   "metadata": {},
   "outputs": [
    {
     "output_type": "execute_result",
     "data": {
      "text/plain": "0.6838"
     },
     "metadata": {},
     "execution_count": 87
    }
   ],
   "source": [
    "ecdf = ECDF(dataframe.normal)\n",
    "media = dataframe.normal.mean()\n",
    "desvio_p = dataframe.normal.std()\n",
    "prob_inf = ecdf(media-desvio_p)\n",
    "prob_sup = ecdf(media+desvio_p)\n",
    "prob_sup - prob_inf"
   ]
  },
  {
   "cell_type": "code",
   "execution_count": 70,
   "metadata": {},
   "outputs": [
    {
     "output_type": "execute_result",
     "data": {
      "text/plain": "19.991456066526293"
     },
     "metadata": {},
     "execution_count": 70
    }
   ],
   "source": [
    "df.normal.mean()"
   ]
  },
  {
   "cell_type": "code",
   "execution_count": 10,
   "metadata": {},
   "outputs": [
    {
     "output_type": "execute_result",
     "data": {
      "text/plain": "(0.106, 0.22)"
     },
     "metadata": {},
     "execution_count": 10
    }
   ],
   "source": [
    "normal_m_v = pd.Series((df.normal.mean(), df.normal.var()))\n",
    "binomial_m_v = pd.Series((df.binomial.mean(), df.binomial.var()))\n",
    "tuple((binomial_m_v - normal_m_v).round(3))"
   ]
  },
  {
   "cell_type": "markdown",
   "metadata": {},
   "source": [
    "## Questão 1\n",
    "\n",
    "Qual a diferença entre os quartis (Q1, Q2 e Q3) das variáveis `normal` e `binomial` de `dataframe`? Responda como uma tupla de três elementos arredondados para três casas decimais.\n",
    "\n",
    "Em outra palavras, sejam `q1_norm`, `q2_norm` e `q3_norm` os quantis da variável `normal` e `q1_binom`, `q2_binom` e `q3_binom` os quantis da variável `binom`, qual a diferença `(q1_norm - q1 binom, q2_norm - q2_binom, q3_norm - q3_binom)`?"
   ]
  },
  {
   "cell_type": "code",
   "execution_count": 89,
   "metadata": {},
   "outputs": [],
   "source": [
    "def q1():\n",
    "    # Retorne aqui o resultado da questão 1.\n",
    "    binomial_qts = dataframe.binomial.quantile([0.25, 0.50, 0.75])\n",
    "    normal_qts = dataframe.normal.quantile([0.25, 0.50, 0.75])\n",
    "    \n",
    "    return tuple((normal_qts - binomial_qts).round(3))"
   ]
  },
  {
   "cell_type": "markdown",
   "metadata": {},
   "source": [
    "Para refletir:\n",
    "\n",
    "* Você esperava valores dessa magnitude?\n",
    "\n",
    "* Você é capaz de explicar como distribuições aparentemente tão diferentes (discreta e contínua, por exemplo) conseguem dar esses valores?"
   ]
  },
  {
   "cell_type": "markdown",
   "metadata": {},
   "source": [
    "## Questão 2\n",
    "\n",
    "Considere o intervalo $[\\bar{x} - s, \\bar{x} + s]$, onde $\\bar{x}$ é a média amostral e $s$ é o desvio padrão. Qual a probabilidade nesse intervalo, calculada pela função de distribuição acumulada empírica (CDF empírica) da variável `normal`? Responda como uma único escalar arredondado para três casas decimais."
   ]
  },
  {
   "cell_type": "code",
   "execution_count": 88,
   "metadata": {},
   "outputs": [],
   "source": [
    "def q2():\n",
    "    # Retorne aqui o resultado da questão 2.\n",
    "    media = dataframe.normal.mean()\n",
    "    desvio_p = dataframe.normal.std()\n",
    "    ecdf = ECDF(dataframe.normal)\n",
    "\n",
    "    prob_inf = ecdf(media-desvio_p)\n",
    "    prob_sup = ecdf(media+desvio_p)\n",
    "\n",
    "    return float(prob_sup - prob_inf)"
   ]
  },
  {
   "cell_type": "markdown",
   "metadata": {},
   "source": [
    "Para refletir:\n",
    "\n",
    "* Esse valor se aproxima do esperado teórico?\n",
    "* Experimente também para os intervalos $[\\bar{x} - 2s, \\bar{x} + 2s]$ e $[\\bar{x} - 3s, \\bar{x} + 3s]$."
   ]
  },
  {
   "cell_type": "markdown",
   "metadata": {},
   "source": [
    "## Questão 3\n",
    "\n",
    "Qual é a diferença entre as médias e as variâncias das variáveis `binomial` e `normal`? Responda como uma tupla de dois elementos arredondados para três casas decimais.\n",
    "\n",
    "Em outras palavras, sejam `m_binom` e `v_binom` a média e a variância da variável `binomial`, e `m_norm` e `v_norm` a média e a variância da variável `normal`. Quais as diferenças `(m_binom - m_norm, v_binom - v_norm)`?"
   ]
  },
  {
   "cell_type": "code",
   "execution_count": 13,
   "metadata": {},
   "outputs": [],
   "source": [
    "def q3():\n",
    "    # Retorne aqui o resultado da questão 3.\n",
    "    normal_m_v = pd.Series((dataframe.normal.mean(), dataframe.normal.var()))\n",
    "    binomial_m_v = pd.Series((dataframe.binomial.mean(), dataframe.binomial.var()))\n",
    "    return tuple((binomial_m_v - normal_m_v).round(3))"
   ]
  },
  {
   "cell_type": "markdown",
   "metadata": {},
   "source": [
    "Para refletir:\n",
    "\n",
    "* Você esperava valore dessa magnitude?\n",
    "* Qual o efeito de aumentar ou diminuir $n$ (atualmente 100) na distribuição da variável `binomial`?"
   ]
  },
  {
   "cell_type": "markdown",
   "metadata": {},
   "source": [
    "## Parte 2"
   ]
  },
  {
   "cell_type": "markdown",
   "metadata": {},
   "source": [
    "### _Setup_ da parte 2"
   ]
  },
  {
   "cell_type": "code",
   "execution_count": 14,
   "metadata": {},
   "outputs": [],
   "source": [
    "stars = pd.read_csv(\"pulsar_stars.csv\")\n",
    "\n",
    "stars.rename({old_name: new_name\n",
    "              for (old_name, new_name)\n",
    "              in zip(stars.columns,\n",
    "                     [\"mean_profile\", \"sd_profile\", \"kurt_profile\", \"skew_profile\", \"mean_curve\", \"sd_curve\", \"kurt_curve\", \"skew_curve\", \"target\"])\n",
    "             },\n",
    "             axis=1, inplace=True)\n",
    "\n",
    "stars.loc[:, \"target\"] = stars.target.astype(bool)"
   ]
  },
  {
   "cell_type": "markdown",
   "metadata": {},
   "source": [
    "## Inicie sua análise da parte 2 a partir daqui"
   ]
  },
  {
   "cell_type": "code",
   "execution_count": 23,
   "metadata": {
    "tags": []
   },
   "outputs": [
    {
     "output_type": "stream",
     "name": "stdout",
     "text": "<class 'pandas.core.frame.DataFrame'>\nRangeIndex: 17897 entries, 0 to 17896\nData columns (total 9 columns):\n #   Column        Non-Null Count  Dtype  \n---  ------        --------------  -----  \n 0   mean_profile  17897 non-null  float64\n 1   sd_profile    17897 non-null  float64\n 2   kurt_profile  17897 non-null  float64\n 3   skew_profile  17897 non-null  float64\n 4   mean_curve    17897 non-null  float64\n 5   sd_curve      17897 non-null  float64\n 6   kurt_curve    17897 non-null  float64\n 7   skew_curve    17897 non-null  float64\n 8   target        17897 non-null  bool   \ndtypes: bool(1), float64(8)\nmemory usage: 1.1 MB\n"
    }
   ],
   "source": [
    "stars.info()"
   ]
  },
  {
   "cell_type": "code",
   "execution_count": 24,
   "metadata": {},
   "outputs": [
    {
     "output_type": "execute_result",
     "data": {
      "text/plain": "       mean_profile    sd_profile  kurt_profile  skew_profile    mean_curve  \\\ncount  17897.000000  17897.000000  17897.000000  17897.000000  17897.000000   \nmean     111.078321     46.549021      0.477897      1.770417     12.614926   \nstd       25.652705      6.843040      1.064056      6.168058     29.473637   \nmin        5.812500     24.772042     -1.876011     -1.791886      0.213211   \n25%      100.929688     42.375426      0.027108     -0.188528      1.923077   \n50%      115.078125     46.946435      0.223241      0.198736      2.801839   \n75%      127.085938     51.022887      0.473349      0.928206      5.464883   \nmax      192.617188     98.778911      8.069522     68.101622    223.392140   \n\n           sd_curve    kurt_curve    skew_curve  \ncount  17897.000000  17897.000000  17897.000000  \nmean      26.326918      8.303574    104.859419  \nstd       19.471042      4.506217    106.517270  \nmin        7.370432     -3.139270     -1.976976  \n25%       14.437330      5.781485     34.957119  \n50%       18.459977      8.433872     83.068996  \n75%       28.428152     10.702973    139.310905  \nmax      110.642211     34.539844   1191.000837  ",
      "text/html": "<div>\n<style scoped>\n    .dataframe tbody tr th:only-of-type {\n        vertical-align: middle;\n    }\n\n    .dataframe tbody tr th {\n        vertical-align: top;\n    }\n\n    .dataframe thead th {\n        text-align: right;\n    }\n</style>\n<table border=\"1\" class=\"dataframe\">\n  <thead>\n    <tr style=\"text-align: right;\">\n      <th></th>\n      <th>mean_profile</th>\n      <th>sd_profile</th>\n      <th>kurt_profile</th>\n      <th>skew_profile</th>\n      <th>mean_curve</th>\n      <th>sd_curve</th>\n      <th>kurt_curve</th>\n      <th>skew_curve</th>\n    </tr>\n  </thead>\n  <tbody>\n    <tr>\n      <th>count</th>\n      <td>17897.000000</td>\n      <td>17897.000000</td>\n      <td>17897.000000</td>\n      <td>17897.000000</td>\n      <td>17897.000000</td>\n      <td>17897.000000</td>\n      <td>17897.000000</td>\n      <td>17897.000000</td>\n    </tr>\n    <tr>\n      <th>mean</th>\n      <td>111.078321</td>\n      <td>46.549021</td>\n      <td>0.477897</td>\n      <td>1.770417</td>\n      <td>12.614926</td>\n      <td>26.326918</td>\n      <td>8.303574</td>\n      <td>104.859419</td>\n    </tr>\n    <tr>\n      <th>std</th>\n      <td>25.652705</td>\n      <td>6.843040</td>\n      <td>1.064056</td>\n      <td>6.168058</td>\n      <td>29.473637</td>\n      <td>19.471042</td>\n      <td>4.506217</td>\n      <td>106.517270</td>\n    </tr>\n    <tr>\n      <th>min</th>\n      <td>5.812500</td>\n      <td>24.772042</td>\n      <td>-1.876011</td>\n      <td>-1.791886</td>\n      <td>0.213211</td>\n      <td>7.370432</td>\n      <td>-3.139270</td>\n      <td>-1.976976</td>\n    </tr>\n    <tr>\n      <th>25%</th>\n      <td>100.929688</td>\n      <td>42.375426</td>\n      <td>0.027108</td>\n      <td>-0.188528</td>\n      <td>1.923077</td>\n      <td>14.437330</td>\n      <td>5.781485</td>\n      <td>34.957119</td>\n    </tr>\n    <tr>\n      <th>50%</th>\n      <td>115.078125</td>\n      <td>46.946435</td>\n      <td>0.223241</td>\n      <td>0.198736</td>\n      <td>2.801839</td>\n      <td>18.459977</td>\n      <td>8.433872</td>\n      <td>83.068996</td>\n    </tr>\n    <tr>\n      <th>75%</th>\n      <td>127.085938</td>\n      <td>51.022887</td>\n      <td>0.473349</td>\n      <td>0.928206</td>\n      <td>5.464883</td>\n      <td>28.428152</td>\n      <td>10.702973</td>\n      <td>139.310905</td>\n    </tr>\n    <tr>\n      <th>max</th>\n      <td>192.617188</td>\n      <td>98.778911</td>\n      <td>8.069522</td>\n      <td>68.101622</td>\n      <td>223.392140</td>\n      <td>110.642211</td>\n      <td>34.539844</td>\n      <td>1191.000837</td>\n    </tr>\n  </tbody>\n</table>\n</div>"
     },
     "metadata": {},
     "execution_count": 24
    }
   ],
   "source": [
    "stars.describe()"
   ]
  },
  {
   "cell_type": "code",
   "execution_count": 46,
   "metadata": {},
   "outputs": [
    {
     "output_type": "execute_result",
     "data": {
      "text/plain": "0   -0.647153\n1    0.039859\n2    0.670655\ndtype: float64"
     },
     "metadata": {},
     "execution_count": 46
    }
   ],
   "source": [
    "aux = stars[stars['target']==False]['mean_profile']\n",
    "false_pulsar_mean_profile_standardized = (aux - aux.mean())/aux.std()\n",
    "prof_q1 = false_pulsar_mean_profile_standardized.quantile(.25)\n",
    "prof_q2 = false_pulsar_mean_profile_standardized.quantile(.50)\n",
    "prof_q3 = false_pulsar_mean_profile_standardized.quantile(.75)\n",
    "prof_qs = pd.Series((prof_q1, prof_q2, prof_q3))\n",
    "prof_qs"
   ]
  },
  {
   "cell_type": "code",
   "execution_count": 91,
   "metadata": {},
   "outputs": [
    {
     "output_type": "execute_result",
     "data": {
      "text/plain": "0       -0.804181\n1       -0.775123\n2        1.155263\n3       -1.592787\n4       -1.315613\n           ...   \n17892    1.136934\n17893    0.342963\n17894    0.158776\n17895   -0.117504\n17896   -3.404704\nName: mean_profile, Length: 16258, dtype: float64"
     },
     "metadata": {},
     "execution_count": 91
    }
   ],
   "source": [
    "aux = stars[stars['target']==False]['mean_profile']\n",
    "false_pulsar_mean_profile_standardized = (aux - aux.mean())/aux.std()\n",
    "false_pulsar_mean_profile_standardized"
   ]
  },
  {
   "cell_type": "code",
   "execution_count": 92,
   "metadata": {},
   "outputs": [
    {
     "output_type": "execute_result",
     "data": {
      "text/plain": "(0.8416212335729143, 1.2815515655446004, 1.6448536269514722)"
     },
     "metadata": {},
     "execution_count": 92
    }
   ],
   "source": [
    "quant_80 = sct.norm.ppf(0.80, loc=0, scale=1)\n",
    "quant_90 = sct.norm.ppf(0.90, loc=0, scale=1)\n",
    "quant_95 = sct.norm.ppf(0.95, loc=0, scale=1)\n",
    "quant_80, quant_90, quant_95"
   ]
  },
  {
   "cell_type": "code",
   "execution_count": 95,
   "metadata": {},
   "outputs": [
    {
     "output_type": "execute_result",
     "data": {
      "text/plain": "(0.806, 0.911, 0.959)"
     },
     "metadata": {},
     "execution_count": 95
    }
   ],
   "source": [
    "ecdf = ECDF(false_pulsar_mean_profile_standardized)\n",
    "pdf_80 = round(ecdf(quant_80), 3)\n",
    "pdf_90 = round(ecdf(quant_90), 3)\n",
    "pdf_95 = round(ecdf(quant_95), 3)\n",
    "pdf_80, pdf_90, pdf_95"
   ]
  },
  {
   "cell_type": "code",
   "execution_count": 47,
   "metadata": {},
   "outputs": [
    {
     "output_type": "execute_result",
     "data": {
      "text/plain": "0   -0.67449\n1    0.00000\n2    0.67449\ndtype: float64"
     },
     "metadata": {},
     "execution_count": 47
    }
   ],
   "source": [
    "dist_norm_q1 = sct.norm.ppf(0.25, loc=0, scale=1)\n",
    "dist_norm_q2 = sct.norm.ppf(0.50, loc=0, scale=1)\n",
    "dist_norm_q3 = sct.norm.ppf(0.75, loc=0, scale=1)\n",
    "dist_nomr_qs = pd.Series((dist_norm_q1, dist_norm_q2, dist_norm_q3))\n",
    "dist_nomr_qs"
   ]
  },
  {
   "cell_type": "code",
   "execution_count": 52,
   "metadata": {},
   "outputs": [
    {
     "output_type": "execute_result",
     "data": {
      "text/plain": "(0.027, 0.04, -0.004)"
     },
     "metadata": {},
     "execution_count": 52
    }
   ],
   "source": [
    "tuple((prof_qs - dist_nomr_qs).round(3))"
   ]
  },
  {
   "cell_type": "markdown",
   "metadata": {},
   "source": [
    "## Questão 4\n",
    "\n",
    "Considerando a variável `mean_profile` de `stars`:\n",
    "\n",
    "1. Filtre apenas os valores de `mean_profile` onde `target == 0` (ou seja, onde a estrela não é um pulsar).\n",
    "2. Padronize a variável `mean_profile` filtrada anteriormente para ter média 0 e variância 1.\n",
    "\n",
    "Chamaremos a variável resultante de `false_pulsar_mean_profile_standardized`.\n",
    "\n",
    "Encontre os quantis teóricos para uma distribuição normal de média 0 e variância 1 para 0.80, 0.90 e 0.95 através da função `norm.ppf()` disponível em `scipy.stats`.\n",
    "\n",
    "Quais as probabilidade associadas a esses quantis utilizando a CDF empírica da variável `false_pulsar_mean_profile_standardized`? Responda como uma tupla de três elementos arredondados para três casas decimais."
   ]
  },
  {
   "cell_type": "code",
   "execution_count": 96,
   "metadata": {},
   "outputs": [],
   "source": [
    "def q4():\n",
    "    # Retorne aqui o resultado da questão 4.\n",
    "    aux = stars[stars['target']==False]['mean_profile']\n",
    "    false_pulsar_mean_profile_standardized = (aux - aux.mean())/aux.std()\n",
    "\n",
    "    quant_80 = sct.norm.ppf(0.80, loc=0, scale=1)\n",
    "    quant_90 = sct.norm.ppf(0.90, loc=0, scale=1)\n",
    "    quant_95 = sct.norm.ppf(0.95, loc=0, scale=1)\n",
    "\n",
    "    ecdf = ECDF(false_pulsar_mean_profile_standardized)\n",
    "    pdf_80 = round(ecdf(quant_80), 3)\n",
    "    pdf_90 = round(ecdf(quant_90), 3)\n",
    "    pdf_95 = round(ecdf(quant_95), 3)\n",
    "    \n",
    "    return (pdf_80, pdf_90, pdf_95)"
   ]
  },
  {
   "cell_type": "markdown",
   "metadata": {},
   "source": [
    "Para refletir:\n",
    "\n",
    "* Os valores encontrados fazem sentido?\n",
    "* O que isso pode dizer sobre a distribuição da variável `false_pulsar_mean_profile_standardized`?"
   ]
  },
  {
   "cell_type": "markdown",
   "metadata": {},
   "source": [
    "## Questão 5\n",
    "\n",
    "Qual a diferença entre os quantis Q1, Q2 e Q3 de `false_pulsar_mean_profile_standardized` e os mesmos quantis teóricos de uma distribuição normal de média 0 e variância 1? Responda como uma tupla de três elementos arredondados para três casas decimais."
   ]
  },
  {
   "cell_type": "code",
   "execution_count": 55,
   "metadata": {},
   "outputs": [],
   "source": [
    "def q5():\n",
    "    # Retorne aqui o resultado da questão 5.\n",
    "    aux = stars[stars['target']==False]['mean_profile']\n",
    "    false_pulsar_mean_profile_standardized = (aux - aux.mean())/aux.std()\n",
    "\n",
    "    prof_q1 = false_pulsar_mean_profile_standardized.quantile(.25)\n",
    "    prof_q2 = false_pulsar_mean_profile_standardized.quantile(.50)\n",
    "    prof_q3 = false_pulsar_mean_profile_standardized.quantile(.75)\n",
    "    prof_qs = pd.Series((prof_q1, prof_q2, prof_q3))\n",
    "    \n",
    "    dist_norm_q1 = sct.norm.ppf(0.25, loc=0, scale=1)\n",
    "    dist_norm_q2 = sct.norm.ppf(0.50, loc=0, scale=1)\n",
    "    dist_norm_q3 = sct.norm.ppf(0.75, loc=0, scale=1)\n",
    "    dist_nomr_qs = pd.Series((dist_norm_q1, dist_norm_q2, dist_norm_q3))\n",
    "    \n",
    "    return tuple((prof_qs - dist_nomr_qs).round(3))"
   ]
  },
  {
   "cell_type": "markdown",
   "metadata": {},
   "source": [
    "Para refletir:\n",
    "\n",
    "* Os valores encontrados fazem sentido?\n",
    "* O que isso pode dizer sobre a distribuição da variável `false_pulsar_mean_profile_standardized`?\n",
    "* Curiosidade: alguns testes de hipóteses sobre normalidade dos dados utilizam essa mesma abordagem."
   ]
  }
 ],
 "metadata": {
  "kernelspec": {
   "display_name": "Python 3",
   "language": "python",
   "name": "python3"
  },
  "language_info": {
   "codemirror_mode": {
    "name": "ipython",
    "version": 3
   },
   "file_extension": ".py",
   "mimetype": "text/x-python",
   "name": "python",
   "nbconvert_exporter": "python",
   "pygments_lexer": "ipython3",
   "version": "3.7.7-final"
  }
 },
 "nbformat": 4,
 "nbformat_minor": 2
}